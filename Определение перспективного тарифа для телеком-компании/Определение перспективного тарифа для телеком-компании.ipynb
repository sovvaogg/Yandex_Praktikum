{
 "cells": [
  {
   "cell_type": "markdown",
   "metadata": {},
   "source": [
    "# Определение перспективного тарифа для телеком компании"
   ]
  },
  {
   "cell_type": "markdown",
   "metadata": {},
   "source": [
    "#### Клиентам предлагают два тарифных плана: «Смарт» и «Ультра». Чтобы скорректировать рекламный бюджет, коммерческий департамент хочет понять, какой тариф приносит больше денег.\n",
    "#### Нам предстоит сделать предварительный анализ тарифов на небольшой выборке клиентов. В нашем распоряжении данные 500 пользователей «Мегалайна»: кто они, откуда, каким тарифом пользуются, сколько звонков и сообщений каждый отправил за 2018 год. Нужно проанализировать поведение клиентов и сделать вывод — какой тариф лучше."
   ]
  },
  {
   "cell_type": "markdown",
   "metadata": {},
   "source": [
    "### Оглавление:\n",
    "* [Изучение общей информации](#step1)\n",
    "* [Подготовка данных](#step2)\n",
    "* [Анализ данных](#step3)\n",
    "* [Проверка гипотез](#step4)\n",
    "* [Выводы](#step5)"
   ]
  },
  {
   "cell_type": "markdown",
   "metadata": {},
   "source": [
    "## Шаг 1. Откроем файлы и изучим общую информацию.<a class=\"anchor\" id=\"step1\"></a>\n",
    "Импортируем нужные библиотеки, читаем файлы, смотрим общую информацию по таблицам."
   ]
  },
  {
   "cell_type": "code",
   "execution_count": 1,
   "metadata": {},
   "outputs": [],
   "source": [
    "from scipy import stats as st\n",
    "import pandas as pd\n",
    "import numpy as np\n",
    "import matplotlib.pyplot as plt\n",
    "from math import *"
   ]
  },
  {
   "cell_type": "code",
   "execution_count": 2,
   "metadata": {},
   "outputs": [],
   "source": [
    "calls = pd.read_csv('/datasets/calls.csv')\n",
    "internet = pd.read_csv('/datasets/internet.csv')\n",
    "messages = pd.read_csv('/datasets/messages.csv')\n",
    "tariffs = pd.read_csv('/datasets/tariffs.csv')\n",
    "users = pd.read_csv('/datasets/users.csv')"
   ]
  },
  {
   "cell_type": "code",
   "execution_count": 3,
   "metadata": {},
   "outputs": [
    {
     "name": "stdout",
     "output_type": "stream",
     "text": [
      "<class 'pandas.core.frame.DataFrame'>\n",
      "RangeIndex: 202607 entries, 0 to 202606\n",
      "Data columns (total 4 columns):\n",
      "id           202607 non-null object\n",
      "call_date    202607 non-null object\n",
      "duration     202607 non-null float64\n",
      "user_id      202607 non-null int64\n",
      "dtypes: float64(1), int64(1), object(2)\n",
      "memory usage: 6.2+ MB\n",
      "None\n",
      "       id   call_date  duration  user_id\n",
      "0  1000_0  2018-07-25      0.00     1000\n",
      "1  1000_1  2018-08-17      0.00     1000\n",
      "2  1000_2  2018-06-11      2.85     1000\n",
      "3  1000_3  2018-09-21     13.80     1000\n",
      "4  1000_4  2018-12-15      5.18     1000\n",
      "\n",
      "\n",
      "<class 'pandas.core.frame.DataFrame'>\n",
      "RangeIndex: 149396 entries, 0 to 149395\n",
      "Data columns (total 5 columns):\n",
      "Unnamed: 0      149396 non-null int64\n",
      "id              149396 non-null object\n",
      "mb_used         149396 non-null float64\n",
      "session_date    149396 non-null object\n",
      "user_id         149396 non-null int64\n",
      "dtypes: float64(1), int64(2), object(2)\n",
      "memory usage: 5.7+ MB\n",
      "None\n",
      "   Unnamed: 0      id  mb_used session_date  user_id\n",
      "0           0  1000_0   112.95   2018-11-25     1000\n",
      "1           1  1000_1  1052.81   2018-09-07     1000\n",
      "2           2  1000_2  1197.26   2018-06-25     1000\n",
      "3           3  1000_3   550.27   2018-08-22     1000\n",
      "4           4  1000_4   302.56   2018-09-24     1000\n",
      "\n",
      "\n",
      "<class 'pandas.core.frame.DataFrame'>\n",
      "RangeIndex: 123036 entries, 0 to 123035\n",
      "Data columns (total 3 columns):\n",
      "id              123036 non-null object\n",
      "message_date    123036 non-null object\n",
      "user_id         123036 non-null int64\n",
      "dtypes: int64(1), object(2)\n",
      "memory usage: 2.8+ MB\n",
      "None\n",
      "       id message_date  user_id\n",
      "0  1000_0   2018-06-27     1000\n",
      "1  1000_1   2018-10-08     1000\n",
      "2  1000_2   2018-08-04     1000\n",
      "3  1000_3   2018-06-16     1000\n",
      "4  1000_4   2018-12-05     1000\n",
      "\n",
      "\n",
      "<class 'pandas.core.frame.DataFrame'>\n",
      "RangeIndex: 2 entries, 0 to 1\n",
      "Data columns (total 8 columns):\n",
      "messages_included        2 non-null int64\n",
      "mb_per_month_included    2 non-null int64\n",
      "minutes_included         2 non-null int64\n",
      "rub_monthly_fee          2 non-null int64\n",
      "rub_per_gb               2 non-null int64\n",
      "rub_per_message          2 non-null int64\n",
      "rub_per_minute           2 non-null int64\n",
      "tariff_name              2 non-null object\n",
      "dtypes: int64(7), object(1)\n",
      "memory usage: 256.0+ bytes\n",
      "None\n",
      "   messages_included  mb_per_month_included  minutes_included  \\\n",
      "0                 50                  15360               500   \n",
      "1               1000                  30720              3000   \n",
      "\n",
      "   rub_monthly_fee  rub_per_gb  rub_per_message  rub_per_minute tariff_name  \n",
      "0              550         200                3               3       smart  \n",
      "1             1950         150                1               1       ultra  \n",
      "\n",
      "\n",
      "<class 'pandas.core.frame.DataFrame'>\n",
      "RangeIndex: 500 entries, 0 to 499\n",
      "Data columns (total 8 columns):\n",
      "user_id       500 non-null int64\n",
      "age           500 non-null int64\n",
      "churn_date    38 non-null object\n",
      "city          500 non-null object\n",
      "first_name    500 non-null object\n",
      "last_name     500 non-null object\n",
      "reg_date      500 non-null object\n",
      "tariff        500 non-null object\n",
      "dtypes: int64(2), object(6)\n",
      "memory usage: 31.4+ KB\n",
      "None\n",
      "   user_id  age churn_date         city first_name  last_name    reg_date  \\\n",
      "0     1000   52        NaN    Краснодар     Рафаил  Верещагин  2018-05-25   \n",
      "1     1001   41        NaN       Москва       Иван       Ежов  2018-11-01   \n",
      "2     1002   59        NaN  Стерлитамак    Евгений  Абрамович  2018-06-17   \n",
      "3     1003   23        NaN       Москва      Белла   Белякова  2018-08-17   \n",
      "4     1004   68        NaN  Новокузнецк    Татьяна   Авдеенко  2018-05-14   \n",
      "\n",
      "  tariff  \n",
      "0  ultra  \n",
      "1  smart  \n",
      "2  smart  \n",
      "3  ultra  \n",
      "4  ultra  \n",
      "\n",
      "\n"
     ]
    }
   ],
   "source": [
    "for data in [calls, internet, messages, tariffs, users]:\n",
    "    print(data.info())\n",
    "    print(data.head(), end='\\n\\n\\n')"
   ]
  },
  {
   "cell_type": "markdown",
   "metadata": {},
   "source": [
    "##### Вывод\n",
    "Данные содержат информацию о 500 клиентах, об их звонках, сообщениях, использованном трафике интернета и их тарифе. Необходимо будет изменить тип данных в столбцах с датой и временем, разобраться как поступить с пропускам и с нулевыми значениями в таблицах"
   ]
  },
  {
   "cell_type": "markdown",
   "metadata": {},
   "source": [
    "## Шаг 2. Подготовка данных.<a class=\"anchor\" id=\"step2\"></a>"
   ]
  },
  {
   "cell_type": "code",
   "execution_count": 4,
   "metadata": {},
   "outputs": [],
   "source": [
    "# приведем к нужному форматы столбцы с датой в каждой таблице\n",
    "calls['call_date'] = pd.to_datetime(calls['call_date'], format='%Y-%m-%d')\n",
    "internet['session_date'] = pd.to_datetime(internet['session_date'], format='%Y-%m-%d')\n",
    "messages['message_date'] = pd.to_datetime(messages['message_date'], format='%Y-%m-%d')\n",
    "users['churn_date'] = pd.to_datetime(users['churn_date'], format='%Y-%m-%d')\n",
    "users['reg_date'] = pd.to_datetime(users['reg_date'], format='%Y-%m-%d')"
   ]
  },
  {
   "cell_type": "code",
   "execution_count": 5,
   "metadata": {},
   "outputs": [
    {
     "data": {
      "text/plain": [
       "0.19551644316336553"
      ]
     },
     "execution_count": 5,
     "metadata": {},
     "output_type": "execute_result"
    }
   ],
   "source": [
    "len(calls.query('duration == 0')) / len(calls)"
   ]
  },
  {
   "cell_type": "code",
   "execution_count": 6,
   "metadata": {},
   "outputs": [
    {
     "data": {
      "text/plain": [
       "0.13118155773916304"
      ]
     },
     "execution_count": 6,
     "metadata": {},
     "output_type": "execute_result"
    }
   ],
   "source": [
    "len(internet.query('mb_used == 0')) / len(internet)"
   ]
  },
  {
   "cell_type": "markdown",
   "metadata": {},
   "source": [
    "Скорее всего нулевые значения в продолжительности звоноков в минутах и в объеме потраченного интернет-трафика являются ошибкой, если звонки и могут считаться пропущенными, то с заходм в интернет такого быть не может. Вероятно система сама округляет до 0 значений. А так как оператор округляет всегда вверх значения минут и мегабайт, то заменим значения 0 на 1."
   ]
  },
  {
   "cell_type": "code",
   "execution_count": 7,
   "metadata": {},
   "outputs": [],
   "source": [
    "calls['duration'] = calls['duration'].replace(0, 1)\n",
    "internet['mb_used'] = internet['mb_used'].replace(0, 1)"
   ]
  },
  {
   "cell_type": "code",
   "execution_count": 8,
   "metadata": {},
   "outputs": [],
   "source": [
    "# округлим все минуты в большую сторону\n",
    "def rnd(row):\n",
    "    return ceil(row['duration'])\n",
    "\n",
    "calls['duration'] = calls.apply(rnd, axis=1)"
   ]
  },
  {
   "cell_type": "code",
   "execution_count": 9,
   "metadata": {},
   "outputs": [],
   "source": [
    "# добавим к нужным таблицам информацию по месяцам\n",
    "calls['month'] = calls['call_date'].dt.month\n",
    "internet['month'] = internet['session_date'].dt.month\n",
    "messages['month'] = messages['message_date'].dt.month"
   ]
  },
  {
   "cell_type": "code",
   "execution_count": 10,
   "metadata": {},
   "outputs": [],
   "source": [
    "# создадим сводные таблицы по пользователям и месяцам для звонков, смс и интернета\n",
    "calls_group = calls.groupby(['user_id','month'])[['duration']].agg(['sum','count']).reset_index()\n",
    "calls_group.columns = ['user_id','month','duration_minut','calls']"
   ]
  },
  {
   "cell_type": "code",
   "execution_count": 11,
   "metadata": {},
   "outputs": [
    {
     "data": {
      "text/html": [
       "<div>\n",
       "<style scoped>\n",
       "    .dataframe tbody tr th:only-of-type {\n",
       "        vertical-align: middle;\n",
       "    }\n",
       "\n",
       "    .dataframe tbody tr th {\n",
       "        vertical-align: top;\n",
       "    }\n",
       "\n",
       "    .dataframe thead th {\n",
       "        text-align: right;\n",
       "    }\n",
       "</style>\n",
       "<table border=\"1\" class=\"dataframe\">\n",
       "  <thead>\n",
       "    <tr style=\"text-align: right;\">\n",
       "      <th></th>\n",
       "      <th>user_id</th>\n",
       "      <th>month</th>\n",
       "      <th>duration_minut</th>\n",
       "      <th>calls</th>\n",
       "    </tr>\n",
       "  </thead>\n",
       "  <tbody>\n",
       "    <tr>\n",
       "      <td>0</td>\n",
       "      <td>1000</td>\n",
       "      <td>5</td>\n",
       "      <td>164</td>\n",
       "      <td>22</td>\n",
       "    </tr>\n",
       "    <tr>\n",
       "      <td>1</td>\n",
       "      <td>1000</td>\n",
       "      <td>6</td>\n",
       "      <td>187</td>\n",
       "      <td>43</td>\n",
       "    </tr>\n",
       "    <tr>\n",
       "      <td>2</td>\n",
       "      <td>1000</td>\n",
       "      <td>7</td>\n",
       "      <td>346</td>\n",
       "      <td>47</td>\n",
       "    </tr>\n",
       "    <tr>\n",
       "      <td>3</td>\n",
       "      <td>1000</td>\n",
       "      <td>8</td>\n",
       "      <td>418</td>\n",
       "      <td>52</td>\n",
       "    </tr>\n",
       "    <tr>\n",
       "      <td>4</td>\n",
       "      <td>1000</td>\n",
       "      <td>9</td>\n",
       "      <td>478</td>\n",
       "      <td>58</td>\n",
       "    </tr>\n",
       "  </tbody>\n",
       "</table>\n",
       "</div>"
      ],
      "text/plain": [
       "   user_id  month  duration_minut  calls\n",
       "0     1000      5             164     22\n",
       "1     1000      6             187     43\n",
       "2     1000      7             346     47\n",
       "3     1000      8             418     52\n",
       "4     1000      9             478     58"
      ]
     },
     "execution_count": 11,
     "metadata": {},
     "output_type": "execute_result"
    }
   ],
   "source": [
    "calls_group.head(5)"
   ]
  },
  {
   "cell_type": "code",
   "execution_count": 12,
   "metadata": {},
   "outputs": [],
   "source": [
    "internet_group = internet.groupby(['user_id','month'])[['mb_used']].agg(['sum']).reset_index()\n",
    "internet_group.columns = ['user_id','month','mb_used']"
   ]
  },
  {
   "cell_type": "code",
   "execution_count": 13,
   "metadata": {},
   "outputs": [
    {
     "data": {
      "text/html": [
       "<div>\n",
       "<style scoped>\n",
       "    .dataframe tbody tr th:only-of-type {\n",
       "        vertical-align: middle;\n",
       "    }\n",
       "\n",
       "    .dataframe tbody tr th {\n",
       "        vertical-align: top;\n",
       "    }\n",
       "\n",
       "    .dataframe thead th {\n",
       "        text-align: right;\n",
       "    }\n",
       "</style>\n",
       "<table border=\"1\" class=\"dataframe\">\n",
       "  <thead>\n",
       "    <tr style=\"text-align: right;\">\n",
       "      <th></th>\n",
       "      <th>user_id</th>\n",
       "      <th>month</th>\n",
       "      <th>mb_used</th>\n",
       "    </tr>\n",
       "  </thead>\n",
       "  <tbody>\n",
       "    <tr>\n",
       "      <td>0</td>\n",
       "      <td>1000</td>\n",
       "      <td>5</td>\n",
       "      <td>2254.49</td>\n",
       "    </tr>\n",
       "    <tr>\n",
       "      <td>1</td>\n",
       "      <td>1000</td>\n",
       "      <td>6</td>\n",
       "      <td>23238.77</td>\n",
       "    </tr>\n",
       "    <tr>\n",
       "      <td>2</td>\n",
       "      <td>1000</td>\n",
       "      <td>7</td>\n",
       "      <td>14004.64</td>\n",
       "    </tr>\n",
       "    <tr>\n",
       "      <td>3</td>\n",
       "      <td>1000</td>\n",
       "      <td>8</td>\n",
       "      <td>14057.93</td>\n",
       "    </tr>\n",
       "    <tr>\n",
       "      <td>4</td>\n",
       "      <td>1000</td>\n",
       "      <td>9</td>\n",
       "      <td>14570.91</td>\n",
       "    </tr>\n",
       "  </tbody>\n",
       "</table>\n",
       "</div>"
      ],
      "text/plain": [
       "   user_id  month   mb_used\n",
       "0     1000      5   2254.49\n",
       "1     1000      6  23238.77\n",
       "2     1000      7  14004.64\n",
       "3     1000      8  14057.93\n",
       "4     1000      9  14570.91"
      ]
     },
     "execution_count": 13,
     "metadata": {},
     "output_type": "execute_result"
    }
   ],
   "source": [
    "internet_group.head(5)"
   ]
  },
  {
   "cell_type": "code",
   "execution_count": 14,
   "metadata": {},
   "outputs": [],
   "source": [
    "messages_group = messages.groupby(['user_id','month'])[['month']].agg(['count']).reset_index()\n",
    "messages_group.columns = ['user_id','month','count_messages']"
   ]
  },
  {
   "cell_type": "code",
   "execution_count": 15,
   "metadata": {},
   "outputs": [
    {
     "data": {
      "text/html": [
       "<div>\n",
       "<style scoped>\n",
       "    .dataframe tbody tr th:only-of-type {\n",
       "        vertical-align: middle;\n",
       "    }\n",
       "\n",
       "    .dataframe tbody tr th {\n",
       "        vertical-align: top;\n",
       "    }\n",
       "\n",
       "    .dataframe thead th {\n",
       "        text-align: right;\n",
       "    }\n",
       "</style>\n",
       "<table border=\"1\" class=\"dataframe\">\n",
       "  <thead>\n",
       "    <tr style=\"text-align: right;\">\n",
       "      <th></th>\n",
       "      <th>user_id</th>\n",
       "      <th>month</th>\n",
       "      <th>count_messages</th>\n",
       "    </tr>\n",
       "  </thead>\n",
       "  <tbody>\n",
       "    <tr>\n",
       "      <td>0</td>\n",
       "      <td>1000</td>\n",
       "      <td>5</td>\n",
       "      <td>22</td>\n",
       "    </tr>\n",
       "    <tr>\n",
       "      <td>1</td>\n",
       "      <td>1000</td>\n",
       "      <td>6</td>\n",
       "      <td>60</td>\n",
       "    </tr>\n",
       "    <tr>\n",
       "      <td>2</td>\n",
       "      <td>1000</td>\n",
       "      <td>7</td>\n",
       "      <td>75</td>\n",
       "    </tr>\n",
       "    <tr>\n",
       "      <td>3</td>\n",
       "      <td>1000</td>\n",
       "      <td>8</td>\n",
       "      <td>81</td>\n",
       "    </tr>\n",
       "    <tr>\n",
       "      <td>4</td>\n",
       "      <td>1000</td>\n",
       "      <td>9</td>\n",
       "      <td>57</td>\n",
       "    </tr>\n",
       "  </tbody>\n",
       "</table>\n",
       "</div>"
      ],
      "text/plain": [
       "   user_id  month  count_messages\n",
       "0     1000      5              22\n",
       "1     1000      6              60\n",
       "2     1000      7              75\n",
       "3     1000      8              81\n",
       "4     1000      9              57"
      ]
     },
     "execution_count": 15,
     "metadata": {},
     "output_type": "execute_result"
    }
   ],
   "source": [
    "messages_group.head(5)"
   ]
  },
  {
   "cell_type": "code",
   "execution_count": 16,
   "metadata": {},
   "outputs": [],
   "source": [
    "# соединим получившиеся таблицы в одну\n",
    "data = internet_group.merge(calls_group,how='outer',on=['user_id','month'])"
   ]
  },
  {
   "cell_type": "code",
   "execution_count": 17,
   "metadata": {},
   "outputs": [
    {
     "data": {
      "text/html": [
       "<div>\n",
       "<style scoped>\n",
       "    .dataframe tbody tr th:only-of-type {\n",
       "        vertical-align: middle;\n",
       "    }\n",
       "\n",
       "    .dataframe tbody tr th {\n",
       "        vertical-align: top;\n",
       "    }\n",
       "\n",
       "    .dataframe thead th {\n",
       "        text-align: right;\n",
       "    }\n",
       "</style>\n",
       "<table border=\"1\" class=\"dataframe\">\n",
       "  <thead>\n",
       "    <tr style=\"text-align: right;\">\n",
       "      <th></th>\n",
       "      <th>user_id</th>\n",
       "      <th>month</th>\n",
       "      <th>mb_used</th>\n",
       "      <th>duration_minut</th>\n",
       "      <th>calls</th>\n",
       "    </tr>\n",
       "  </thead>\n",
       "  <tbody>\n",
       "    <tr>\n",
       "      <td>0</td>\n",
       "      <td>1000</td>\n",
       "      <td>5</td>\n",
       "      <td>2254.49</td>\n",
       "      <td>164.0</td>\n",
       "      <td>22.0</td>\n",
       "    </tr>\n",
       "    <tr>\n",
       "      <td>1</td>\n",
       "      <td>1000</td>\n",
       "      <td>6</td>\n",
       "      <td>23238.77</td>\n",
       "      <td>187.0</td>\n",
       "      <td>43.0</td>\n",
       "    </tr>\n",
       "    <tr>\n",
       "      <td>2</td>\n",
       "      <td>1000</td>\n",
       "      <td>7</td>\n",
       "      <td>14004.64</td>\n",
       "      <td>346.0</td>\n",
       "      <td>47.0</td>\n",
       "    </tr>\n",
       "    <tr>\n",
       "      <td>3</td>\n",
       "      <td>1000</td>\n",
       "      <td>8</td>\n",
       "      <td>14057.93</td>\n",
       "      <td>418.0</td>\n",
       "      <td>52.0</td>\n",
       "    </tr>\n",
       "    <tr>\n",
       "      <td>4</td>\n",
       "      <td>1000</td>\n",
       "      <td>9</td>\n",
       "      <td>14570.91</td>\n",
       "      <td>478.0</td>\n",
       "      <td>58.0</td>\n",
       "    </tr>\n",
       "  </tbody>\n",
       "</table>\n",
       "</div>"
      ],
      "text/plain": [
       "   user_id  month   mb_used  duration_minut  calls\n",
       "0     1000      5   2254.49           164.0   22.0\n",
       "1     1000      6  23238.77           187.0   43.0\n",
       "2     1000      7  14004.64           346.0   47.0\n",
       "3     1000      8  14057.93           418.0   52.0\n",
       "4     1000      9  14570.91           478.0   58.0"
      ]
     },
     "execution_count": 17,
     "metadata": {},
     "output_type": "execute_result"
    }
   ],
   "source": [
    "data.head(5)"
   ]
  },
  {
   "cell_type": "code",
   "execution_count": 18,
   "metadata": {},
   "outputs": [],
   "source": [
    "data = data.merge(messages_group, how='outer', on=['user_id','month'])"
   ]
  },
  {
   "cell_type": "code",
   "execution_count": 19,
   "metadata": {},
   "outputs": [
    {
     "data": {
      "text/html": [
       "<div>\n",
       "<style scoped>\n",
       "    .dataframe tbody tr th:only-of-type {\n",
       "        vertical-align: middle;\n",
       "    }\n",
       "\n",
       "    .dataframe tbody tr th {\n",
       "        vertical-align: top;\n",
       "    }\n",
       "\n",
       "    .dataframe thead th {\n",
       "        text-align: right;\n",
       "    }\n",
       "</style>\n",
       "<table border=\"1\" class=\"dataframe\">\n",
       "  <thead>\n",
       "    <tr style=\"text-align: right;\">\n",
       "      <th></th>\n",
       "      <th>user_id</th>\n",
       "      <th>month</th>\n",
       "      <th>mb_used</th>\n",
       "      <th>duration_minut</th>\n",
       "      <th>calls</th>\n",
       "      <th>count_messages</th>\n",
       "    </tr>\n",
       "  </thead>\n",
       "  <tbody>\n",
       "    <tr>\n",
       "      <td>0</td>\n",
       "      <td>1000</td>\n",
       "      <td>5</td>\n",
       "      <td>2254.49</td>\n",
       "      <td>164.0</td>\n",
       "      <td>22.0</td>\n",
       "      <td>22.0</td>\n",
       "    </tr>\n",
       "    <tr>\n",
       "      <td>1</td>\n",
       "      <td>1000</td>\n",
       "      <td>6</td>\n",
       "      <td>23238.77</td>\n",
       "      <td>187.0</td>\n",
       "      <td>43.0</td>\n",
       "      <td>60.0</td>\n",
       "    </tr>\n",
       "    <tr>\n",
       "      <td>2</td>\n",
       "      <td>1000</td>\n",
       "      <td>7</td>\n",
       "      <td>14004.64</td>\n",
       "      <td>346.0</td>\n",
       "      <td>47.0</td>\n",
       "      <td>75.0</td>\n",
       "    </tr>\n",
       "    <tr>\n",
       "      <td>3</td>\n",
       "      <td>1000</td>\n",
       "      <td>8</td>\n",
       "      <td>14057.93</td>\n",
       "      <td>418.0</td>\n",
       "      <td>52.0</td>\n",
       "      <td>81.0</td>\n",
       "    </tr>\n",
       "    <tr>\n",
       "      <td>4</td>\n",
       "      <td>1000</td>\n",
       "      <td>9</td>\n",
       "      <td>14570.91</td>\n",
       "      <td>478.0</td>\n",
       "      <td>58.0</td>\n",
       "      <td>57.0</td>\n",
       "    </tr>\n",
       "  </tbody>\n",
       "</table>\n",
       "</div>"
      ],
      "text/plain": [
       "   user_id  month   mb_used  duration_minut  calls  count_messages\n",
       "0     1000      5   2254.49           164.0   22.0            22.0\n",
       "1     1000      6  23238.77           187.0   43.0            60.0\n",
       "2     1000      7  14004.64           346.0   47.0            75.0\n",
       "3     1000      8  14057.93           418.0   52.0            81.0\n",
       "4     1000      9  14570.91           478.0   58.0            57.0"
      ]
     },
     "execution_count": 19,
     "metadata": {},
     "output_type": "execute_result"
    }
   ],
   "source": [
    "data.head(5)"
   ]
  },
  {
   "cell_type": "code",
   "execution_count": 20,
   "metadata": {},
   "outputs": [],
   "source": [
    "data = data.merge(users[['tariff','user_id']], on='user_id')"
   ]
  },
  {
   "cell_type": "code",
   "execution_count": 21,
   "metadata": {},
   "outputs": [
    {
     "data": {
      "text/html": [
       "<div>\n",
       "<style scoped>\n",
       "    .dataframe tbody tr th:only-of-type {\n",
       "        vertical-align: middle;\n",
       "    }\n",
       "\n",
       "    .dataframe tbody tr th {\n",
       "        vertical-align: top;\n",
       "    }\n",
       "\n",
       "    .dataframe thead th {\n",
       "        text-align: right;\n",
       "    }\n",
       "</style>\n",
       "<table border=\"1\" class=\"dataframe\">\n",
       "  <thead>\n",
       "    <tr style=\"text-align: right;\">\n",
       "      <th></th>\n",
       "      <th>user_id</th>\n",
       "      <th>month</th>\n",
       "      <th>mb_used</th>\n",
       "      <th>duration_minut</th>\n",
       "      <th>calls</th>\n",
       "      <th>count_messages</th>\n",
       "      <th>tariff</th>\n",
       "    </tr>\n",
       "  </thead>\n",
       "  <tbody>\n",
       "    <tr>\n",
       "      <td>0</td>\n",
       "      <td>1000</td>\n",
       "      <td>5</td>\n",
       "      <td>2254.49</td>\n",
       "      <td>164.0</td>\n",
       "      <td>22.0</td>\n",
       "      <td>22.0</td>\n",
       "      <td>ultra</td>\n",
       "    </tr>\n",
       "    <tr>\n",
       "      <td>1</td>\n",
       "      <td>1000</td>\n",
       "      <td>6</td>\n",
       "      <td>23238.77</td>\n",
       "      <td>187.0</td>\n",
       "      <td>43.0</td>\n",
       "      <td>60.0</td>\n",
       "      <td>ultra</td>\n",
       "    </tr>\n",
       "    <tr>\n",
       "      <td>2</td>\n",
       "      <td>1000</td>\n",
       "      <td>7</td>\n",
       "      <td>14004.64</td>\n",
       "      <td>346.0</td>\n",
       "      <td>47.0</td>\n",
       "      <td>75.0</td>\n",
       "      <td>ultra</td>\n",
       "    </tr>\n",
       "    <tr>\n",
       "      <td>3</td>\n",
       "      <td>1000</td>\n",
       "      <td>8</td>\n",
       "      <td>14057.93</td>\n",
       "      <td>418.0</td>\n",
       "      <td>52.0</td>\n",
       "      <td>81.0</td>\n",
       "      <td>ultra</td>\n",
       "    </tr>\n",
       "    <tr>\n",
       "      <td>4</td>\n",
       "      <td>1000</td>\n",
       "      <td>9</td>\n",
       "      <td>14570.91</td>\n",
       "      <td>478.0</td>\n",
       "      <td>58.0</td>\n",
       "      <td>57.0</td>\n",
       "      <td>ultra</td>\n",
       "    </tr>\n",
       "  </tbody>\n",
       "</table>\n",
       "</div>"
      ],
      "text/plain": [
       "   user_id  month   mb_used  duration_minut  calls  count_messages tariff\n",
       "0     1000      5   2254.49           164.0   22.0            22.0  ultra\n",
       "1     1000      6  23238.77           187.0   43.0            60.0  ultra\n",
       "2     1000      7  14004.64           346.0   47.0            75.0  ultra\n",
       "3     1000      8  14057.93           418.0   52.0            81.0  ultra\n",
       "4     1000      9  14570.91           478.0   58.0            57.0  ultra"
      ]
     },
     "execution_count": 21,
     "metadata": {},
     "output_type": "execute_result"
    }
   ],
   "source": [
    "data.head(5)"
   ]
  },
  {
   "cell_type": "code",
   "execution_count": 22,
   "metadata": {},
   "outputs": [],
   "source": [
    "# пустые значения заменим на 0\n",
    "data = data.fillna(0)"
   ]
  },
  {
   "cell_type": "code",
   "execution_count": 23,
   "metadata": {},
   "outputs": [
    {
     "data": {
      "text/html": [
       "<div>\n",
       "<style scoped>\n",
       "    .dataframe tbody tr th:only-of-type {\n",
       "        vertical-align: middle;\n",
       "    }\n",
       "\n",
       "    .dataframe tbody tr th {\n",
       "        vertical-align: top;\n",
       "    }\n",
       "\n",
       "    .dataframe thead th {\n",
       "        text-align: right;\n",
       "    }\n",
       "</style>\n",
       "<table border=\"1\" class=\"dataframe\">\n",
       "  <thead>\n",
       "    <tr style=\"text-align: right;\">\n",
       "      <th></th>\n",
       "      <th>user_id</th>\n",
       "      <th>month</th>\n",
       "      <th>mb_used</th>\n",
       "      <th>duration_minut</th>\n",
       "      <th>calls</th>\n",
       "      <th>count_messages</th>\n",
       "      <th>tariff</th>\n",
       "    </tr>\n",
       "  </thead>\n",
       "  <tbody>\n",
       "    <tr>\n",
       "      <td>637</td>\n",
       "      <td>1100</td>\n",
       "      <td>10</td>\n",
       "      <td>11930.43</td>\n",
       "      <td>564.0</td>\n",
       "      <td>79.0</td>\n",
       "      <td>56.0</td>\n",
       "      <td>smart</td>\n",
       "    </tr>\n",
       "    <tr>\n",
       "      <td>3177</td>\n",
       "      <td>1494</td>\n",
       "      <td>12</td>\n",
       "      <td>17626.21</td>\n",
       "      <td>426.0</td>\n",
       "      <td>62.0</td>\n",
       "      <td>0.0</td>\n",
       "      <td>smart</td>\n",
       "    </tr>\n",
       "    <tr>\n",
       "      <td>2538</td>\n",
       "      <td>1396</td>\n",
       "      <td>4</td>\n",
       "      <td>9348.97</td>\n",
       "      <td>495.0</td>\n",
       "      <td>57.0</td>\n",
       "      <td>88.0</td>\n",
       "      <td>ultra</td>\n",
       "    </tr>\n",
       "    <tr>\n",
       "      <td>2984</td>\n",
       "      <td>1466</td>\n",
       "      <td>5</td>\n",
       "      <td>14927.91</td>\n",
       "      <td>508.0</td>\n",
       "      <td>73.0</td>\n",
       "      <td>0.0</td>\n",
       "      <td>ultra</td>\n",
       "    </tr>\n",
       "    <tr>\n",
       "      <td>364</td>\n",
       "      <td>1057</td>\n",
       "      <td>7</td>\n",
       "      <td>17240.64</td>\n",
       "      <td>803.0</td>\n",
       "      <td>110.0</td>\n",
       "      <td>29.0</td>\n",
       "      <td>ultra</td>\n",
       "    </tr>\n",
       "    <tr>\n",
       "      <td>1024</td>\n",
       "      <td>1161</td>\n",
       "      <td>7</td>\n",
       "      <td>19550.37</td>\n",
       "      <td>303.0</td>\n",
       "      <td>37.0</td>\n",
       "      <td>44.0</td>\n",
       "      <td>smart</td>\n",
       "    </tr>\n",
       "    <tr>\n",
       "      <td>1314</td>\n",
       "      <td>1204</td>\n",
       "      <td>10</td>\n",
       "      <td>22944.78</td>\n",
       "      <td>330.0</td>\n",
       "      <td>41.0</td>\n",
       "      <td>0.0</td>\n",
       "      <td>smart</td>\n",
       "    </tr>\n",
       "    <tr>\n",
       "      <td>1766</td>\n",
       "      <td>1281</td>\n",
       "      <td>7</td>\n",
       "      <td>17451.89</td>\n",
       "      <td>525.0</td>\n",
       "      <td>72.0</td>\n",
       "      <td>71.0</td>\n",
       "      <td>ultra</td>\n",
       "    </tr>\n",
       "    <tr>\n",
       "      <td>1140</td>\n",
       "      <td>1178</td>\n",
       "      <td>6</td>\n",
       "      <td>13505.90</td>\n",
       "      <td>427.0</td>\n",
       "      <td>61.0</td>\n",
       "      <td>24.0</td>\n",
       "      <td>smart</td>\n",
       "    </tr>\n",
       "    <tr>\n",
       "      <td>1095</td>\n",
       "      <td>1173</td>\n",
       "      <td>8</td>\n",
       "      <td>16024.88</td>\n",
       "      <td>1028.0</td>\n",
       "      <td>137.0</td>\n",
       "      <td>13.0</td>\n",
       "      <td>smart</td>\n",
       "    </tr>\n",
       "  </tbody>\n",
       "</table>\n",
       "</div>"
      ],
      "text/plain": [
       "      user_id  month   mb_used  duration_minut  calls  count_messages tariff\n",
       "637      1100     10  11930.43           564.0   79.0            56.0  smart\n",
       "3177     1494     12  17626.21           426.0   62.0             0.0  smart\n",
       "2538     1396      4   9348.97           495.0   57.0            88.0  ultra\n",
       "2984     1466      5  14927.91           508.0   73.0             0.0  ultra\n",
       "364      1057      7  17240.64           803.0  110.0            29.0  ultra\n",
       "1024     1161      7  19550.37           303.0   37.0            44.0  smart\n",
       "1314     1204     10  22944.78           330.0   41.0             0.0  smart\n",
       "1766     1281      7  17451.89           525.0   72.0            71.0  ultra\n",
       "1140     1178      6  13505.90           427.0   61.0            24.0  smart\n",
       "1095     1173      8  16024.88          1028.0  137.0            13.0  smart"
      ]
     },
     "execution_count": 23,
     "metadata": {},
     "output_type": "execute_result"
    }
   ],
   "source": [
    "data.sample(10)"
   ]
  },
  {
   "cell_type": "code",
   "execution_count": 24,
   "metadata": {},
   "outputs": [],
   "source": [
    "# создадим функцию для посчета ежемесячной выручки пок аждому пользователю\n",
    "def revenue(row):\n",
    "    tariff = row['tariff']\n",
    "    duration_minut = row['duration_minut']\n",
    "    count_messages = row['count_messages']\n",
    "    mb_used = row['mb_used']\n",
    "    \n",
    "    if tariff == 'smart':\n",
    "        over_duration_minut = duration_minut - tariffs.loc[0, 'minutes_included']\n",
    "        over_mb = mb_used - tariffs.loc[0, 'mb_per_month_included']\n",
    "        over_count_messages = count_messages - tariffs.loc[0, 'messages_included']\n",
    "        \n",
    "        if over_duration_minut < 0:\n",
    "            over_duration_minut = 0\n",
    "        if over_mb < 0:\n",
    "            over_mb = 0\n",
    "        if over_count_messages < 0:\n",
    "            over_count_messages = 0\n",
    "        \n",
    "        return (tariffs.loc[0, 'rub_per_message'] * over_count_messages + (tariffs.loc[0, 'rub_per_gb'] / 1024) *\n",
    "                over_mb + tariffs.loc[0, 'rub_per_minute'] * over_duration_minut + tariffs.loc[0, 'rub_monthly_fee']) \n",
    "    else:\n",
    "        over_duration_minut = duration_minut - tariffs.loc[1, 'minutes_included']\n",
    "        over_mb = mb_used - tariffs.loc[1, 'mb_per_month_included']\n",
    "        over_count_messages = count_messages - tariffs.loc[1, 'messages_included']\n",
    "        \n",
    "        if over_duration_minut < 0:\n",
    "            over_duration_minut = 0\n",
    "        if over_mb < 0:\n",
    "            over_mb = 0\n",
    "        if over_count_messages < 0:\n",
    "            over_count_messages = 0\n",
    "        \n",
    "        return (tariffs.loc[1, 'rub_per_message'] * over_count_messages + (tariffs.loc[1, 'rub_per_gb'] / 1024) * \n",
    "                over_mb + tariffs.loc[1, 'rub_per_minute'] * over_duration_minut + tariffs.loc[1, 'rub_monthly_fee'])\n",
    "\n",
    "data['revenue'] = data.apply(revenue, axis=1)"
   ]
  },
  {
   "cell_type": "code",
   "execution_count": 25,
   "metadata": {},
   "outputs": [
    {
     "name": "stdout",
     "output_type": "stream",
     "text": [
      "<class 'pandas.core.frame.DataFrame'>\n",
      "Int64Index: 3214 entries, 0 to 3213\n",
      "Data columns (total 8 columns):\n",
      "user_id           3214 non-null int64\n",
      "month             3214 non-null int64\n",
      "mb_used           3214 non-null float64\n",
      "duration_minut    3214 non-null float64\n",
      "calls             3214 non-null float64\n",
      "count_messages    3214 non-null float64\n",
      "tariff            3214 non-null object\n",
      "revenue           3214 non-null float64\n",
      "dtypes: float64(5), int64(2), object(1)\n",
      "memory usage: 226.0+ KB\n"
     ]
    },
    {
     "data": {
      "text/html": [
       "<div>\n",
       "<style scoped>\n",
       "    .dataframe tbody tr th:only-of-type {\n",
       "        vertical-align: middle;\n",
       "    }\n",
       "\n",
       "    .dataframe tbody tr th {\n",
       "        vertical-align: top;\n",
       "    }\n",
       "\n",
       "    .dataframe thead th {\n",
       "        text-align: right;\n",
       "    }\n",
       "</style>\n",
       "<table border=\"1\" class=\"dataframe\">\n",
       "  <thead>\n",
       "    <tr style=\"text-align: right;\">\n",
       "      <th></th>\n",
       "      <th>user_id</th>\n",
       "      <th>month</th>\n",
       "      <th>mb_used</th>\n",
       "      <th>duration_minut</th>\n",
       "      <th>calls</th>\n",
       "      <th>count_messages</th>\n",
       "      <th>tariff</th>\n",
       "      <th>revenue</th>\n",
       "    </tr>\n",
       "  </thead>\n",
       "  <tbody>\n",
       "    <tr>\n",
       "      <td>0</td>\n",
       "      <td>1000</td>\n",
       "      <td>5</td>\n",
       "      <td>2254.49</td>\n",
       "      <td>164.0</td>\n",
       "      <td>22.0</td>\n",
       "      <td>22.0</td>\n",
       "      <td>ultra</td>\n",
       "      <td>1950.000000</td>\n",
       "    </tr>\n",
       "    <tr>\n",
       "      <td>1</td>\n",
       "      <td>1000</td>\n",
       "      <td>6</td>\n",
       "      <td>23238.77</td>\n",
       "      <td>187.0</td>\n",
       "      <td>43.0</td>\n",
       "      <td>60.0</td>\n",
       "      <td>ultra</td>\n",
       "      <td>1950.000000</td>\n",
       "    </tr>\n",
       "    <tr>\n",
       "      <td>2</td>\n",
       "      <td>1000</td>\n",
       "      <td>7</td>\n",
       "      <td>14004.64</td>\n",
       "      <td>346.0</td>\n",
       "      <td>47.0</td>\n",
       "      <td>75.0</td>\n",
       "      <td>ultra</td>\n",
       "      <td>1950.000000</td>\n",
       "    </tr>\n",
       "    <tr>\n",
       "      <td>3</td>\n",
       "      <td>1000</td>\n",
       "      <td>8</td>\n",
       "      <td>14057.93</td>\n",
       "      <td>418.0</td>\n",
       "      <td>52.0</td>\n",
       "      <td>81.0</td>\n",
       "      <td>ultra</td>\n",
       "      <td>1950.000000</td>\n",
       "    </tr>\n",
       "    <tr>\n",
       "      <td>4</td>\n",
       "      <td>1000</td>\n",
       "      <td>9</td>\n",
       "      <td>14570.91</td>\n",
       "      <td>478.0</td>\n",
       "      <td>58.0</td>\n",
       "      <td>57.0</td>\n",
       "      <td>ultra</td>\n",
       "      <td>1950.000000</td>\n",
       "    </tr>\n",
       "    <tr>\n",
       "      <td>5</td>\n",
       "      <td>1000</td>\n",
       "      <td>10</td>\n",
       "      <td>14702.49</td>\n",
       "      <td>363.0</td>\n",
       "      <td>57.0</td>\n",
       "      <td>73.0</td>\n",
       "      <td>ultra</td>\n",
       "      <td>1950.000000</td>\n",
       "    </tr>\n",
       "    <tr>\n",
       "      <td>6</td>\n",
       "      <td>1000</td>\n",
       "      <td>11</td>\n",
       "      <td>14757.47</td>\n",
       "      <td>344.0</td>\n",
       "      <td>43.0</td>\n",
       "      <td>58.0</td>\n",
       "      <td>ultra</td>\n",
       "      <td>1950.000000</td>\n",
       "    </tr>\n",
       "    <tr>\n",
       "      <td>7</td>\n",
       "      <td>1000</td>\n",
       "      <td>12</td>\n",
       "      <td>9819.61</td>\n",
       "      <td>341.0</td>\n",
       "      <td>46.0</td>\n",
       "      <td>70.0</td>\n",
       "      <td>ultra</td>\n",
       "      <td>1950.000000</td>\n",
       "    </tr>\n",
       "    <tr>\n",
       "      <td>8</td>\n",
       "      <td>1001</td>\n",
       "      <td>11</td>\n",
       "      <td>18437.34</td>\n",
       "      <td>444.0</td>\n",
       "      <td>59.0</td>\n",
       "      <td>0.0</td>\n",
       "      <td>smart</td>\n",
       "      <td>1151.042969</td>\n",
       "    </tr>\n",
       "    <tr>\n",
       "      <td>9</td>\n",
       "      <td>1001</td>\n",
       "      <td>12</td>\n",
       "      <td>14042.66</td>\n",
       "      <td>430.0</td>\n",
       "      <td>63.0</td>\n",
       "      <td>0.0</td>\n",
       "      <td>smart</td>\n",
       "      <td>550.000000</td>\n",
       "    </tr>\n",
       "  </tbody>\n",
       "</table>\n",
       "</div>"
      ],
      "text/plain": [
       "   user_id  month   mb_used  duration_minut  calls  count_messages tariff  \\\n",
       "0     1000      5   2254.49           164.0   22.0            22.0  ultra   \n",
       "1     1000      6  23238.77           187.0   43.0            60.0  ultra   \n",
       "2     1000      7  14004.64           346.0   47.0            75.0  ultra   \n",
       "3     1000      8  14057.93           418.0   52.0            81.0  ultra   \n",
       "4     1000      9  14570.91           478.0   58.0            57.0  ultra   \n",
       "5     1000     10  14702.49           363.0   57.0            73.0  ultra   \n",
       "6     1000     11  14757.47           344.0   43.0            58.0  ultra   \n",
       "7     1000     12   9819.61           341.0   46.0            70.0  ultra   \n",
       "8     1001     11  18437.34           444.0   59.0             0.0  smart   \n",
       "9     1001     12  14042.66           430.0   63.0             0.0  smart   \n",
       "\n",
       "       revenue  \n",
       "0  1950.000000  \n",
       "1  1950.000000  \n",
       "2  1950.000000  \n",
       "3  1950.000000  \n",
       "4  1950.000000  \n",
       "5  1950.000000  \n",
       "6  1950.000000  \n",
       "7  1950.000000  \n",
       "8  1151.042969  \n",
       "9   550.000000  "
      ]
     },
     "execution_count": 25,
     "metadata": {},
     "output_type": "execute_result"
    }
   ],
   "source": [
    "data.info()\n",
    "data.head(10)"
   ]
  },
  {
   "cell_type": "markdown",
   "metadata": {},
   "source": [
    "## Шаг 3. Проанализируем данные.<a class=\"anchor\" id=\"step3\"></a>"
   ]
  },
  {
   "cell_type": "markdown",
   "metadata": {},
   "source": [
    "##### Создадим таблицу `statistics_data` с основными описательными статистиками: медианой, средним,  дисперсией и стандартным отклонением."
   ]
  },
  {
   "cell_type": "code",
   "execution_count": 26,
   "metadata": {},
   "outputs": [
    {
     "data": {
      "text/html": [
       "<div>\n",
       "<style scoped>\n",
       "    .dataframe tbody tr th:only-of-type {\n",
       "        vertical-align: middle;\n",
       "    }\n",
       "\n",
       "    .dataframe tbody tr th {\n",
       "        vertical-align: top;\n",
       "    }\n",
       "\n",
       "    .dataframe thead tr th {\n",
       "        text-align: left;\n",
       "    }\n",
       "\n",
       "    .dataframe thead tr:last-of-type th {\n",
       "        text-align: right;\n",
       "    }\n",
       "</style>\n",
       "<table border=\"1\" class=\"dataframe\">\n",
       "  <thead>\n",
       "    <tr>\n",
       "      <th></th>\n",
       "      <th colspan=\"3\" halign=\"left\">median</th>\n",
       "      <th colspan=\"3\" halign=\"left\">mean</th>\n",
       "      <th colspan=\"3\" halign=\"left\">var</th>\n",
       "      <th colspan=\"3\" halign=\"left\">std</th>\n",
       "    </tr>\n",
       "    <tr>\n",
       "      <th></th>\n",
       "      <th>count_messages</th>\n",
       "      <th>duration_minut</th>\n",
       "      <th>mb_used</th>\n",
       "      <th>count_messages</th>\n",
       "      <th>duration_minut</th>\n",
       "      <th>mb_used</th>\n",
       "      <th>count_messages</th>\n",
       "      <th>duration_minut</th>\n",
       "      <th>mb_used</th>\n",
       "      <th>count_messages</th>\n",
       "      <th>duration_minut</th>\n",
       "      <th>mb_used</th>\n",
       "    </tr>\n",
       "    <tr>\n",
       "      <th>tariff</th>\n",
       "      <th></th>\n",
       "      <th></th>\n",
       "      <th></th>\n",
       "      <th></th>\n",
       "      <th></th>\n",
       "      <th></th>\n",
       "      <th></th>\n",
       "      <th></th>\n",
       "      <th></th>\n",
       "      <th></th>\n",
       "      <th></th>\n",
       "      <th></th>\n",
       "    </tr>\n",
       "  </thead>\n",
       "  <tbody>\n",
       "    <tr>\n",
       "      <td>smart</td>\n",
       "      <td>28.0</td>\n",
       "      <td>435.0</td>\n",
       "      <td>16515.84</td>\n",
       "      <td>33.384029</td>\n",
       "      <td>429.450875</td>\n",
       "      <td>16216.382952</td>\n",
       "      <td>796.812958</td>\n",
       "      <td>37974.774628</td>\n",
       "      <td>3.448854e+07</td>\n",
       "      <td>28.227876</td>\n",
       "      <td>194.871174</td>\n",
       "      <td>5872.694696</td>\n",
       "    </tr>\n",
       "    <tr>\n",
       "      <td>ultra</td>\n",
       "      <td>38.0</td>\n",
       "      <td>532.0</td>\n",
       "      <td>19308.01</td>\n",
       "      <td>49.363452</td>\n",
       "      <td>540.779695</td>\n",
       "      <td>19470.607239</td>\n",
       "      <td>2285.266143</td>\n",
       "      <td>106105.726823</td>\n",
       "      <td>1.017670e+08</td>\n",
       "      <td>47.804457</td>\n",
       "      <td>325.738740</td>\n",
       "      <td>10087.961075</td>\n",
       "    </tr>\n",
       "  </tbody>\n",
       "</table>\n",
       "</div>"
      ],
      "text/plain": [
       "               median                                    mean                 \\\n",
       "       count_messages duration_minut   mb_used count_messages duration_minut   \n",
       "tariff                                                                         \n",
       "smart            28.0          435.0  16515.84      33.384029     429.450875   \n",
       "ultra            38.0          532.0  19308.01      49.363452     540.779695   \n",
       "\n",
       "                                var                               \\\n",
       "             mb_used count_messages duration_minut       mb_used   \n",
       "tariff                                                             \n",
       "smart   16216.382952     796.812958   37974.774628  3.448854e+07   \n",
       "ultra   19470.607239    2285.266143  106105.726823  1.017670e+08   \n",
       "\n",
       "                  std                               \n",
       "       count_messages duration_minut       mb_used  \n",
       "tariff                                              \n",
       "smart       28.227876     194.871174   5872.694696  \n",
       "ultra       47.804457     325.738740  10087.961075  "
      ]
     },
     "execution_count": 26,
     "metadata": {},
     "output_type": "execute_result"
    }
   ],
   "source": [
    "statistics_data = data.pivot_table(index = ['tariff'], \n",
    "                                   values = ['duration_minut', 'count_messages', 'mb_used'], \n",
    "                                   aggfunc=['median','mean', 'var', 'std']\n",
    "                                  )\n",
    "statistics_data"
   ]
  },
  {
   "cell_type": "code",
   "execution_count": 27,
   "metadata": {},
   "outputs": [
    {
     "data": {
      "text/plain": [
       "<matplotlib.legend.Legend at 0x7f27605b0a90>"
      ]
     },
     "execution_count": 27,
     "metadata": {},
     "output_type": "execute_result"
    },
    {
     "data": {
      "image/png": "[encoded data removed]",
      "text/plain": [
       "<Figure size 432x288 with 1 Axes>"
      ]
     },
     "metadata": {
      "needs_background": "light"
     },
     "output_type": "display_data"
    }
   ],
   "source": [
    "# Будем строить гистограммы по месячному использованию интернета, смс и минут для каждого из тарифов\n",
    "ax = plt.hist(x=data.query('tariff == \"smart\"')['mb_used'],  bins=100, alpha = 0.5, label  = 'smart')\n",
    "plt.hist(x=data.query('tariff == \"ultra\"')['mb_used'],  bins=100, alpha = 0.5, label = 'ultra')\n",
    "plt.ylabel('Кол-во месяцев')\n",
    "plt.xlabel('Использование мегабайт в месяц')\n",
    "plt.title('Гистограммы использование интернета по тарифам')\n",
    "plt.legend()"
   ]
  },
  {
   "cell_type": "markdown",
   "metadata": {},
   "source": [
    "#####  Выводы по графику:\n",
    "1. Из графика мы видим, что у обоих тарифов распределение **нормальное**. Из таблицы `statistics_data` мы точно знаем что пик для тарифа Смарт прихоится на ~16300мб в месяц, а пик Ультра на ~19400мб в месяц. В целом с учетом размытости пика тарифа Ультра( стандартное отклонение почти в 2 раза больше чем у тарифа Смарт) и общим разбросом от 0 до 50000 значения достоточно близкие.\n",
    "2. Очень мало людей которые не использую инетрнет вовсе.\n",
    "3. Среди пользователей тарифа Ультра есть приличная доля клиентов, которые используют больше 30000мб в мес, в том время как пользователи тарифа Смарт практически никогда не выходят за этот порог. Однако если учесть, что что объем интернет-трафика включенного в абанентскую плату для тарифа Смарт составляет всего 15360 мб (Ультра - 30720 мб), то сразу становится очевидно, что больше половины клиентов выходят за лимит(среди пользователей Ультра процент таких клиентов гораздо меньше)."
   ]
  },
  {
   "cell_type": "code",
   "execution_count": 28,
   "metadata": {},
   "outputs": [
    {
     "data": {
      "text/plain": [
       "0.13604060913705585"
      ]
     },
     "execution_count": 28,
     "metadata": {},
     "output_type": "execute_result"
    }
   ],
   "source": [
    "# процент пользователей Ультра, которые переплачивают за интернет\n",
    "len(data.query('tariff == \"ultra\" and mb_used > 30720')) / len(data.query('tariff == \"ultra\"'))"
   ]
  },
  {
   "cell_type": "code",
   "execution_count": 29,
   "metadata": {},
   "outputs": [
    {
     "data": {
      "text/plain": [
       "<matplotlib.legend.Legend at 0x7f275fd63550>"
      ]
     },
     "execution_count": 29,
     "metadata": {},
     "output_type": "execute_result"
    },
    {
     "data": {
      "image/png": "[encoded data removed]",
      "text/plain": [
       "<Figure size 432x288 with 1 Axes>"
      ]
     },
     "metadata": {
      "needs_background": "light"
     },
     "output_type": "display_data"
    }
   ],
   "source": [
    "ax = plt.hist(x=data.query('tariff == \"smart\"')['duration_minut'],  bins=100, alpha = 0.5, label  = 'smart')\n",
    "plt.hist(x=data.query('tariff == \"ultra\"')['duration_minut'],  bins=100, alpha = 0.5, label = 'ultra')\n",
    "plt.ylabel('Кол-во месяцев')\n",
    "plt.xlabel('Использование минут в месяц')\n",
    "plt.title('Гистограммы использование минут при звонке по тарифам')\n",
    "plt.legend()"
   ]
  },
  {
   "cell_type": "markdown",
   "metadata": {},
   "source": [
    "#####  Выводы по графику:\n",
    "1. Из графика мы видим, что у обоих тарифов так же распределение **нормальное**. Хотя для тарифа Ультра пик опять очень сглажен( снова стандартное отклонение изходя из таблицы `statistics_data` почти в 2 раза больше), в среднем для обоих тарифов клиенты в большинстве случаев используют от 400 до 600 минут в месяц.\n",
    "2. Здесь гораздо больше людей которые не совершают звонки, особенно среди пользователей тарифа Ультра. \n",
    "3. Опять же просматривается тенденция, что пользователи тарифа Смарт выходят за ограничение по минутам в месяц, включенным в абонентскую плату - 500мин/мес. А если точнее, то немного меньше половины пользователей, т.к медиана = 435. Пользователи же тарифа Ультра вообще не выговаривают даже половины своих минут(3000 мин/мес)."
   ]
  },
  {
   "cell_type": "code",
   "execution_count": 30,
   "metadata": {},
   "outputs": [
    {
     "data": {
      "text/plain": [
       "<matplotlib.legend.Legend at 0x7f276031e190>"
      ]
     },
     "execution_count": 30,
     "metadata": {},
     "output_type": "execute_result"
    },
    {
     "data": {
      "image/png": "[encoded data removed]",
      "text/plain": [
       "<Figure size 432x288 with 1 Axes>"
      ]
     },
     "metadata": {
      "needs_background": "light"
     },
     "output_type": "display_data"
    }
   ],
   "source": [
    "ax = plt.hist(x=data.query('tariff == \"smart\"')['count_messages'],  bins=50, alpha = 0.5, range=(0, 200), label  = 'smart')\n",
    "plt.hist(x=data.query('tariff == \"ultra\"')['count_messages'],  bins=50, alpha = 0.5, range=(0, 200), label = 'ultra')\n",
    "plt.ylabel('Кол-во месяцев')\n",
    "plt.xlabel('Количество отправленных смс в месяц')\n",
    "plt.title('Гистограммы использование сообщений по тарифам')\n",
    "plt.legend()"
   ]
  },
  {
   "cell_type": "markdown",
   "metadata": {},
   "source": [
    "##  Шаг 4. Проверим гипотезы.<a class=\"anchor\" id=\"step4\"></a>"
   ]
  },
  {
   "cell_type": "code",
   "execution_count": 31,
   "metadata": {},
   "outputs": [],
   "source": [
    "# создадим два массива содержащие выборки по двум тарифам\n",
    "smart = data.query('tariff == \"smart\" ')['revenue']\n",
    "ultra = data.query('tariff == \"ultra\" ')['revenue']"
   ]
  },
  {
   "cell_type": "code",
   "execution_count": 32,
   "metadata": {},
   "outputs": [
    {
     "name": "stdout",
     "output_type": "stream",
     "text": [
      "Средний доход тарифа Смарт = 1248.4999938663639\n",
      "Средний доход тарифа Ультра = 2059.9303368892765\n",
      "p-значение: 1.6437863652252344e-181\n",
      "Отвергаем нулевую гипотезу\n"
     ]
    }
   ],
   "source": [
    "alpha = .01\n",
    "print(f'Средний доход тарифа Смарт = {smart.mean()}')\n",
    "print(f'Средний доход тарифа Ультра = {ultra.mean()}')\n",
    "results = st.ttest_ind(smart, ultra)\n",
    "print('p-значение:', results.pvalue)\n",
    "\n",
    "if (results.pvalue < alpha):\n",
    "    print(\"Отвергаем нулевую гипотезу\")\n",
    "else:\n",
    "    print(\"Не получилось отвергнуть нулевую гипотезу\") "
   ]
  },
  {
   "cell_type": "markdown",
   "metadata": {},
   "source": [
    "##### Вывод:\n",
    "Тест показал, что средняя выручка двух тарифов неодинакова, а цифры, которые я вывел - 1248 и 2060 - показывают, в какую сторону они неодинаковы. Т.е можно сделать вывод, что в среднем пользователи тарифа Ультра приносят почти в 2 раза больше доход компании, чем пользователи тарифа Смарт."
   ]
  },
  {
   "cell_type": "markdown",
   "metadata": {},
   "source": [
    "#### Вторая гипотеза. Средняя выручка пользователей из Москвы отличается от выручки пользователей из других регионов.\n",
    "Сформулируем гипотезу:\n",
    "\n",
    "**Н0** - средняя выручка пользователей Москвы **равна** средней выручке пользователей остальных регионов.\n",
    "\n",
    "**Н1** - средние вырчукы этих пользователей **не равны**. \n",
    "\n",
    "Здесь логика точно такая же, как в предыдущем тесте: сравниваем выборки двух генеральных совокупностей. Критический уровень статистической значимости - **0.01**."
   ]
  },
  {
   "cell_type": "code",
   "execution_count": 33,
   "metadata": {},
   "outputs": [],
   "source": [
    "# добавим столбец с городом\n",
    "data = data.merge(users[['city','user_id']], on='user_id')"
   ]
  },
  {
   "cell_type": "code",
   "execution_count": 34,
   "metadata": {},
   "outputs": [
    {
     "name": "stdout",
     "output_type": "stream",
     "text": [
      "Средний доход по Москве = 1515.7106865665917\n",
      "Средний доход по другим регионам = 1492.830825459806\n",
      "p-значение: 0.5173290189764927\n",
      "Не получилось отвергнуть нулевую гипотезу\n"
     ]
    }
   ],
   "source": [
    "moscow = data.query('city == \"Москва\" ')['revenue']\n",
    "other = data.query('city != \"Москва\" ')['revenue']\n",
    "\n",
    "alpha = .01\n",
    "\n",
    "print(f'Средний доход по Москве = {moscow.mean()}')\n",
    "print(f'Средний доход по другим регионам = {other.mean()}')\n",
    "results = st.ttest_ind(moscow, other)\n",
    "print('p-значение:', results.pvalue)\n",
    "\n",
    "if (results.pvalue < alpha):\n",
    "    print(\"Отвергаем нулевую гипотезу\")\n",
    "else:\n",
    "    print(\"Не получилось отвергнуть нулевую гипотезу\") "
   ]
  },
  {
   "cell_type": "markdown",
   "metadata": {},
   "source": [
    "## Общий вывод. <a class=\"anchor\" id=\"step5\"></a>\n",
    "\n",
    "### Исходя из проведенного анализа можно сказать следующее:\n",
    "\n",
    "1. Если все же нулевые значения в звонках по минутам являются не ошибкой а пропущенными, стоит исключить их заполнение 0-ми: либо не добавлять в таблицу вообще, либо указывать NaN, для дальнейшего удобства при проведении анализа.\n",
    "2. Практически нет никакого различия между тем, в каком регионе используют тариф, средний доход везде в целом одинаков.\n",
    "3. Пользоваели тарифа Ультра приносят гораздо больше дохода компании, чем пользователи тарифа Смарт. Их среднее не равно в пользу тарифа Ультра.\n",
    "3. Не смотря на разность в доходе, именно пользователи тарифа Смарт склонны постоянно переплачивать за свой тариф: в среднем на 698 рублей ( ср. доход 1248р/мес - абон. плата 550р/мес.), то есть переплаты их составляют более чем в два раза.\n",
    "4. Пользователи тарифа Ультра переплачивают только за интернет, и то всего 13.5% от пользователей. Минуты и смс у них всегда остаются неиспользованными.\n",
    "5. Из пункта 3 и 4 можно сделать отдельный вывод о том, что не смотря на то, что основной доход приносят пользователи тарифа Ультра, **дополнительный** доход (переплаты сверх абон. платы) поступает от пользователей Смарт.\n",
    "\n",
    "### Итог:\n",
    "Не смотря на то, что тариф Ультра приноси компании больлше денег, большенство пользователей не использует весь включенный в пакет лимит сообщений, минут разговора и интернета. А пользователям тарифа Смарт постоянно нехватает их пакета. Возможно компании стоит сделать и рассчитать условия для промежуточного тарифа. Так она сможет привлечь клиентов, для которых условия текущих тарифов либо излишне дороги(Ультра), либо наоборот малы и недостаточны(Смарт)\n"
   ]
  }
 ],
 "metadata": {
  "ExecuteTimeLog": [
   {
    "duration": 1766,
    "start_time": "2021-06-21T20:56:24.568Z"
   },
   {
    "duration": 728,
    "start_time": "2021-06-21T20:56:26.337Z"
   },
   {
    "duration": 120,
    "start_time": "2021-06-21T20:56:27.069Z"
   },
   {
    "duration": 146,
    "start_time": "2021-06-21T20:56:27.193Z"
   },
   {
    "duration": 28,
    "start_time": "2021-06-21T20:56:27.341Z"
   },
   {
    "duration": 27,
    "start_time": "2021-06-21T20:56:27.371Z"
   },
   {
    "duration": 10,
    "start_time": "2021-06-21T20:56:27.401Z"
   },
   {
    "duration": 471,
    "start_time": "2021-06-21T20:56:27.414Z"
   },
   {
    "duration": -202,
    "start_time": "2021-06-21T20:56:28.093Z"
   },
   {
    "duration": -202,
    "start_time": "2021-06-21T20:56:28.095Z"
   },
   {
    "duration": -202,
    "start_time": "2021-06-21T20:56:28.097Z"
   },
   {
    "duration": -202,
    "start_time": "2021-06-21T20:56:28.098Z"
   },
   {
    "duration": -204,
    "start_time": "2021-06-21T20:56:28.102Z"
   },
   {
    "duration": -205,
    "start_time": "2021-06-21T20:56:28.105Z"
   },
   {
    "duration": -209,
    "start_time": "2021-06-21T20:56:28.111Z"
   },
   {
    "duration": -210,
    "start_time": "2021-06-21T20:56:28.114Z"
   },
   {
    "duration": -209,
    "start_time": "2021-06-21T20:56:28.115Z"
   },
   {
    "duration": -210,
    "start_time": "2021-06-21T20:56:28.118Z"
   },
   {
    "duration": -209,
    "start_time": "2021-06-21T20:56:28.119Z"
   },
   {
    "duration": -209,
    "start_time": "2021-06-21T20:56:28.121Z"
   },
   {
    "duration": -208,
    "start_time": "2021-06-21T20:56:28.122Z"
   },
   {
    "duration": -207,
    "start_time": "2021-06-21T20:56:28.123Z"
   },
   {
    "duration": -211,
    "start_time": "2021-06-21T20:56:28.128Z"
   },
   {
    "duration": -212,
    "start_time": "2021-06-21T20:56:28.131Z"
   },
   {
    "duration": -249,
    "start_time": "2021-06-21T20:56:28.171Z"
   },
   {
    "duration": -252,
    "start_time": "2021-06-21T20:56:28.175Z"
   },
   {
    "duration": -252,
    "start_time": "2021-06-21T20:56:28.177Z"
   },
   {
    "duration": -195,
    "start_time": "2021-06-21T20:56:28.180Z"
   },
   {
    "duration": -196,
    "start_time": "2021-06-21T20:56:28.183Z"
   },
   {
    "duration": -199,
    "start_time": "2021-06-21T20:56:28.188Z"
   },
   {
    "duration": -200,
    "start_time": "2021-06-21T20:56:28.191Z"
   },
   {
    "duration": -200,
    "start_time": "2021-06-21T20:56:28.193Z"
   },
   {
    "duration": -200,
    "start_time": "2021-06-21T20:56:28.194Z"
   },
   {
    "duration": -199,
    "start_time": "2021-06-21T20:56:28.195Z"
   },
   {
    "duration": -199,
    "start_time": "2021-06-21T20:56:28.197Z"
   },
   {
    "duration": 1345,
    "start_time": "2021-06-21T20:56:58.387Z"
   },
   {
    "duration": 532,
    "start_time": "2021-06-21T20:56:59.735Z"
   },
   {
    "duration": 89,
    "start_time": "2021-06-21T20:57:00.270Z"
   },
   {
    "duration": 123,
    "start_time": "2021-06-21T20:57:00.362Z"
   },
   {
    "duration": 19,
    "start_time": "2021-06-21T20:57:00.488Z"
   },
   {
    "duration": 11,
    "start_time": "2021-06-21T20:57:00.510Z"
   },
   {
    "duration": 15,
    "start_time": "2021-06-21T20:57:00.523Z"
   },
   {
    "duration": 4717,
    "start_time": "2021-06-21T20:57:00.541Z"
   },
   {
    "duration": 81,
    "start_time": "2021-06-21T20:57:05.262Z"
   },
   {
    "duration": 45,
    "start_time": "2021-06-21T20:57:05.346Z"
   },
   {
    "duration": 11,
    "start_time": "2021-06-21T20:57:05.394Z"
   },
   {
    "duration": 37,
    "start_time": "2021-06-21T20:57:05.408Z"
   },
   {
    "duration": 11,
    "start_time": "2021-06-21T20:57:05.448Z"
   },
   {
    "duration": 22,
    "start_time": "2021-06-21T20:57:05.485Z"
   },
   {
    "duration": 11,
    "start_time": "2021-06-21T20:57:05.510Z"
   },
   {
    "duration": 16,
    "start_time": "2021-06-21T20:57:05.524Z"
   },
   {
    "duration": 14,
    "start_time": "2021-06-21T20:57:05.542Z"
   },
   {
    "duration": 12,
    "start_time": "2021-06-21T20:57:05.586Z"
   },
   {
    "duration": 23,
    "start_time": "2021-06-21T20:57:05.600Z"
   },
   {
    "duration": 20,
    "start_time": "2021-06-21T20:57:05.625Z"
   },
   {
    "duration": 25,
    "start_time": "2021-06-21T20:57:05.647Z"
   },
   {
    "duration": 6,
    "start_time": "2021-06-21T20:57:05.686Z"
   },
   {
    "duration": 26,
    "start_time": "2021-06-21T20:57:05.696Z"
   },
   {
    "duration": 549,
    "start_time": "2021-06-21T20:57:05.725Z"
   },
   {
    "duration": 27,
    "start_time": "2021-06-21T20:57:06.276Z"
   },
   {
    "duration": 79,
    "start_time": "2021-06-21T20:57:06.306Z"
   },
   {
    "duration": 999,
    "start_time": "2021-06-21T20:57:06.387Z"
   },
   {
    "duration": 15,
    "start_time": "2021-06-21T20:57:07.388Z"
   },
   {
    "duration": 1017,
    "start_time": "2021-06-21T20:57:07.406Z"
   },
   {
    "duration": 762,
    "start_time": "2021-06-21T20:57:08.426Z"
   },
   {
    "duration": 13,
    "start_time": "2021-06-21T20:57:09.191Z"
   },
   {
    "duration": 18,
    "start_time": "2021-06-21T20:57:09.206Z"
   },
   {
    "duration": 11,
    "start_time": "2021-06-21T20:57:09.227Z"
   },
   {
    "duration": 54,
    "start_time": "2021-06-21T20:57:09.240Z"
   }
  ],
  "kernelspec": {
   "display_name": "Python 3",
   "language": "python",
   "name": "python3"
  },
  "language_info": {
   "codemirror_mode": {
    "name": "ipython",
    "version": 3
   },
   "file_extension": ".py",
   "mimetype": "text/x-python",
   "name": "python",
   "nbconvert_exporter": "python",
   "pygments_lexer": "ipython3",
   "version": "3.7.8"
  },
  "toc": {
   "base_numbering": 1,
   "nav_menu": {},
   "number_sections": false,
   "sideBar": true,
   "skip_h1_title": true,
   "title_cell": "Table of Contents",
   "title_sidebar": "Contents",
   "toc_cell": false,
   "toc_position": {},
   "toc_section_display": true,
   "toc_window_display": false
  }
 },
 "nbformat": 4,
 "nbformat_minor": 2
}
