{
 "cells": [
  {
   "cell_type": "markdown",
   "metadata": {},
   "source": [
    "# Исследование объявлений о продаже квартир\n",
    "\n",
    "В вашем распоряжении данные сервиса Яндекс.Недвижимость — архив объявлений о продаже квартир в Санкт-Петербурге и соседних населённых пунктов за несколько лет. Нужно научиться определять рыночную стоимость объектов недвижимости. Ваша задача — установить параметры. Это позволит построить автоматизированную систему: она отследит аномалии и мошенническую деятельность. \n",
    "\n",
    "По каждой квартире на продажу доступны два вида данных. Первые вписаны пользователем, вторые — получены автоматически на основе картографических данных. Например, расстояние до центра, аэропорта, ближайшего парка и водоёма. "
   ]
  },
  {
   "cell_type": "markdown",
   "metadata": {},
   "source": [
    "### Шаг 1. Откройте файл с данными и изучите общую информацию. "
   ]
  },
  {
   "cell_type": "code",
   "execution_count": 64,
   "metadata": {},
   "outputs": [
    {
     "name": "stdout",
     "output_type": "stream",
     "text": [
      "<class 'pandas.core.frame.DataFrame'>\n",
      "RangeIndex: 23699 entries, 0 to 23698\n",
      "Data columns (total 22 columns):\n",
      "total_images            23699 non-null int64\n",
      "last_price              23699 non-null float64\n",
      "total_area              23699 non-null float64\n",
      "first_day_exposition    23699 non-null object\n",
      "rooms                   23699 non-null int64\n",
      "ceiling_height          14504 non-null float64\n",
      "floors_total            23613 non-null float64\n",
      "living_area             21796 non-null float64\n",
      "floor                   23699 non-null int64\n",
      "is_apartment            2775 non-null object\n",
      "studio                  23699 non-null bool\n",
      "open_plan               23699 non-null bool\n",
      "kitchen_area            21421 non-null float64\n",
      "balcony                 12180 non-null float64\n",
      "locality_name           23650 non-null object\n",
      "airports_nearest        18157 non-null float64\n",
      "cityCenters_nearest     18180 non-null float64\n",
      "parks_around3000        18181 non-null float64\n",
      "parks_nearest           8079 non-null float64\n",
      "ponds_around3000        18181 non-null float64\n",
      "ponds_nearest           9110 non-null float64\n",
      "days_exposition         20518 non-null float64\n",
      "dtypes: bool(2), float64(14), int64(3), object(3)\n",
      "memory usage: 3.7+ MB\n",
      "None\n"
     ]
    },
    {
     "data": {
      "text/html": [
       "<div>\n",
       "<style scoped>\n",
       "    .dataframe tbody tr th:only-of-type {\n",
       "        vertical-align: middle;\n",
       "    }\n",
       "\n",
       "    .dataframe tbody tr th {\n",
       "        vertical-align: top;\n",
       "    }\n",
       "\n",
       "    .dataframe thead th {\n",
       "        text-align: right;\n",
       "    }\n",
       "</style>\n",
       "<table border=\"1\" class=\"dataframe\">\n",
       "  <thead>\n",
       "    <tr style=\"text-align: right;\">\n",
       "      <th></th>\n",
       "      <th>total_images</th>\n",
       "      <th>last_price</th>\n",
       "      <th>total_area</th>\n",
       "      <th>first_day_exposition</th>\n",
       "      <th>rooms</th>\n",
       "      <th>ceiling_height</th>\n",
       "      <th>floors_total</th>\n",
       "      <th>living_area</th>\n",
       "      <th>floor</th>\n",
       "      <th>is_apartment</th>\n",
       "      <th>...</th>\n",
       "      <th>kitchen_area</th>\n",
       "      <th>balcony</th>\n",
       "      <th>locality_name</th>\n",
       "      <th>airports_nearest</th>\n",
       "      <th>cityCenters_nearest</th>\n",
       "      <th>parks_around3000</th>\n",
       "      <th>parks_nearest</th>\n",
       "      <th>ponds_around3000</th>\n",
       "      <th>ponds_nearest</th>\n",
       "      <th>days_exposition</th>\n",
       "    </tr>\n",
       "  </thead>\n",
       "  <tbody>\n",
       "    <tr>\n",
       "      <td>0</td>\n",
       "      <td>20</td>\n",
       "      <td>13000000.0</td>\n",
       "      <td>108.00</td>\n",
       "      <td>2019-03-07T00:00:00</td>\n",
       "      <td>3</td>\n",
       "      <td>2.70</td>\n",
       "      <td>16.0</td>\n",
       "      <td>51.00</td>\n",
       "      <td>8</td>\n",
       "      <td>NaN</td>\n",
       "      <td>...</td>\n",
       "      <td>25.00</td>\n",
       "      <td>NaN</td>\n",
       "      <td>Санкт-Петербург</td>\n",
       "      <td>18863.0</td>\n",
       "      <td>16028.0</td>\n",
       "      <td>1.0</td>\n",
       "      <td>482.0</td>\n",
       "      <td>2.0</td>\n",
       "      <td>755.0</td>\n",
       "      <td>NaN</td>\n",
       "    </tr>\n",
       "    <tr>\n",
       "      <td>1</td>\n",
       "      <td>7</td>\n",
       "      <td>3350000.0</td>\n",
       "      <td>40.40</td>\n",
       "      <td>2018-12-04T00:00:00</td>\n",
       "      <td>1</td>\n",
       "      <td>NaN</td>\n",
       "      <td>11.0</td>\n",
       "      <td>18.60</td>\n",
       "      <td>1</td>\n",
       "      <td>NaN</td>\n",
       "      <td>...</td>\n",
       "      <td>11.00</td>\n",
       "      <td>2.0</td>\n",
       "      <td>посёлок Шушары</td>\n",
       "      <td>12817.0</td>\n",
       "      <td>18603.0</td>\n",
       "      <td>0.0</td>\n",
       "      <td>NaN</td>\n",
       "      <td>0.0</td>\n",
       "      <td>NaN</td>\n",
       "      <td>81.0</td>\n",
       "    </tr>\n",
       "    <tr>\n",
       "      <td>2</td>\n",
       "      <td>10</td>\n",
       "      <td>5196000.0</td>\n",
       "      <td>56.00</td>\n",
       "      <td>2015-08-20T00:00:00</td>\n",
       "      <td>2</td>\n",
       "      <td>NaN</td>\n",
       "      <td>5.0</td>\n",
       "      <td>34.30</td>\n",
       "      <td>4</td>\n",
       "      <td>NaN</td>\n",
       "      <td>...</td>\n",
       "      <td>8.30</td>\n",
       "      <td>0.0</td>\n",
       "      <td>Санкт-Петербург</td>\n",
       "      <td>21741.0</td>\n",
       "      <td>13933.0</td>\n",
       "      <td>1.0</td>\n",
       "      <td>90.0</td>\n",
       "      <td>2.0</td>\n",
       "      <td>574.0</td>\n",
       "      <td>558.0</td>\n",
       "    </tr>\n",
       "    <tr>\n",
       "      <td>3</td>\n",
       "      <td>0</td>\n",
       "      <td>64900000.0</td>\n",
       "      <td>159.00</td>\n",
       "      <td>2015-07-24T00:00:00</td>\n",
       "      <td>3</td>\n",
       "      <td>NaN</td>\n",
       "      <td>14.0</td>\n",
       "      <td>NaN</td>\n",
       "      <td>9</td>\n",
       "      <td>NaN</td>\n",
       "      <td>...</td>\n",
       "      <td>NaN</td>\n",
       "      <td>0.0</td>\n",
       "      <td>Санкт-Петербург</td>\n",
       "      <td>28098.0</td>\n",
       "      <td>6800.0</td>\n",
       "      <td>2.0</td>\n",
       "      <td>84.0</td>\n",
       "      <td>3.0</td>\n",
       "      <td>234.0</td>\n",
       "      <td>424.0</td>\n",
       "    </tr>\n",
       "    <tr>\n",
       "      <td>4</td>\n",
       "      <td>2</td>\n",
       "      <td>10000000.0</td>\n",
       "      <td>100.00</td>\n",
       "      <td>2018-06-19T00:00:00</td>\n",
       "      <td>2</td>\n",
       "      <td>3.03</td>\n",
       "      <td>14.0</td>\n",
       "      <td>32.00</td>\n",
       "      <td>13</td>\n",
       "      <td>NaN</td>\n",
       "      <td>...</td>\n",
       "      <td>41.00</td>\n",
       "      <td>NaN</td>\n",
       "      <td>Санкт-Петербург</td>\n",
       "      <td>31856.0</td>\n",
       "      <td>8098.0</td>\n",
       "      <td>2.0</td>\n",
       "      <td>112.0</td>\n",
       "      <td>1.0</td>\n",
       "      <td>48.0</td>\n",
       "      <td>121.0</td>\n",
       "    </tr>\n",
       "    <tr>\n",
       "      <td>5</td>\n",
       "      <td>10</td>\n",
       "      <td>2890000.0</td>\n",
       "      <td>30.40</td>\n",
       "      <td>2018-09-10T00:00:00</td>\n",
       "      <td>1</td>\n",
       "      <td>NaN</td>\n",
       "      <td>12.0</td>\n",
       "      <td>14.40</td>\n",
       "      <td>5</td>\n",
       "      <td>NaN</td>\n",
       "      <td>...</td>\n",
       "      <td>9.10</td>\n",
       "      <td>NaN</td>\n",
       "      <td>городской посёлок Янино-1</td>\n",
       "      <td>NaN</td>\n",
       "      <td>NaN</td>\n",
       "      <td>NaN</td>\n",
       "      <td>NaN</td>\n",
       "      <td>NaN</td>\n",
       "      <td>NaN</td>\n",
       "      <td>55.0</td>\n",
       "    </tr>\n",
       "    <tr>\n",
       "      <td>6</td>\n",
       "      <td>6</td>\n",
       "      <td>3700000.0</td>\n",
       "      <td>37.30</td>\n",
       "      <td>2017-11-02T00:00:00</td>\n",
       "      <td>1</td>\n",
       "      <td>NaN</td>\n",
       "      <td>26.0</td>\n",
       "      <td>10.60</td>\n",
       "      <td>6</td>\n",
       "      <td>NaN</td>\n",
       "      <td>...</td>\n",
       "      <td>14.40</td>\n",
       "      <td>1.0</td>\n",
       "      <td>посёлок Парголово</td>\n",
       "      <td>52996.0</td>\n",
       "      <td>19143.0</td>\n",
       "      <td>0.0</td>\n",
       "      <td>NaN</td>\n",
       "      <td>0.0</td>\n",
       "      <td>NaN</td>\n",
       "      <td>155.0</td>\n",
       "    </tr>\n",
       "    <tr>\n",
       "      <td>7</td>\n",
       "      <td>5</td>\n",
       "      <td>7915000.0</td>\n",
       "      <td>71.60</td>\n",
       "      <td>2019-04-18T00:00:00</td>\n",
       "      <td>2</td>\n",
       "      <td>NaN</td>\n",
       "      <td>24.0</td>\n",
       "      <td>NaN</td>\n",
       "      <td>22</td>\n",
       "      <td>NaN</td>\n",
       "      <td>...</td>\n",
       "      <td>18.90</td>\n",
       "      <td>2.0</td>\n",
       "      <td>Санкт-Петербург</td>\n",
       "      <td>23982.0</td>\n",
       "      <td>11634.0</td>\n",
       "      <td>0.0</td>\n",
       "      <td>NaN</td>\n",
       "      <td>0.0</td>\n",
       "      <td>NaN</td>\n",
       "      <td>NaN</td>\n",
       "    </tr>\n",
       "    <tr>\n",
       "      <td>8</td>\n",
       "      <td>20</td>\n",
       "      <td>2900000.0</td>\n",
       "      <td>33.16</td>\n",
       "      <td>2018-05-23T00:00:00</td>\n",
       "      <td>1</td>\n",
       "      <td>NaN</td>\n",
       "      <td>27.0</td>\n",
       "      <td>15.43</td>\n",
       "      <td>26</td>\n",
       "      <td>NaN</td>\n",
       "      <td>...</td>\n",
       "      <td>8.81</td>\n",
       "      <td>NaN</td>\n",
       "      <td>посёлок Мурино</td>\n",
       "      <td>NaN</td>\n",
       "      <td>NaN</td>\n",
       "      <td>NaN</td>\n",
       "      <td>NaN</td>\n",
       "      <td>NaN</td>\n",
       "      <td>NaN</td>\n",
       "      <td>189.0</td>\n",
       "    </tr>\n",
       "    <tr>\n",
       "      <td>9</td>\n",
       "      <td>18</td>\n",
       "      <td>5400000.0</td>\n",
       "      <td>61.00</td>\n",
       "      <td>2017-02-26T00:00:00</td>\n",
       "      <td>3</td>\n",
       "      <td>2.50</td>\n",
       "      <td>9.0</td>\n",
       "      <td>43.60</td>\n",
       "      <td>7</td>\n",
       "      <td>NaN</td>\n",
       "      <td>...</td>\n",
       "      <td>6.50</td>\n",
       "      <td>2.0</td>\n",
       "      <td>Санкт-Петербург</td>\n",
       "      <td>50898.0</td>\n",
       "      <td>15008.0</td>\n",
       "      <td>0.0</td>\n",
       "      <td>NaN</td>\n",
       "      <td>0.0</td>\n",
       "      <td>NaN</td>\n",
       "      <td>289.0</td>\n",
       "    </tr>\n",
       "  </tbody>\n",
       "</table>\n",
       "<p>10 rows × 22 columns</p>\n",
       "</div>"
      ],
      "text/plain": [
       "   total_images  last_price  total_area first_day_exposition  rooms  \\\n",
       "0            20  13000000.0      108.00  2019-03-07T00:00:00      3   \n",
       "1             7   3350000.0       40.40  2018-12-04T00:00:00      1   \n",
       "2            10   5196000.0       56.00  2015-08-20T00:00:00      2   \n",
       "3             0  64900000.0      159.00  2015-07-24T00:00:00      3   \n",
       "4             2  10000000.0      100.00  2018-06-19T00:00:00      2   \n",
       "5            10   2890000.0       30.40  2018-09-10T00:00:00      1   \n",
       "6             6   3700000.0       37.30  2017-11-02T00:00:00      1   \n",
       "7             5   7915000.0       71.60  2019-04-18T00:00:00      2   \n",
       "8            20   2900000.0       33.16  2018-05-23T00:00:00      1   \n",
       "9            18   5400000.0       61.00  2017-02-26T00:00:00      3   \n",
       "\n",
       "   ceiling_height  floors_total  living_area  floor is_apartment  ...  \\\n",
       "0            2.70          16.0        51.00      8          NaN  ...   \n",
       "1             NaN          11.0        18.60      1          NaN  ...   \n",
       "2             NaN           5.0        34.30      4          NaN  ...   \n",
       "3             NaN          14.0          NaN      9          NaN  ...   \n",
       "4            3.03          14.0        32.00     13          NaN  ...   \n",
       "5             NaN          12.0        14.40      5          NaN  ...   \n",
       "6             NaN          26.0        10.60      6          NaN  ...   \n",
       "7             NaN          24.0          NaN     22          NaN  ...   \n",
       "8             NaN          27.0        15.43     26          NaN  ...   \n",
       "9            2.50           9.0        43.60      7          NaN  ...   \n",
       "\n",
       "   kitchen_area  balcony              locality_name  airports_nearest  \\\n",
       "0         25.00      NaN            Санкт-Петербург           18863.0   \n",
       "1         11.00      2.0             посёлок Шушары           12817.0   \n",
       "2          8.30      0.0            Санкт-Петербург           21741.0   \n",
       "3           NaN      0.0            Санкт-Петербург           28098.0   \n",
       "4         41.00      NaN            Санкт-Петербург           31856.0   \n",
       "5          9.10      NaN  городской посёлок Янино-1               NaN   \n",
       "6         14.40      1.0          посёлок Парголово           52996.0   \n",
       "7         18.90      2.0            Санкт-Петербург           23982.0   \n",
       "8          8.81      NaN             посёлок Мурино               NaN   \n",
       "9          6.50      2.0            Санкт-Петербург           50898.0   \n",
       "\n",
       "  cityCenters_nearest  parks_around3000  parks_nearest  ponds_around3000  \\\n",
       "0             16028.0               1.0          482.0               2.0   \n",
       "1             18603.0               0.0            NaN               0.0   \n",
       "2             13933.0               1.0           90.0               2.0   \n",
       "3              6800.0               2.0           84.0               3.0   \n",
       "4              8098.0               2.0          112.0               1.0   \n",
       "5                 NaN               NaN            NaN               NaN   \n",
       "6             19143.0               0.0            NaN               0.0   \n",
       "7             11634.0               0.0            NaN               0.0   \n",
       "8                 NaN               NaN            NaN               NaN   \n",
       "9             15008.0               0.0            NaN               0.0   \n",
       "\n",
       "   ponds_nearest  days_exposition  \n",
       "0          755.0              NaN  \n",
       "1            NaN             81.0  \n",
       "2          574.0            558.0  \n",
       "3          234.0            424.0  \n",
       "4           48.0            121.0  \n",
       "5            NaN             55.0  \n",
       "6            NaN            155.0  \n",
       "7            NaN              NaN  \n",
       "8            NaN            189.0  \n",
       "9            NaN            289.0  \n",
       "\n",
       "[10 rows x 22 columns]"
      ]
     },
     "execution_count": 64,
     "metadata": {},
     "output_type": "execute_result"
    }
   ],
   "source": [
    "import pandas as pd\n",
    "import numpy as np\n",
    "import matplotlib.pyplot as plt\n",
    "data = pd.read_csv('/datasets/real_estate_data.csv', sep='\\t')\n",
    "print(data.info())\n",
    "data.head(10)"
   ]
  },
  {
   "cell_type": "markdown",
   "metadata": {},
   "source": [
    "### Вывод"
   ]
  },
  {
   "cell_type": "markdown",
   "metadata": {},
   "source": [
    "###### Таблица содержит 23699 строк, то есть 23699 объявлений о продаже квартиры, и 22 столбца. У некоторых столбцов имеются пропущеные значения, их необходимо будет рассмотреть и обработать при необходимости."
   ]
  },
  {
   "cell_type": "markdown",
   "metadata": {},
   "source": [
    "### Шаг 2. Предобработка данных"
   ]
  },
  {
   "cell_type": "code",
   "execution_count": 65,
   "metadata": {},
   "outputs": [
    {
     "data": {
      "text/plain": [
       "False    23649\n",
       "True        50\n",
       "Name: is_apartment, dtype: int64"
      ]
     },
     "execution_count": 65,
     "metadata": {},
     "output_type": "execute_result"
    }
   ],
   "source": [
    "# проверим столбец is_apartment, какие значения он имеет\n",
    "data['is_apartment'].value_counts()\n",
    "# вероятнее всего пропущенные значения это те же False, поэтому заменим их соответственно на False\n",
    "data['is_apartment'] = data['is_apartment'].fillna(False)\n",
    "data['is_apartment'].value_counts()"
   ]
  },
  {
   "cell_type": "code",
   "execution_count": 66,
   "metadata": {},
   "outputs": [
    {
     "data": {
      "text/plain": [
       "0.0    15277\n",
       "1.0     4195\n",
       "2.0     3659\n",
       "5.0      304\n",
       "4.0      183\n",
       "3.0       81\n",
       "Name: balcony, dtype: int64"
      ]
     },
     "execution_count": 66,
     "metadata": {},
     "output_type": "execute_result"
    }
   ],
   "source": [
    "#тоже самое проделаем с балконами\n",
    "data['balcony'].value_counts()\n",
    "#пропущенное значение так же вероятнее всего означает что балкона нет\n",
    "data['balcony'] = data['balcony'].fillna(0)\n",
    "data['balcony'].value_counts()"
   ]
  },
  {
   "cell_type": "code",
   "execution_count": 67,
   "metadata": {},
   "outputs": [
    {
     "data": {
      "text/plain": [
       "<matplotlib.axes._subplots.AxesSubplot at 0x7f0b2e63fb90>"
      ]
     },
     "execution_count": 67,
     "metadata": {},
     "output_type": "execute_result"
    },
    {
     "data": {
      "image/png": "[encoded data removed]",
      "text/plain": [
       "<Figure size 432x288 with 1 Axes>"
      ]
     },
     "metadata": {
      "needs_background": "light"
     },
     "output_type": "display_data"
    }
   ],
   "source": [
    "# из общего инфо по таблице мы знаем что в графе ceiling_height есть пропущенные значения, их необходимо заполнить, так как по \n",
    "# данному столбцу мы будем проводить исследование\n",
    "# проверим на гистограмме распределение высоты потолков\n",
    "data['ceiling_height'].hist(bins=100)\n",
    "# видно что единичные значения достигают 100 метров, что в принципе невозможно, даже выше 4 метров найти \n",
    "# апартаменты практически невозможно, значения меньше 2 метров так же нереальны, от них можно избавиться"
   ]
  },
  {
   "cell_type": "code",
   "execution_count": 68,
   "metadata": {},
   "outputs": [],
   "source": [
    "data.drop(data[data['ceiling_height'] > 6].index, inplace=True)\n",
    "data.drop(data[data['ceiling_height'] < 2].index, inplace=True)\n",
    "data.reset_index(drop=True,inplace=True)"
   ]
  },
  {
   "cell_type": "code",
   "execution_count": 69,
   "metadata": {},
   "outputs": [
    {
     "name": "stdout",
     "output_type": "stream",
     "text": [
      "2.65\n"
     ]
    },
    {
     "data": {
      "text/html": [
       "<div>\n",
       "<style scoped>\n",
       "    .dataframe tbody tr th:only-of-type {\n",
       "        vertical-align: middle;\n",
       "    }\n",
       "\n",
       "    .dataframe tbody tr th {\n",
       "        vertical-align: top;\n",
       "    }\n",
       "\n",
       "    .dataframe thead th {\n",
       "        text-align: right;\n",
       "    }\n",
       "</style>\n",
       "<table border=\"1\" class=\"dataframe\">\n",
       "  <thead>\n",
       "    <tr style=\"text-align: right;\">\n",
       "      <th></th>\n",
       "      <th>ceiling_height</th>\n",
       "    </tr>\n",
       "    <tr>\n",
       "      <th>floors_total</th>\n",
       "      <th></th>\n",
       "    </tr>\n",
       "  </thead>\n",
       "  <tbody>\n",
       "    <tr>\n",
       "      <td>1.0</td>\n",
       "      <td>2.740000</td>\n",
       "    </tr>\n",
       "    <tr>\n",
       "      <td>2.0</td>\n",
       "      <td>2.788962</td>\n",
       "    </tr>\n",
       "    <tr>\n",
       "      <td>3.0</td>\n",
       "      <td>2.896533</td>\n",
       "    </tr>\n",
       "    <tr>\n",
       "      <td>4.0</td>\n",
       "      <td>2.956358</td>\n",
       "    </tr>\n",
       "    <tr>\n",
       "      <td>5.0</td>\n",
       "      <td>2.708221</td>\n",
       "    </tr>\n",
       "    <tr>\n",
       "      <td>6.0</td>\n",
       "      <td>3.074013</td>\n",
       "    </tr>\n",
       "    <tr>\n",
       "      <td>7.0</td>\n",
       "      <td>2.946960</td>\n",
       "    </tr>\n",
       "    <tr>\n",
       "      <td>8.0</td>\n",
       "      <td>2.856818</td>\n",
       "    </tr>\n",
       "    <tr>\n",
       "      <td>9.0</td>\n",
       "      <td>2.581166</td>\n",
       "    </tr>\n",
       "    <tr>\n",
       "      <td>10.0</td>\n",
       "      <td>2.652737</td>\n",
       "    </tr>\n",
       "    <tr>\n",
       "      <td>11.0</td>\n",
       "      <td>2.782385</td>\n",
       "    </tr>\n",
       "    <tr>\n",
       "      <td>12.0</td>\n",
       "      <td>2.642183</td>\n",
       "    </tr>\n",
       "    <tr>\n",
       "      <td>13.0</td>\n",
       "      <td>2.715470</td>\n",
       "    </tr>\n",
       "    <tr>\n",
       "      <td>14.0</td>\n",
       "      <td>2.640235</td>\n",
       "    </tr>\n",
       "    <tr>\n",
       "      <td>15.0</td>\n",
       "      <td>2.714844</td>\n",
       "    </tr>\n",
       "    <tr>\n",
       "      <td>16.0</td>\n",
       "      <td>2.726206</td>\n",
       "    </tr>\n",
       "    <tr>\n",
       "      <td>17.0</td>\n",
       "      <td>2.714781</td>\n",
       "    </tr>\n",
       "    <tr>\n",
       "      <td>18.0</td>\n",
       "      <td>2.704582</td>\n",
       "    </tr>\n",
       "    <tr>\n",
       "      <td>19.0</td>\n",
       "      <td>2.778731</td>\n",
       "    </tr>\n",
       "    <tr>\n",
       "      <td>20.0</td>\n",
       "      <td>2.756859</td>\n",
       "    </tr>\n",
       "    <tr>\n",
       "      <td>21.0</td>\n",
       "      <td>2.711692</td>\n",
       "    </tr>\n",
       "    <tr>\n",
       "      <td>22.0</td>\n",
       "      <td>2.731560</td>\n",
       "    </tr>\n",
       "    <tr>\n",
       "      <td>23.0</td>\n",
       "      <td>2.753776</td>\n",
       "    </tr>\n",
       "    <tr>\n",
       "      <td>24.0</td>\n",
       "      <td>2.737454</td>\n",
       "    </tr>\n",
       "    <tr>\n",
       "      <td>25.0</td>\n",
       "      <td>2.730192</td>\n",
       "    </tr>\n",
       "    <tr>\n",
       "      <td>26.0</td>\n",
       "      <td>2.709259</td>\n",
       "    </tr>\n",
       "    <tr>\n",
       "      <td>27.0</td>\n",
       "      <td>2.675556</td>\n",
       "    </tr>\n",
       "    <tr>\n",
       "      <td>28.0</td>\n",
       "      <td>2.594444</td>\n",
       "    </tr>\n",
       "    <tr>\n",
       "      <td>29.0</td>\n",
       "      <td>2.600000</td>\n",
       "    </tr>\n",
       "    <tr>\n",
       "      <td>34.0</td>\n",
       "      <td>2.650000</td>\n",
       "    </tr>\n",
       "    <tr>\n",
       "      <td>35.0</td>\n",
       "      <td>2.710000</td>\n",
       "    </tr>\n",
       "    <tr>\n",
       "      <td>36.0</td>\n",
       "      <td>2.700000</td>\n",
       "    </tr>\n",
       "    <tr>\n",
       "      <td>52.0</td>\n",
       "      <td>2.650000</td>\n",
       "    </tr>\n",
       "    <tr>\n",
       "      <td>60.0</td>\n",
       "      <td>2.880000</td>\n",
       "    </tr>\n",
       "  </tbody>\n",
       "</table>\n",
       "</div>"
      ],
      "text/plain": [
       "              ceiling_height\n",
       "floors_total                \n",
       "1.0                 2.740000\n",
       "2.0                 2.788962\n",
       "3.0                 2.896533\n",
       "4.0                 2.956358\n",
       "5.0                 2.708221\n",
       "6.0                 3.074013\n",
       "7.0                 2.946960\n",
       "8.0                 2.856818\n",
       "9.0                 2.581166\n",
       "10.0                2.652737\n",
       "11.0                2.782385\n",
       "12.0                2.642183\n",
       "13.0                2.715470\n",
       "14.0                2.640235\n",
       "15.0                2.714844\n",
       "16.0                2.726206\n",
       "17.0                2.714781\n",
       "18.0                2.704582\n",
       "19.0                2.778731\n",
       "20.0                2.756859\n",
       "21.0                2.711692\n",
       "22.0                2.731560\n",
       "23.0                2.753776\n",
       "24.0                2.737454\n",
       "25.0                2.730192\n",
       "26.0                2.709259\n",
       "27.0                2.675556\n",
       "28.0                2.594444\n",
       "29.0                2.600000\n",
       "34.0                2.650000\n",
       "35.0                2.710000\n",
       "36.0                2.700000\n",
       "52.0                2.650000\n",
       "60.0                2.880000"
      ]
     },
     "execution_count": 69,
     "metadata": {},
     "output_type": "execute_result"
    }
   ],
   "source": [
    "print(data['ceiling_height'].median())\n",
    "data.pivot_table(index = 'floors_total', values='ceiling_height')"
   ]
  },
  {
   "cell_type": "code",
   "execution_count": 70,
   "metadata": {},
   "outputs": [
    {
     "data": {
      "text/plain": [
       "23667"
      ]
     },
     "execution_count": 70,
     "metadata": {},
     "output_type": "execute_result"
    }
   ],
   "source": [
    "# из сводной таблицы видно, что медианное значение в целом подходит для дома любой этажности\n",
    "data['ceiling_height'] = data['ceiling_height'].fillna(data['ceiling_height'].median())\n",
    "data['ceiling_height'].count()"
   ]
  },
  {
   "cell_type": "code",
   "execution_count": 71,
   "metadata": {},
   "outputs": [
    {
     "data": {
      "text/plain": [
       "0.002070393374741201"
      ]
     },
     "execution_count": 71,
     "metadata": {},
     "output_type": "execute_result"
    }
   ],
   "source": [
    "data['locality_name'].isnull().mean()"
   ]
  },
  {
   "cell_type": "code",
   "execution_count": 72,
   "metadata": {},
   "outputs": [],
   "source": [
    "# столбец с населенным пунктом понадобиться нам для исследования, пропущенные значения составляют всего 0.2% от общего числа\n",
    "# от этих строк можно просто избавиться\n",
    "data.dropna(subset = ['locality_name'],inplace=True)\n",
    "data.reset_index(drop=True,inplace=True)"
   ]
  },
  {
   "cell_type": "code",
   "execution_count": 73,
   "metadata": {},
   "outputs": [
    {
     "data": {
      "text/plain": [
       "0.0035989499534253536"
      ]
     },
     "execution_count": 73,
     "metadata": {},
     "output_type": "execute_result"
    }
   ],
   "source": [
    "# проверим пропущенные значения в столбце \"кол-во этажей в доме\"\n",
    "data['floors_total'].isnull().mean()"
   ]
  },
  {
   "cell_type": "code",
   "execution_count": 74,
   "metadata": {},
   "outputs": [
    {
     "data": {
      "text/html": [
       "<div>\n",
       "<style scoped>\n",
       "    .dataframe tbody tr th:only-of-type {\n",
       "        vertical-align: middle;\n",
       "    }\n",
       "\n",
       "    .dataframe tbody tr th {\n",
       "        vertical-align: top;\n",
       "    }\n",
       "\n",
       "    .dataframe thead th {\n",
       "        text-align: right;\n",
       "    }\n",
       "</style>\n",
       "<table border=\"1\" class=\"dataframe\">\n",
       "  <thead>\n",
       "    <tr style=\"text-align: right;\">\n",
       "      <th></th>\n",
       "      <th>total_images</th>\n",
       "      <th>last_price</th>\n",
       "      <th>total_area</th>\n",
       "      <th>first_day_exposition</th>\n",
       "      <th>rooms</th>\n",
       "      <th>ceiling_height</th>\n",
       "      <th>floors_total</th>\n",
       "      <th>living_area</th>\n",
       "      <th>floor</th>\n",
       "      <th>is_apartment</th>\n",
       "      <th>...</th>\n",
       "      <th>kitchen_area</th>\n",
       "      <th>balcony</th>\n",
       "      <th>locality_name</th>\n",
       "      <th>airports_nearest</th>\n",
       "      <th>cityCenters_nearest</th>\n",
       "      <th>parks_around3000</th>\n",
       "      <th>parks_nearest</th>\n",
       "      <th>ponds_around3000</th>\n",
       "      <th>ponds_nearest</th>\n",
       "      <th>days_exposition</th>\n",
       "    </tr>\n",
       "  </thead>\n",
       "  <tbody>\n",
       "    <tr>\n",
       "      <td>23528</td>\n",
       "      <td>9</td>\n",
       "      <td>9700000.0</td>\n",
       "      <td>133.81</td>\n",
       "      <td>2017-03-21T00:00:00</td>\n",
       "      <td>3</td>\n",
       "      <td>3.70</td>\n",
       "      <td>5.0</td>\n",
       "      <td>73.3</td>\n",
       "      <td>3</td>\n",
       "      <td>False</td>\n",
       "      <td>...</td>\n",
       "      <td>13.83</td>\n",
       "      <td>0.0</td>\n",
       "      <td>Санкт-Петербург</td>\n",
       "      <td>24665.0</td>\n",
       "      <td>4232.0</td>\n",
       "      <td>1.0</td>\n",
       "      <td>796.0</td>\n",
       "      <td>3.0</td>\n",
       "      <td>381.0</td>\n",
       "      <td>NaN</td>\n",
       "    </tr>\n",
       "    <tr>\n",
       "      <td>23529</td>\n",
       "      <td>14</td>\n",
       "      <td>3100000.0</td>\n",
       "      <td>59.00</td>\n",
       "      <td>2018-01-15T00:00:00</td>\n",
       "      <td>3</td>\n",
       "      <td>2.65</td>\n",
       "      <td>5.0</td>\n",
       "      <td>38.0</td>\n",
       "      <td>4</td>\n",
       "      <td>False</td>\n",
       "      <td>...</td>\n",
       "      <td>8.50</td>\n",
       "      <td>0.0</td>\n",
       "      <td>Тосно</td>\n",
       "      <td>NaN</td>\n",
       "      <td>NaN</td>\n",
       "      <td>NaN</td>\n",
       "      <td>NaN</td>\n",
       "      <td>NaN</td>\n",
       "      <td>NaN</td>\n",
       "      <td>45.0</td>\n",
       "    </tr>\n",
       "    <tr>\n",
       "      <td>23530</td>\n",
       "      <td>18</td>\n",
       "      <td>2500000.0</td>\n",
       "      <td>56.70</td>\n",
       "      <td>2018-02-11T00:00:00</td>\n",
       "      <td>2</td>\n",
       "      <td>2.65</td>\n",
       "      <td>3.0</td>\n",
       "      <td>29.7</td>\n",
       "      <td>1</td>\n",
       "      <td>False</td>\n",
       "      <td>...</td>\n",
       "      <td>NaN</td>\n",
       "      <td>0.0</td>\n",
       "      <td>село Рождествено</td>\n",
       "      <td>NaN</td>\n",
       "      <td>NaN</td>\n",
       "      <td>NaN</td>\n",
       "      <td>NaN</td>\n",
       "      <td>NaN</td>\n",
       "      <td>NaN</td>\n",
       "      <td>NaN</td>\n",
       "    </tr>\n",
       "    <tr>\n",
       "      <td>23531</td>\n",
       "      <td>13</td>\n",
       "      <td>11475000.0</td>\n",
       "      <td>76.75</td>\n",
       "      <td>2017-03-28T00:00:00</td>\n",
       "      <td>2</td>\n",
       "      <td>3.00</td>\n",
       "      <td>17.0</td>\n",
       "      <td>NaN</td>\n",
       "      <td>12</td>\n",
       "      <td>False</td>\n",
       "      <td>...</td>\n",
       "      <td>23.30</td>\n",
       "      <td>2.0</td>\n",
       "      <td>Санкт-Петербург</td>\n",
       "      <td>39140.0</td>\n",
       "      <td>10364.0</td>\n",
       "      <td>2.0</td>\n",
       "      <td>173.0</td>\n",
       "      <td>3.0</td>\n",
       "      <td>196.0</td>\n",
       "      <td>602.0</td>\n",
       "    </tr>\n",
       "    <tr>\n",
       "      <td>23532</td>\n",
       "      <td>4</td>\n",
       "      <td>1350000.0</td>\n",
       "      <td>32.30</td>\n",
       "      <td>2017-07-21T00:00:00</td>\n",
       "      <td>1</td>\n",
       "      <td>2.50</td>\n",
       "      <td>5.0</td>\n",
       "      <td>12.3</td>\n",
       "      <td>1</td>\n",
       "      <td>False</td>\n",
       "      <td>...</td>\n",
       "      <td>9.00</td>\n",
       "      <td>0.0</td>\n",
       "      <td>поселок Новый Учхоз</td>\n",
       "      <td>NaN</td>\n",
       "      <td>NaN</td>\n",
       "      <td>NaN</td>\n",
       "      <td>NaN</td>\n",
       "      <td>NaN</td>\n",
       "      <td>NaN</td>\n",
       "      <td>NaN</td>\n",
       "    </tr>\n",
       "  </tbody>\n",
       "</table>\n",
       "<p>5 rows × 22 columns</p>\n",
       "</div>"
      ],
      "text/plain": [
       "       total_images  last_price  total_area first_day_exposition  rooms  \\\n",
       "23528             9   9700000.0      133.81  2017-03-21T00:00:00      3   \n",
       "23529            14   3100000.0       59.00  2018-01-15T00:00:00      3   \n",
       "23530            18   2500000.0       56.70  2018-02-11T00:00:00      2   \n",
       "23531            13  11475000.0       76.75  2017-03-28T00:00:00      2   \n",
       "23532             4   1350000.0       32.30  2017-07-21T00:00:00      1   \n",
       "\n",
       "       ceiling_height  floors_total  living_area  floor  is_apartment  ...  \\\n",
       "23528            3.70           5.0         73.3      3         False  ...   \n",
       "23529            2.65           5.0         38.0      4         False  ...   \n",
       "23530            2.65           3.0         29.7      1         False  ...   \n",
       "23531            3.00          17.0          NaN     12         False  ...   \n",
       "23532            2.50           5.0         12.3      1         False  ...   \n",
       "\n",
       "       kitchen_area  balcony        locality_name  airports_nearest  \\\n",
       "23528         13.83      0.0      Санкт-Петербург           24665.0   \n",
       "23529          8.50      0.0                Тосно               NaN   \n",
       "23530           NaN      0.0     село Рождествено               NaN   \n",
       "23531         23.30      2.0      Санкт-Петербург           39140.0   \n",
       "23532          9.00      0.0  поселок Новый Учхоз               NaN   \n",
       "\n",
       "      cityCenters_nearest  parks_around3000  parks_nearest  ponds_around3000  \\\n",
       "23528              4232.0               1.0          796.0               3.0   \n",
       "23529                 NaN               NaN            NaN               NaN   \n",
       "23530                 NaN               NaN            NaN               NaN   \n",
       "23531             10364.0               2.0          173.0               3.0   \n",
       "23532                 NaN               NaN            NaN               NaN   \n",
       "\n",
       "       ponds_nearest  days_exposition  \n",
       "23528          381.0              NaN  \n",
       "23529            NaN             45.0  \n",
       "23530            NaN              NaN  \n",
       "23531          196.0            602.0  \n",
       "23532            NaN              NaN  \n",
       "\n",
       "[5 rows x 22 columns]"
      ]
     },
     "execution_count": 74,
     "metadata": {},
     "output_type": "execute_result"
    }
   ],
   "source": [
    "# всего 0.36% пропущенных значений, поступим по аналогии с населенным пунктом\n",
    "data.dropna(subset = ['floors_total'],inplace=True)\n",
    "data.reset_index(drop=True,inplace=True)\n",
    "data.tail()"
   ]
  },
  {
   "cell_type": "code",
   "execution_count": 75,
   "metadata": {},
   "outputs": [
    {
     "data": {
      "text/plain": [
       "0.23328942336293715"
      ]
     },
     "execution_count": 75,
     "metadata": {},
     "output_type": "execute_result"
    }
   ],
   "source": [
    "len(data[(data['cityCenters_nearest'].isnull())]) / len(data)"
   ]
  },
  {
   "cell_type": "code",
   "execution_count": 76,
   "metadata": {},
   "outputs": [
    {
     "data": {
      "text/plain": [
       "0.002549611184294395"
      ]
     },
     "execution_count": 76,
     "metadata": {},
     "output_type": "execute_result"
    }
   ],
   "source": [
    "len(data[(data['cityCenters_nearest'].isnull()) & (data['locality_name'] == 'Санкт-Петербург')]) / len(data)\n",
    "# при общей доли отсутсвующих значений в столбце расстояния до центра в 23%, всего отсутствующих значений в самом\n",
    "# Санкт-Петербурге - 0.2%, данные пропуски можно отсавить, т.к если из заполнять, например, медианой, то на нее сильно повлияет\n",
    "# как раз большое количество квартир без пропусков, расположенных в самом Санкт-Петербурге"
   ]
  },
  {
   "cell_type": "code",
   "execution_count": 77,
   "metadata": {},
   "outputs": [
    {
     "data": {
      "text/plain": [
       "2216"
      ]
     },
     "execution_count": 77,
     "metadata": {},
     "output_type": "execute_result"
    }
   ],
   "source": [
    "data['kitchen_area'].isnull().sum()"
   ]
  },
  {
   "cell_type": "code",
   "execution_count": 78,
   "metadata": {},
   "outputs": [],
   "source": [
    "# логично, что в квартире-студии площадь кухни = 0,так как в планировке нет чётких границ\n",
    "# поступим соответственно: заменим в таких квартирах значение на 0 \n",
    "data.loc[data['studio'] == True, 'kitchen_area'] = 0"
   ]
  },
  {
   "cell_type": "code",
   "execution_count": 79,
   "metadata": {},
   "outputs": [],
   "source": [
    "# во всех остальных случаях заменим на медианное значение. Проверим на отсутствие пропусков \n",
    "data['kitchen_area'] = data['kitchen_area'].fillna(data['kitchen_area'].median())"
   ]
  },
  {
   "cell_type": "code",
   "execution_count": 80,
   "metadata": {},
   "outputs": [
    {
     "data": {
      "text/plain": [
       "0"
      ]
     },
     "execution_count": 80,
     "metadata": {},
     "output_type": "execute_result"
    }
   ],
   "source": [
    "data['kitchen_area'].isnull().sum()"
   ]
  },
  {
   "cell_type": "code",
   "execution_count": 81,
   "metadata": {},
   "outputs": [],
   "source": [
    "data['living_area'] = data['living_area'].fillna(data['living_area'].median())"
   ]
  },
  {
   "cell_type": "code",
   "execution_count": 82,
   "metadata": {},
   "outputs": [
    {
     "data": {
      "text/plain": [
       "total_images                     int64\n",
       "last_price                     float64\n",
       "total_area                     float64\n",
       "first_day_exposition    datetime64[ns]\n",
       "rooms                            int64\n",
       "ceiling_height                 float64\n",
       "floors_total                   float64\n",
       "living_area                    float64\n",
       "floor                            int64\n",
       "is_apartment                      bool\n",
       "studio                            bool\n",
       "open_plan                         bool\n",
       "kitchen_area                   float64\n",
       "balcony                        float64\n",
       "locality_name                   object\n",
       "airports_nearest               float64\n",
       "cityCenters_nearest            float64\n",
       "parks_around3000               float64\n",
       "parks_nearest                  float64\n",
       "ponds_around3000               float64\n",
       "ponds_nearest                  float64\n",
       "days_exposition                float64\n",
       "dtype: object"
      ]
     },
     "execution_count": 82,
     "metadata": {},
     "output_type": "execute_result"
    }
   ],
   "source": [
    "data['first_day_exposition'] = pd.to_datetime(data['first_day_exposition'], format='%Y-%m-%dT%H:%M:%S')\n",
    "data.dtypes"
   ]
  },
  {
   "cell_type": "code",
   "execution_count": 83,
   "metadata": {},
   "outputs": [
    {
     "data": {
      "text/plain": [
       "3165"
      ]
     },
     "execution_count": 83,
     "metadata": {},
     "output_type": "execute_result"
    }
   ],
   "source": [
    "len(data[(data['days_exposition'].isnull())])"
   ]
  },
  {
   "cell_type": "code",
   "execution_count": 84,
   "metadata": {},
   "outputs": [
    {
     "data": {
      "text/plain": [
       "0"
      ]
     },
     "execution_count": 84,
     "metadata": {},
     "output_type": "execute_result"
    }
   ],
   "source": [
    "# Проверим на наличие дубликатов\n",
    "data.duplicated().sum()"
   ]
  },
  {
   "cell_type": "markdown",
   "metadata": {},
   "source": [
    "### Вывод"
   ]
  },
  {
   "cell_type": "markdown",
   "metadata": {},
   "source": [
    "* Я произвёл замену на медианное значение в пропущенных строках, где это посчитал уместным. Например высота этажей и площадь кухни.\n",
    "* Если процент пропущенных значений от общего числа значений крайне мал, то такие строки я удалял из таблицы. ( во всех  случаях проценты был менее единицы)\n",
    "* Те значения, которые я не тронул, например расстояние до ближайшего парка или водоёма, число парков в радиусеу 3 км., число фотографий в объявлении - не понадобятся нам для дальнейших расчётов, их можно оставить без изменений.\n",
    "* Пропущенные значения, где указанно, сколько дней провисело объявление, я оставил без изменений, полагаю, что они означают, что объявление о продаже все еще не закрыто и квартира не продана.\n",
    "* Так же я изменил тип столбца first_day_exposition на datetime для дальнейшей работы с датой и временем."
   ]
  },
  {
   "cell_type": "markdown",
   "metadata": {},
   "source": [
    "### Шаг 3. Посчитайте и добавьте в таблицу"
   ]
  },
  {
   "cell_type": "code",
   "execution_count": 85,
   "metadata": {},
   "outputs": [],
   "source": [
    "# расчет и добавление в таблицу столбца цены за квадратный месяц\n",
    "data['price_per_sqm'] = round(data['last_price'] / data['total_area'],1)"
   ]
  },
  {
   "cell_type": "code",
   "execution_count": 86,
   "metadata": {},
   "outputs": [],
   "source": [
    "# добалвение дня недели, месяца и года публикации объявления\n",
    "data['weekday'] = data['first_day_exposition'].dt.weekday\n",
    "data['month'] = data['first_day_exposition'].dt.month\n",
    "data['year'] = data['first_day_exposition'].dt.year"
   ]
  },
  {
   "cell_type": "code",
   "execution_count": 87,
   "metadata": {},
   "outputs": [],
   "source": [
    "# Напишем функцию, которая поделит на 3 категории квартиры, в завимиости от того, на каком этаже та находится.\n",
    "def floor(row):\n",
    "    if row['floor'] == 1:\n",
    "        return 'первый'\n",
    "    if row['floor'] == row['floors_total']:\n",
    "        return 'последний'\n",
    "    return 'другой'\n",
    "# Добавим столбец в табоицу, применив функцию\n",
    "data['floor_group'] = data.apply(floor, axis =1)"
   ]
  },
  {
   "cell_type": "code",
   "execution_count": 88,
   "metadata": {},
   "outputs": [
    {
     "data": {
      "text/plain": [
       "другой       17301\n",
       "последний     3326\n",
       "первый        2906\n",
       "Name: floor_group, dtype: int64"
      ]
     },
     "execution_count": 88,
     "metadata": {},
     "output_type": "execute_result"
    }
   ],
   "source": [
    "data['floor_group'].value_counts()"
   ]
  },
  {
   "cell_type": "code",
   "execution_count": 89,
   "metadata": {},
   "outputs": [],
   "source": [
    "# Расчет и добавление в таблицу столбца со значением соотношения жилой площади к общей площади\n",
    "data['ratio_living_area'] = round(data['living_area'] / data['total_area'], 2)"
   ]
  },
  {
   "cell_type": "code",
   "execution_count": 90,
   "metadata": {},
   "outputs": [],
   "source": [
    "# Расчет и добавление в таблицу столбца со значением соотношения площади кухни к общей площади\n",
    "data['ratio_kitchen_area'] = round(data['kitchen_area'] / data['total_area'], 2)"
   ]
  },
  {
   "cell_type": "markdown",
   "metadata": {},
   "source": [
    "### Шаг 4. Проведите исследовательский анализ данных и выполните инструкции:"
   ]
  },
  {
   "cell_type": "code",
   "execution_count": 91,
   "metadata": {},
   "outputs": [
    {
     "name": "stdout",
     "output_type": "stream",
     "text": [
      "count    23533.000000\n",
      "mean        60.334116\n",
      "std         35.673505\n",
      "min         12.000000\n",
      "25%         40.000000\n",
      "50%         52.000000\n",
      "75%         69.700000\n",
      "max        900.000000\n",
      "Name: total_area, dtype: float64\n"
     ]
    },
    {
     "data": {
      "text/plain": [
       "<matplotlib.axes._subplots.AxesSubplot at 0x7f0b2f037950>"
      ]
     },
     "execution_count": 91,
     "metadata": {},
     "output_type": "execute_result"
    },
    {
     "data": {
      "image/png": "[encoded data removed]",
      "text/plain": [
       "<Figure size 432x288 with 1 Axes>"
      ]
     },
     "metadata": {
      "needs_background": "light"
     },
     "output_type": "display_data"
    }
   ],
   "source": [
    "print(data['total_area'].describe())\n",
    "data['total_area'].hist(bins=80)\n",
    "# данные вынлядят нормально, средняя площадь в 60, и большентво квартир около 50кв.м., даже квартира в 900 кв.м вполне реальна"
   ]
  },
  {
   "cell_type": "code",
   "execution_count": 92,
   "metadata": {},
   "outputs": [
    {
     "name": "stdout",
     "output_type": "stream",
     "text": [
      "count        23533.0\n",
      "mean       6542469.0\n",
      "std       10917709.1\n",
      "min          12190.0\n",
      "25%        3400000.0\n",
      "50%        4650000.0\n",
      "75%        6799000.0\n",
      "max      763000000.0\n",
      "Name: last_price, dtype: float64\n"
     ]
    },
    {
     "data": {
      "text/plain": [
       "<matplotlib.axes._subplots.AxesSubplot at 0x7f0b2de82510>"
      ]
     },
     "execution_count": 92,
     "metadata": {},
     "output_type": "execute_result"
    },
    {
     "data": {
      "image/png": "[encoded data removed]",
      "text/plain": [
       "<Figure size 432x288 with 1 Axes>"
      ]
     },
     "metadata": {
      "needs_background": "light"
     },
     "output_type": "display_data"
    }
   ],
   "source": [
    "print(round(data['last_price'].describe(), 1))\n",
    "data['last_price'].hist(bins=80)"
   ]
  },
  {
   "cell_type": "code",
   "execution_count": 93,
   "metadata": {},
   "outputs": [
    {
     "data": {
      "text/plain": [
       "12882    763000000.0\n",
       "19408    420000000.0\n",
       "14605    401300000.0\n",
       "1430     330000000.0\n",
       "15548    300000000.0\n",
       "22671    289238400.0\n",
       "16354    245000000.0\n",
       "13656    240000000.0\n",
       "5852     230000000.0\n",
       "8845     190870000.0\n",
       "19733    180000000.0\n",
       "19025    160000000.0\n",
       "2526     159984000.0\n",
       "16388    159000000.0\n",
       "1021     155000000.0\n",
       "Name: last_price, dtype: float64"
      ]
     },
     "execution_count": 93,
     "metadata": {},
     "output_type": "execute_result"
    }
   ],
   "source": [
    "# проверим что за значения выбиваются из  общей картины\n",
    "data['last_price'].sort_values(ascending = False).head(15)"
   ]
  },
  {
   "cell_type": "code",
   "execution_count": 94,
   "metadata": {},
   "outputs": [
    {
     "data": {
      "text/html": [
       "<div>\n",
       "<style scoped>\n",
       "    .dataframe tbody tr th:only-of-type {\n",
       "        vertical-align: middle;\n",
       "    }\n",
       "\n",
       "    .dataframe tbody tr th {\n",
       "        vertical-align: top;\n",
       "    }\n",
       "\n",
       "    .dataframe thead th {\n",
       "        text-align: right;\n",
       "    }\n",
       "</style>\n",
       "<table border=\"1\" class=\"dataframe\">\n",
       "  <thead>\n",
       "    <tr style=\"text-align: right;\">\n",
       "      <th></th>\n",
       "      <th>total_images</th>\n",
       "      <th>last_price</th>\n",
       "      <th>total_area</th>\n",
       "      <th>first_day_exposition</th>\n",
       "      <th>rooms</th>\n",
       "      <th>ceiling_height</th>\n",
       "      <th>floors_total</th>\n",
       "      <th>living_area</th>\n",
       "      <th>floor</th>\n",
       "      <th>is_apartment</th>\n",
       "      <th>...</th>\n",
       "      <th>ponds_around3000</th>\n",
       "      <th>ponds_nearest</th>\n",
       "      <th>days_exposition</th>\n",
       "      <th>price_per_sqm</th>\n",
       "      <th>weekday</th>\n",
       "      <th>month</th>\n",
       "      <th>year</th>\n",
       "      <th>floor_group</th>\n",
       "      <th>ratio_living_area</th>\n",
       "      <th>ratio_kitchen_area</th>\n",
       "    </tr>\n",
       "  </thead>\n",
       "  <tbody>\n",
       "    <tr>\n",
       "      <td>12882</td>\n",
       "      <td>19</td>\n",
       "      <td>763000000.0</td>\n",
       "      <td>400.0</td>\n",
       "      <td>2017-09-30</td>\n",
       "      <td>7</td>\n",
       "      <td>2.65</td>\n",
       "      <td>10.0</td>\n",
       "      <td>250.0</td>\n",
       "      <td>10</td>\n",
       "      <td>False</td>\n",
       "      <td>...</td>\n",
       "      <td>3.0</td>\n",
       "      <td>756.0</td>\n",
       "      <td>33.0</td>\n",
       "      <td>1907500.0</td>\n",
       "      <td>5</td>\n",
       "      <td>9</td>\n",
       "      <td>2017</td>\n",
       "      <td>последний</td>\n",
       "      <td>0.62</td>\n",
       "      <td>0.02</td>\n",
       "    </tr>\n",
       "  </tbody>\n",
       "</table>\n",
       "<p>1 rows × 29 columns</p>\n",
       "</div>"
      ],
      "text/plain": [
       "       total_images   last_price  total_area first_day_exposition  rooms  \\\n",
       "12882            19  763000000.0       400.0           2017-09-30      7   \n",
       "\n",
       "       ceiling_height  floors_total  living_area  floor  is_apartment  ...  \\\n",
       "12882            2.65          10.0        250.0     10         False  ...   \n",
       "\n",
       "       ponds_around3000  ponds_nearest  days_exposition  price_per_sqm  \\\n",
       "12882               3.0          756.0             33.0      1907500.0   \n",
       "\n",
       "      weekday  month  year  floor_group  ratio_living_area  ratio_kitchen_area  \n",
       "12882       5      9  2017    последний               0.62                0.02  \n",
       "\n",
       "[1 rows x 29 columns]"
      ]
     },
     "execution_count": 94,
     "metadata": {},
     "output_type": "execute_result"
    }
   ],
   "source": [
    "data.loc[data['last_price'].isin(['763000000'])]\n",
    "# даже кавартира с максимальной ценой не похожа на ошибку для 400кв.м и 7 комнат."
   ]
  },
  {
   "cell_type": "code",
   "execution_count": 95,
   "metadata": {},
   "outputs": [
    {
     "data": {
      "text/plain": [
       "8738      12190.0\n",
       "14809    430000.0\n",
       "17339    430000.0\n",
       "16167    440000.0\n",
       "16112    450000.0\n",
       "Name: last_price, dtype: float64"
      ]
     },
     "execution_count": 95,
     "metadata": {},
     "output_type": "execute_result"
    }
   ],
   "source": [
    "data['last_price'].sort_values().head()\n",
    "# а вот квартира в цену 12190 явно ошибка"
   ]
  },
  {
   "cell_type": "code",
   "execution_count": 96,
   "metadata": {},
   "outputs": [],
   "source": [
    "data.drop(data[data['last_price'] == 12190].index, inplace=True)\n",
    "data.reset_index(drop=True,inplace=True)"
   ]
  },
  {
   "cell_type": "code",
   "execution_count": 97,
   "metadata": {},
   "outputs": [
    {
     "data": {
      "text/plain": [
       "<matplotlib.axes._subplots.AxesSubplot at 0x7f0b2e4f1590>"
      ]
     },
     "execution_count": 97,
     "metadata": {},
     "output_type": "execute_result"
    },
    {
     "data": {
      "image/png": "[encoded data removed]",
      "text/plain": [
       "<Figure size 432x288 with 1 Axes>"
      ]
     },
     "metadata": {
      "needs_background": "light"
     },
     "output_type": "display_data"
    }
   ],
   "source": [
    "# что бы лучше рассмотреть разброс цен на гистограмме, зададим ограничение\n",
    "data.query('last_price < 40000000')['last_price'].hist(bins=80)\n",
    "# в основном квартиры идут по цене 3-5млн, весьма похоже на правду"
   ]
  },
  {
   "cell_type": "code",
   "execution_count": 98,
   "metadata": {},
   "outputs": [
    {
     "name": "stdout",
     "output_type": "stream",
     "text": [
      "count    23532.000000\n",
      "mean         2.070967\n",
      "std          1.078877\n",
      "min          0.000000\n",
      "25%          1.000000\n",
      "50%          2.000000\n",
      "75%          3.000000\n",
      "max         19.000000\n",
      "Name: rooms, dtype: float64\n"
     ]
    },
    {
     "data": {
      "text/plain": [
       "<matplotlib.axes._subplots.AxesSubplot at 0x7f0b2e92dc50>"
      ]
     },
     "execution_count": 98,
     "metadata": {},
     "output_type": "execute_result"
    },
    {
     "data": {
      "image/png": "[encoded data removed]",
      "text/plain": [
       "<Figure size 432x288 with 1 Axes>"
      ]
     },
     "metadata": {
      "needs_background": "light"
     },
     "output_type": "display_data"
    }
   ],
   "source": [
    "print(data['rooms'].describe())\n",
    "data['rooms'].hist(bins=20)"
   ]
  },
  {
   "cell_type": "code",
   "execution_count": 99,
   "metadata": {},
   "outputs": [
    {
     "name": "stdout",
     "output_type": "stream",
     "text": [
      "193\n"
     ]
    },
    {
     "data": {
      "text/html": [
       "<div>\n",
       "<style scoped>\n",
       "    .dataframe tbody tr th:only-of-type {\n",
       "        vertical-align: middle;\n",
       "    }\n",
       "\n",
       "    .dataframe tbody tr th {\n",
       "        vertical-align: top;\n",
       "    }\n",
       "\n",
       "    .dataframe thead th {\n",
       "        text-align: right;\n",
       "    }\n",
       "</style>\n",
       "<table border=\"1\" class=\"dataframe\">\n",
       "  <thead>\n",
       "    <tr style=\"text-align: right;\">\n",
       "      <th></th>\n",
       "      <th>total_images</th>\n",
       "      <th>last_price</th>\n",
       "      <th>total_area</th>\n",
       "      <th>first_day_exposition</th>\n",
       "      <th>rooms</th>\n",
       "      <th>ceiling_height</th>\n",
       "      <th>floors_total</th>\n",
       "      <th>living_area</th>\n",
       "      <th>floor</th>\n",
       "      <th>is_apartment</th>\n",
       "      <th>...</th>\n",
       "      <th>ponds_around3000</th>\n",
       "      <th>ponds_nearest</th>\n",
       "      <th>days_exposition</th>\n",
       "      <th>price_per_sqm</th>\n",
       "      <th>weekday</th>\n",
       "      <th>month</th>\n",
       "      <th>year</th>\n",
       "      <th>floor_group</th>\n",
       "      <th>ratio_living_area</th>\n",
       "      <th>ratio_kitchen_area</th>\n",
       "    </tr>\n",
       "  </thead>\n",
       "  <tbody>\n",
       "    <tr>\n",
       "      <td>15502</td>\n",
       "      <td>4</td>\n",
       "      <td>3499000.0</td>\n",
       "      <td>25.00</td>\n",
       "      <td>2019-04-05</td>\n",
       "      <td>0</td>\n",
       "      <td>2.80</td>\n",
       "      <td>14.0</td>\n",
       "      <td>17.00</td>\n",
       "      <td>13</td>\n",
       "      <td>False</td>\n",
       "      <td>...</td>\n",
       "      <td>0.0</td>\n",
       "      <td>NaN</td>\n",
       "      <td>NaN</td>\n",
       "      <td>139960.0</td>\n",
       "      <td>4</td>\n",
       "      <td>4</td>\n",
       "      <td>2019</td>\n",
       "      <td>другой</td>\n",
       "      <td>0.68</td>\n",
       "      <td>0.00</td>\n",
       "    </tr>\n",
       "    <tr>\n",
       "      <td>17505</td>\n",
       "      <td>12</td>\n",
       "      <td>3150000.0</td>\n",
       "      <td>22.00</td>\n",
       "      <td>2017-05-20</td>\n",
       "      <td>0</td>\n",
       "      <td>2.65</td>\n",
       "      <td>16.0</td>\n",
       "      <td>15.00</td>\n",
       "      <td>14</td>\n",
       "      <td>False</td>\n",
       "      <td>...</td>\n",
       "      <td>1.0</td>\n",
       "      <td>851.0</td>\n",
       "      <td>515.0</td>\n",
       "      <td>143181.8</td>\n",
       "      <td>5</td>\n",
       "      <td>5</td>\n",
       "      <td>2017</td>\n",
       "      <td>другой</td>\n",
       "      <td>0.68</td>\n",
       "      <td>0.00</td>\n",
       "    </tr>\n",
       "    <tr>\n",
       "      <td>17903</td>\n",
       "      <td>11</td>\n",
       "      <td>3500000.0</td>\n",
       "      <td>31.00</td>\n",
       "      <td>2019-04-17</td>\n",
       "      <td>0</td>\n",
       "      <td>2.65</td>\n",
       "      <td>25.0</td>\n",
       "      <td>30.00</td>\n",
       "      <td>2</td>\n",
       "      <td>False</td>\n",
       "      <td>...</td>\n",
       "      <td>1.0</td>\n",
       "      <td>170.0</td>\n",
       "      <td>NaN</td>\n",
       "      <td>112903.2</td>\n",
       "      <td>2</td>\n",
       "      <td>4</td>\n",
       "      <td>2019</td>\n",
       "      <td>другой</td>\n",
       "      <td>0.97</td>\n",
       "      <td>0.00</td>\n",
       "    </tr>\n",
       "    <tr>\n",
       "      <td>6318</td>\n",
       "      <td>5</td>\n",
       "      <td>2820000.0</td>\n",
       "      <td>27.81</td>\n",
       "      <td>2018-08-09</td>\n",
       "      <td>0</td>\n",
       "      <td>2.70</td>\n",
       "      <td>25.0</td>\n",
       "      <td>17.85</td>\n",
       "      <td>5</td>\n",
       "      <td>False</td>\n",
       "      <td>...</td>\n",
       "      <td>NaN</td>\n",
       "      <td>NaN</td>\n",
       "      <td>131.0</td>\n",
       "      <td>101402.4</td>\n",
       "      <td>3</td>\n",
       "      <td>8</td>\n",
       "      <td>2018</td>\n",
       "      <td>другой</td>\n",
       "      <td>0.64</td>\n",
       "      <td>0.00</td>\n",
       "    </tr>\n",
       "    <tr>\n",
       "      <td>15330</td>\n",
       "      <td>0</td>\n",
       "      <td>2200000.0</td>\n",
       "      <td>27.00</td>\n",
       "      <td>2017-01-01</td>\n",
       "      <td>0</td>\n",
       "      <td>2.65</td>\n",
       "      <td>25.0</td>\n",
       "      <td>15.00</td>\n",
       "      <td>5</td>\n",
       "      <td>False</td>\n",
       "      <td>...</td>\n",
       "      <td>3.0</td>\n",
       "      <td>865.0</td>\n",
       "      <td>336.0</td>\n",
       "      <td>81481.5</td>\n",
       "      <td>6</td>\n",
       "      <td>1</td>\n",
       "      <td>2017</td>\n",
       "      <td>другой</td>\n",
       "      <td>0.56</td>\n",
       "      <td>0.33</td>\n",
       "    </tr>\n",
       "  </tbody>\n",
       "</table>\n",
       "<p>5 rows × 29 columns</p>\n",
       "</div>"
      ],
      "text/plain": [
       "       total_images  last_price  total_area first_day_exposition  rooms  \\\n",
       "15502             4   3499000.0       25.00           2019-04-05      0   \n",
       "17505            12   3150000.0       22.00           2017-05-20      0   \n",
       "17903            11   3500000.0       31.00           2019-04-17      0   \n",
       "6318              5   2820000.0       27.81           2018-08-09      0   \n",
       "15330             0   2200000.0       27.00           2017-01-01      0   \n",
       "\n",
       "       ceiling_height  floors_total  living_area  floor  is_apartment  ...  \\\n",
       "15502            2.80          14.0        17.00     13         False  ...   \n",
       "17505            2.65          16.0        15.00     14         False  ...   \n",
       "17903            2.65          25.0        30.00      2         False  ...   \n",
       "6318             2.70          25.0        17.85      5         False  ...   \n",
       "15330            2.65          25.0        15.00      5         False  ...   \n",
       "\n",
       "       ponds_around3000  ponds_nearest  days_exposition  price_per_sqm  \\\n",
       "15502               0.0            NaN              NaN       139960.0   \n",
       "17505               1.0          851.0            515.0       143181.8   \n",
       "17903               1.0          170.0              NaN       112903.2   \n",
       "6318                NaN            NaN            131.0       101402.4   \n",
       "15330               3.0          865.0            336.0        81481.5   \n",
       "\n",
       "      weekday  month  year  floor_group  ratio_living_area  ratio_kitchen_area  \n",
       "15502       4      4  2019       другой               0.68                0.00  \n",
       "17505       5      5  2017       другой               0.68                0.00  \n",
       "17903       2      4  2019       другой               0.97                0.00  \n",
       "6318        3      8  2018       другой               0.64                0.00  \n",
       "15330       6      1  2017       другой               0.56                0.33  \n",
       "\n",
       "[5 rows x 29 columns]"
      ]
     },
     "execution_count": 99,
     "metadata": {},
     "output_type": "execute_result"
    }
   ],
   "source": [
    "# благодряа гистограмме обнаружились нулевые значения, проверим сколько их и взглянем на некоторые из них\n",
    "print(len(data.query('rooms == 0')))\n",
    "data.query('rooms == 0').sample(5)"
   ]
  },
  {
   "cell_type": "code",
   "execution_count": 100,
   "metadata": {},
   "outputs": [
    {
     "data": {
      "text/plain": [
       "135"
      ]
     },
     "execution_count": 100,
     "metadata": {},
     "output_type": "execute_result"
    }
   ],
   "source": [
    "len(data.query('rooms == 0 and studio == True'))\n",
    "# практически все строки где количество комнат равно 0 - это студии, значит это не ошибка в даннных"
   ]
  },
  {
   "cell_type": "code",
   "execution_count": 101,
   "metadata": {},
   "outputs": [
    {
     "name": "stdout",
     "output_type": "stream",
     "text": [
      "count    23532.000000\n",
      "mean         2.696972\n",
      "std          0.221422\n",
      "min          2.000000\n",
      "25%          2.600000\n",
      "50%          2.650000\n",
      "75%          2.700000\n",
      "max          6.000000\n",
      "Name: ceiling_height, dtype: float64\n"
     ]
    },
    {
     "data": {
      "text/plain": [
       "<matplotlib.axes._subplots.AxesSubplot at 0x7f0b2e6e5b90>"
      ]
     },
     "execution_count": 101,
     "metadata": {},
     "output_type": "execute_result"
    },
    {
     "data": {
      "image/png": "[encoded data removed]",
      "text/plain": [
       "<Figure size 432x288 with 1 Axes>"
      ]
     },
     "metadata": {
      "needs_background": "light"
     },
     "output_type": "display_data"
    }
   ],
   "source": [
    "print(data['ceiling_height'].describe())\n",
    "data['ceiling_height'].hist(bins=10)\n",
    "# на этапе предобработки мы избавились от аномальных занчений, поэтому гистограмма выглядит нормально"
   ]
  },
  {
   "cell_type": "code",
   "execution_count": 102,
   "metadata": {},
   "outputs": [
    {
     "name": "stdout",
     "output_type": "stream",
     "text": [
      "count    20367.000000\n",
      "mean       180.777287\n",
      "std        219.796200\n",
      "min          1.000000\n",
      "25%         45.000000\n",
      "50%         95.000000\n",
      "75%        231.000000\n",
      "max       1580.000000\n",
      "Name: days_exposition, dtype: float64\n"
     ]
    },
    {
     "data": {
      "text/plain": [
       "<matplotlib.axes._subplots.AxesSubplot at 0x7f0b2e788710>"
      ]
     },
     "execution_count": 102,
     "metadata": {},
     "output_type": "execute_result"
    },
    {
     "data": {
      "image/png": "[encoded data removed]",
      "text/plain": [
       "<Figure size 432x288 with 1 Axes>"
      ]
     },
     "metadata": {
      "needs_background": "light"
     },
     "output_type": "display_data"
    }
   ],
   "source": [
    "print(data['days_exposition'].describe())\n",
    "data['days_exposition'].hist(bins=100, range=(0,1000))"
   ]
  },
  {
   "cell_type": "code",
   "execution_count": 103,
   "metadata": {},
   "outputs": [
    {
     "data": {
      "text/plain": [
       "45.0    879\n",
       "60.0    538\n",
       "7.0     233\n",
       "30.0    208\n",
       "90.0    200\n",
       "4.0     174\n",
       "3.0     157\n",
       "5.0     152\n",
       "14.0    146\n",
       "9.0     142\n",
       "Name: days_exposition, dtype: int64"
      ]
     },
     "execution_count": 103,
     "metadata": {},
     "output_type": "execute_result"
    }
   ],
   "source": [
    "data['days_exposition'].value_counts().head(10)\n",
    "# График имеет аномлаьные пики на 45 и 60 днях, веротяно это связано с условиями рамещени объявлений, которые автоматически \n",
    "# снимаются через определенный срок,если они не актиывны, избавиться от них - это потерять часть данных, в любом случае есть\n",
    "# кваритры которые продаются за такой период. По той же причине неверно будет заменть их меданой или средним, оставим как есть."
   ]
  },
  {
   "cell_type": "code",
   "execution_count": 104,
   "metadata": {},
   "outputs": [
    {
     "data": {
      "text/plain": [
       "(-50, 600)"
      ]
     },
     "execution_count": 104,
     "metadata": {},
     "output_type": "execute_result"
    },
    {
     "data": {
      "image/png": "[encoded data removed]",
      "text/plain": [
       "<Figure size 432x288 with 1 Axes>"
      ]
     },
     "metadata": {
      "needs_background": "light"
     },
     "output_type": "display_data"
    }
   ],
   "source": [
    "data.boxplot(column ='days_exposition')\n",
    "plt.ylim(-50,600)\n",
    "# мы уже знаем, что половина всех квартир продается менее чем за 96 дней(медиана). Необычно долгим сроком продажи квартиры\n",
    "# можно считать краницу верхнего \"уса\" ~510 дней. Нижний \"ус\" упирается в 0. Полагаю, что интуитивно можно считать,\n",
    "# что продажа прошла быстро, если срок продажи сосатвлял меньше 7 дней."
   ]
  },
  {
   "cell_type": "markdown",
   "metadata": {},
   "source": [
    "* Мы уже знаем, что половина всех квартир продается менее чем за 96 дней(медиана), то есть 3 месяца. Необычно долгим сроком продажи квартиры можно считать краницу верхнего \"уса\" ~510 дней, практически полтора года ожидания, очень долгий срок. Нижний \"ус\" упирается в 0, и четверть всех квартир продается менее чем за 45 дней. Я думаю, что если срок продажи квартиры составляет менее месяца, то его можно считать аномалаьно короткими. Возможно эти сделки следует проверить на предмет мошенничества.\n",
    "* В целом, средней квартиру можно считаь, если: ее общая площадь состалвяет 55кв.м, цена в районе 5млн. рублей, квартира двухкомнатная с высотой потолков 2.65м.\n",
    "\n",
    "##### От ошибочных и выбивающихся значений я избавился на моменте предобработки данных, с комментариями."
   ]
  },
  {
   "cell_type": "code",
   "execution_count": 105,
   "metadata": {},
   "outputs": [
    {
     "data": {
      "text/plain": [
       "0.6537800698098928"
      ]
     },
     "execution_count": 105,
     "metadata": {},
     "output_type": "execute_result"
    },
    {
     "data": {
      "image/png": "[encoded data removed]",
      "text/plain": [
       "<Figure size 432x288 with 1 Axes>"
      ]
     },
     "metadata": {
      "needs_background": "light"
     },
     "output_type": "display_data"
    }
   ],
   "source": [
    "data.plot(x = 'last_price', y = 'total_area', kind = 'scatter', alpha=0.08)\n",
    "plt.xlim(0,100000000)\n",
    "plt.ylim(0,400)\n",
    "data['last_price'].corr(data['total_area'])"
   ]
  },
  {
   "cell_type": "code",
   "execution_count": 106,
   "metadata": {},
   "outputs": [
    {
     "data": {
      "text/plain": [
       "0.36333543435947874"
      ]
     },
     "execution_count": 106,
     "metadata": {},
     "output_type": "execute_result"
    },
    {
     "data": {
      "image/png": "[encoded data removed]",
      "text/plain": [
       "<Figure size 432x288 with 1 Axes>"
      ]
     },
     "metadata": {
      "needs_background": "light"
     },
     "output_type": "display_data"
    }
   ],
   "source": [
    "data.plot(x = 'last_price', y = 'rooms', kind = 'scatter', alpha=0.08)\n",
    "plt.xlim(0,100000000)\n",
    "data['last_price'].corr(data['rooms'])"
   ]
  },
  {
   "cell_type": "code",
   "execution_count": 107,
   "metadata": {},
   "outputs": [
    {
     "data": {
      "text/html": [
       "<div>\n",
       "<style scoped>\n",
       "    .dataframe tbody tr th:only-of-type {\n",
       "        vertical-align: middle;\n",
       "    }\n",
       "\n",
       "    .dataframe tbody tr th {\n",
       "        vertical-align: top;\n",
       "    }\n",
       "\n",
       "    .dataframe thead th {\n",
       "        text-align: right;\n",
       "    }\n",
       "</style>\n",
       "<table border=\"1\" class=\"dataframe\">\n",
       "  <thead>\n",
       "    <tr style=\"text-align: right;\">\n",
       "      <th></th>\n",
       "      <th>cityCenters_nearest</th>\n",
       "    </tr>\n",
       "    <tr>\n",
       "      <th>locality_name</th>\n",
       "      <th></th>\n",
       "    </tr>\n",
       "  </thead>\n",
       "  <tbody>\n",
       "    <tr>\n",
       "      <td>Зеленогорск</td>\n",
       "      <td>54617.583333</td>\n",
       "    </tr>\n",
       "    <tr>\n",
       "      <td>Колпино</td>\n",
       "      <td>32113.771513</td>\n",
       "    </tr>\n",
       "    <tr>\n",
       "      <td>Красное Село</td>\n",
       "      <td>30046.144509</td>\n",
       "    </tr>\n",
       "    <tr>\n",
       "      <td>Кронштадт</td>\n",
       "      <td>49180.265957</td>\n",
       "    </tr>\n",
       "    <tr>\n",
       "      <td>Ломоносов</td>\n",
       "      <td>50739.969697</td>\n",
       "    </tr>\n",
       "    <tr>\n",
       "      <td>Павловск</td>\n",
       "      <td>33206.921053</td>\n",
       "    </tr>\n",
       "    <tr>\n",
       "      <td>Петергоф</td>\n",
       "      <td>35468.925373</td>\n",
       "    </tr>\n",
       "    <tr>\n",
       "      <td>Пушкин</td>\n",
       "      <td>28745.375000</td>\n",
       "    </tr>\n",
       "    <tr>\n",
       "      <td>Санкт-Петербург</td>\n",
       "      <td>11588.363817</td>\n",
       "    </tr>\n",
       "    <tr>\n",
       "      <td>Сестрорецк</td>\n",
       "      <td>34624.480874</td>\n",
       "    </tr>\n",
       "    <tr>\n",
       "      <td>поселок Лисий Нос</td>\n",
       "      <td>28246.000000</td>\n",
       "    </tr>\n",
       "    <tr>\n",
       "      <td>посёлок Александровская</td>\n",
       "      <td>27468.000000</td>\n",
       "    </tr>\n",
       "    <tr>\n",
       "      <td>посёлок Белоостров</td>\n",
       "      <td>38868.000000</td>\n",
       "    </tr>\n",
       "    <tr>\n",
       "      <td>посёлок Левашово</td>\n",
       "      <td>25727.000000</td>\n",
       "    </tr>\n",
       "    <tr>\n",
       "      <td>посёлок Лисий Нос</td>\n",
       "      <td>27297.000000</td>\n",
       "    </tr>\n",
       "    <tr>\n",
       "      <td>посёлок Металлострой</td>\n",
       "      <td>27561.348485</td>\n",
       "    </tr>\n",
       "    <tr>\n",
       "      <td>посёлок Молодёжное</td>\n",
       "      <td>65529.200000</td>\n",
       "    </tr>\n",
       "    <tr>\n",
       "      <td>посёлок Парголово</td>\n",
       "      <td>19924.776758</td>\n",
       "    </tr>\n",
       "    <tr>\n",
       "      <td>посёлок Песочный</td>\n",
       "      <td>26475.250000</td>\n",
       "    </tr>\n",
       "    <tr>\n",
       "      <td>посёлок Петро-Славянка</td>\n",
       "      <td>27165.000000</td>\n",
       "    </tr>\n",
       "    <tr>\n",
       "      <td>посёлок Понтонный</td>\n",
       "      <td>32293.450000</td>\n",
       "    </tr>\n",
       "    <tr>\n",
       "      <td>посёлок Репино</td>\n",
       "      <td>43392.250000</td>\n",
       "    </tr>\n",
       "    <tr>\n",
       "      <td>посёлок Сапёрный</td>\n",
       "      <td>35854.666667</td>\n",
       "    </tr>\n",
       "    <tr>\n",
       "      <td>посёлок Стрельна</td>\n",
       "      <td>23374.302326</td>\n",
       "    </tr>\n",
       "    <tr>\n",
       "      <td>посёлок Усть-Ижора</td>\n",
       "      <td>28222.500000</td>\n",
       "    </tr>\n",
       "    <tr>\n",
       "      <td>посёлок Шушары</td>\n",
       "      <td>24243.387615</td>\n",
       "    </tr>\n",
       "  </tbody>\n",
       "</table>\n",
       "</div>"
      ],
      "text/plain": [
       "                         cityCenters_nearest\n",
       "locality_name                               \n",
       "Зеленогорск                     54617.583333\n",
       "Колпино                         32113.771513\n",
       "Красное Село                    30046.144509\n",
       "Кронштадт                       49180.265957\n",
       "Ломоносов                       50739.969697\n",
       "Павловск                        33206.921053\n",
       "Петергоф                        35468.925373\n",
       "Пушкин                          28745.375000\n",
       "Санкт-Петербург                 11588.363817\n",
       "Сестрорецк                      34624.480874\n",
       "поселок Лисий Нос               28246.000000\n",
       "посёлок Александровская         27468.000000\n",
       "посёлок Белоостров              38868.000000\n",
       "посёлок Левашово                25727.000000\n",
       "посёлок Лисий Нос               27297.000000\n",
       "посёлок Металлострой            27561.348485\n",
       "посёлок Молодёжное              65529.200000\n",
       "посёлок Парголово               19924.776758\n",
       "посёлок Песочный                26475.250000\n",
       "посёлок Петро-Славянка          27165.000000\n",
       "посёлок Понтонный               32293.450000\n",
       "посёлок Репино                  43392.250000\n",
       "посёлок Сапёрный                35854.666667\n",
       "посёлок Стрельна                23374.302326\n",
       "посёлок Усть-Ижора              28222.500000\n",
       "посёлок Шушары                  24243.387615"
      ]
     },
     "execution_count": 107,
     "metadata": {},
     "output_type": "execute_result"
    }
   ],
   "source": [
    "data.pivot_table(index='locality_name', values= 'cityCenters_nearest')\n",
    "# эту талицу я построил что бы понять, что расстоняие идет от центра Санкт-Петербурга, а не центрального места в котором продают"
   ]
  },
  {
   "cell_type": "code",
   "execution_count": 108,
   "metadata": {},
   "outputs": [
    {
     "data": {
      "text/plain": [
       "-0.20643893269285069"
      ]
     },
     "execution_count": 108,
     "metadata": {},
     "output_type": "execute_result"
    },
    {
     "data": {
      "image/png": "[encoded data removed]",
      "text/plain": [
       "<Figure size 432x288 with 1 Axes>"
      ]
     },
     "metadata": {
      "needs_background": "light"
     },
     "output_type": "display_data"
    }
   ],
   "source": [
    "data.plot(x = 'last_price', y = 'cityCenters_nearest', kind = 'scatter', alpha=0.03)\n",
    "plt.xlim(0,100000000)\n",
    "data['last_price'].corr(data['cityCenters_nearest'])"
   ]
  },
  {
   "cell_type": "code",
   "execution_count": 109,
   "metadata": {},
   "outputs": [
    {
     "data": {
      "text/plain": [
       "0.5001274859765426"
      ]
     },
     "execution_count": 109,
     "metadata": {},
     "output_type": "execute_result"
    }
   ],
   "source": [
    "len(data.query('cityCenters_nearest < 15000')) / len(data)"
   ]
  },
  {
   "cell_type": "code",
   "execution_count": 110,
   "metadata": {},
   "outputs": [],
   "source": [
    "np.warnings.filterwarnings('ignore', category=np.VisibleDeprecationWarning)"
   ]
  },
  {
   "cell_type": "code",
   "execution_count": 111,
   "metadata": {},
   "outputs": [
    {
     "data": {
      "text/plain": [
       "(-50, 7500000)"
      ]
     },
     "execution_count": 111,
     "metadata": {},
     "output_type": "execute_result"
    },
    {
     "data": {
      "image/png": "[encoded data removed]",
      "text/plain": [
       "<Figure size 432x288 with 1 Axes>"
      ]
     },
     "metadata": {
      "needs_background": "light"
     },
     "output_type": "display_data"
    }
   ],
   "source": [
    "data.boxplot(column ='last_price',by ='floor_group')\n",
    "plt.ylim(-50,7500000)"
   ]
  },
  {
   "cell_type": "code",
   "execution_count": 112,
   "metadata": {},
   "outputs": [
    {
     "data": {
      "text/plain": [
       "(0, 7500000)"
      ]
     },
     "execution_count": 112,
     "metadata": {},
     "output_type": "execute_result"
    },
    {
     "data": {
      "image/png": "[encoded data removed]",
      "text/plain": [
       "<Figure size 432x288 with 1 Axes>"
      ]
     },
     "metadata": {
      "needs_background": "light"
     },
     "output_type": "display_data"
    }
   ],
   "source": [
    "data.boxplot(column ='last_price',by ='floor_group')\n",
    "plt.ylim(0,7500000)"
   ]
  },
  {
   "cell_type": "code",
   "execution_count": 113,
   "metadata": {
    "scrolled": false
   },
   "outputs": [
    {
     "data": {
      "text/plain": [
       "(0, 15000000)"
      ]
     },
     "execution_count": 113,
     "metadata": {},
     "output_type": "execute_result"
    },
    {
     "data": {
      "image/png": "[encoded data removed]",
      "text/plain": [
       "<Figure size 432x288 with 1 Axes>"
      ]
     },
     "metadata": {
      "needs_background": "light"
     },
     "output_type": "display_data"
    },
    {
     "data": {
      "image/png": "[encoded data removed]",
      "text/plain": [
       "<Figure size 432x288 with 1 Axes>"
      ]
     },
     "metadata": {
      "needs_background": "light"
     },
     "output_type": "display_data"
    },
    {
     "data": {
      "image/png": "[encoded data removed]",
      "text/plain": [
       "<Figure size 432x288 with 1 Axes>"
      ]
     },
     "metadata": {
      "needs_background": "light"
     },
     "output_type": "display_data"
    }
   ],
   "source": [
    "for column in ['weekday', 'month', 'year']:\n",
    "    data.boxplot(column = 'last_price' ,by = column)\n",
    "    plt.ylim(0,7000000)\n",
    "plt.ylim(0,15000000)"
   ]
  },
  {
   "cell_type": "markdown",
   "metadata": {},
   "source": [
    "* Как и сделовало ожидать, самый большой коэффициент корреляции между площадью квартиры и ее стоимостью - 0.65. \n",
    "* Зависимоть же цены от количества комнат обладает сравнительно небольшой корреляцией, всего 0.36. Скорее всего это из-за квартир, у которых количество комнат превышает 6, так как такие картирые сложнее продать, а значит и спрос на них ниже, а соответственно и цена.\n",
    "* Зависисмоть цены на расстояние от центра города имеет отрицателтную корелляци, что тоже вполне очевидно, однако значение так же сравнительно небольшое, но из графика видно, что, не считая выбросов, квартиры стоимтостью более 20.мл не находят от центра дальше чем на ~15км., а это половина всех объявлений.\n",
    "* Что бы оценить зависимтость цены(количественная переменная) от этажа и периода публикации переменной(категориальные переменные) я построил графики типа boxplot. По ним можно сделать вывод, что день, месяц и год публикации заявления не cbkmyj зависят от того, за сколько будет продана квартира. Выделяется только 2014 год. Квартиры выставленные в этот период в среднем  на 2млн. с лишним дороже квартир 2015 года, и на 3млн. дороже квартир последующих годов. Так же видно что квартиры, которые находятся на 1 этаже самые дешевые, а квартиры на любом другом этаже кроме последнего в среднем на 1млн. дороже."
   ]
  },
  {
   "cell_type": "code",
   "execution_count": 114,
   "metadata": {},
   "outputs": [
    {
     "data": {
      "text/html": [
       "<div>\n",
       "<style scoped>\n",
       "    .dataframe tbody tr th:only-of-type {\n",
       "        vertical-align: middle;\n",
       "    }\n",
       "\n",
       "    .dataframe tbody tr th {\n",
       "        vertical-align: top;\n",
       "    }\n",
       "\n",
       "    .dataframe thead th {\n",
       "        text-align: right;\n",
       "    }\n",
       "</style>\n",
       "<table border=\"1\" class=\"dataframe\">\n",
       "  <thead>\n",
       "    <tr style=\"text-align: right;\">\n",
       "      <th></th>\n",
       "      <th>count</th>\n",
       "      <th>mean</th>\n",
       "    </tr>\n",
       "    <tr>\n",
       "      <th>locality_name</th>\n",
       "      <th></th>\n",
       "      <th></th>\n",
       "    </tr>\n",
       "  </thead>\n",
       "  <tbody>\n",
       "    <tr>\n",
       "      <td>Санкт-Петербург</td>\n",
       "      <td>15631</td>\n",
       "      <td>114857.551436</td>\n",
       "    </tr>\n",
       "    <tr>\n",
       "      <td>посёлок Мурино</td>\n",
       "      <td>518</td>\n",
       "      <td>85645.902703</td>\n",
       "    </tr>\n",
       "    <tr>\n",
       "      <td>посёлок Шушары</td>\n",
       "      <td>439</td>\n",
       "      <td>78551.343964</td>\n",
       "    </tr>\n",
       "    <tr>\n",
       "      <td>Всеволожск</td>\n",
       "      <td>398</td>\n",
       "      <td>68654.475628</td>\n",
       "    </tr>\n",
       "    <tr>\n",
       "      <td>Пушкин</td>\n",
       "      <td>369</td>\n",
       "      <td>103125.818157</td>\n",
       "    </tr>\n",
       "    <tr>\n",
       "      <td>Колпино</td>\n",
       "      <td>338</td>\n",
       "      <td>75424.581953</td>\n",
       "    </tr>\n",
       "    <tr>\n",
       "      <td>посёлок Парголово</td>\n",
       "      <td>327</td>\n",
       "      <td>90175.915291</td>\n",
       "    </tr>\n",
       "    <tr>\n",
       "      <td>Гатчина</td>\n",
       "      <td>306</td>\n",
       "      <td>68757.679085</td>\n",
       "    </tr>\n",
       "    <tr>\n",
       "      <td>деревня Кудрово</td>\n",
       "      <td>299</td>\n",
       "      <td>92473.546488</td>\n",
       "    </tr>\n",
       "    <tr>\n",
       "      <td>Выборг</td>\n",
       "      <td>237</td>\n",
       "      <td>58141.907173</td>\n",
       "    </tr>\n",
       "  </tbody>\n",
       "</table>\n",
       "</div>"
      ],
      "text/plain": [
       "                   count           mean\n",
       "locality_name                          \n",
       "Санкт-Петербург    15631  114857.551436\n",
       "посёлок Мурино       518   85645.902703\n",
       "посёлок Шушары       439   78551.343964\n",
       "Всеволожск           398   68654.475628\n",
       "Пушкин               369  103125.818157\n",
       "Колпино              338   75424.581953\n",
       "посёлок Парголово    327   90175.915291\n",
       "Гатчина              306   68757.679085\n",
       "деревня Кудрово      299   92473.546488\n",
       "Выборг               237   58141.907173"
      ]
     },
     "execution_count": 114,
     "metadata": {},
     "output_type": "execute_result"
    }
   ],
   "source": [
    "data_price_per_sqm = data.pivot_table(index='locality_name', values='price_per_sqm', aggfunc=['count', 'mean'])\n",
    "data_price_per_sqm.columns = ['count', 'mean']\n",
    "data_price_per_sqm.sort_values('count', ascending=False).head(10)"
   ]
  },
  {
   "cell_type": "markdown",
   "metadata": {},
   "source": [
    "#### Из данной таблицы видно, объектами с самой высокой ценой за кв.м являются Санкт-Петербург, Пушкино, Деревня Кудрово и посёлок Парголово. Самые дешевые в Всеволжске, Гатчичина и Выборге(в 2 раза меньше чем в СПб.) Интересным фактом является то, что в городе Пушкин цена за кв.м почти такая же как в самом Санкт-Петербурге. Возможно это довольно богатый город в ленинградском районе, где проживает и отдыхает элита. Деревня Кудрово так же не сильно отстает."
   ]
  },
  {
   "cell_type": "code",
   "execution_count": 115,
   "metadata": {},
   "outputs": [],
   "source": [
    "# создаем столбец с расстоянием до центра в км.\n",
    "data['spb_km'] = round(data['cityCenters_nearest'] / 1000, 0)"
   ]
  },
  {
   "cell_type": "code",
   "execution_count": 116,
   "metadata": {},
   "outputs": [
    {
     "data": {
      "text/plain": [
       "Text(0, 0.5, 'цена умноженная на 10 млн')"
      ]
     },
     "execution_count": 116,
     "metadata": {},
     "output_type": "execute_result"
    },
    {
     "data": {
      "image/png": "[encoded data removed]",
      "text/plain": [
       "<Figure size 720x432 with 1 Axes>"
      ]
     },
     "metadata": {
      "needs_background": "light"
     },
     "output_type": "display_data"
    }
   ],
   "source": [
    "data.pivot_table(index = 'spb_km', values = 'last_price').plot(grid = True, figsize = (10,6))\n",
    "plt.xlim(0,18)\n",
    "plt.ylabel('цена умноженная на 10 млн')"
   ]
  },
  {
   "cell_type": "code",
   "execution_count": 117,
   "metadata": {},
   "outputs": [
    {
     "data": {
      "text/html": [
       "<div>\n",
       "<style scoped>\n",
       "    .dataframe tbody tr th:only-of-type {\n",
       "        vertical-align: middle;\n",
       "    }\n",
       "\n",
       "    .dataframe tbody tr th {\n",
       "        vertical-align: top;\n",
       "    }\n",
       "\n",
       "    .dataframe thead th {\n",
       "        text-align: right;\n",
       "    }\n",
       "</style>\n",
       "<table border=\"1\" class=\"dataframe\">\n",
       "  <thead>\n",
       "    <tr style=\"text-align: right;\">\n",
       "      <th></th>\n",
       "      <th>last_price</th>\n",
       "    </tr>\n",
       "    <tr>\n",
       "      <th>spb_km</th>\n",
       "      <th></th>\n",
       "    </tr>\n",
       "  </thead>\n",
       "  <tbody>\n",
       "    <tr>\n",
       "      <td>0.0</td>\n",
       "      <td>31449115.85</td>\n",
       "    </tr>\n",
       "    <tr>\n",
       "      <td>1.0</td>\n",
       "      <td>21206720.83</td>\n",
       "    </tr>\n",
       "    <tr>\n",
       "      <td>2.0</td>\n",
       "      <td>17788319.61</td>\n",
       "    </tr>\n",
       "    <tr>\n",
       "      <td>3.0</td>\n",
       "      <td>11146436.17</td>\n",
       "    </tr>\n",
       "    <tr>\n",
       "      <td>4.0</td>\n",
       "      <td>13309090.71</td>\n",
       "    </tr>\n",
       "    <tr>\n",
       "      <td>5.0</td>\n",
       "      <td>14455995.62</td>\n",
       "    </tr>\n",
       "    <tr>\n",
       "      <td>6.0</td>\n",
       "      <td>15338418.39</td>\n",
       "    </tr>\n",
       "    <tr>\n",
       "      <td>7.0</td>\n",
       "      <td>14775152.59</td>\n",
       "    </tr>\n",
       "    <tr>\n",
       "      <td>8.0</td>\n",
       "      <td>9961374.21</td>\n",
       "    </tr>\n",
       "    <tr>\n",
       "      <td>9.0</td>\n",
       "      <td>6968353.13</td>\n",
       "    </tr>\n",
       "  </tbody>\n",
       "</table>\n",
       "</div>"
      ],
      "text/plain": [
       "         last_price\n",
       "spb_km             \n",
       "0.0     31449115.85\n",
       "1.0     21206720.83\n",
       "2.0     17788319.61\n",
       "3.0     11146436.17\n",
       "4.0     13309090.71\n",
       "5.0     14455995.62\n",
       "6.0     15338418.39\n",
       "7.0     14775152.59\n",
       "8.0      9961374.21\n",
       "9.0      6968353.13"
      ]
     },
     "execution_count": 117,
     "metadata": {},
     "output_type": "execute_result"
    }
   ],
   "source": [
    "round(data.pivot_table(index = 'spb_km', values = 'last_price',),2).head(10)"
   ]
  },
  {
   "cell_type": "markdown",
   "metadata": {},
   "source": [
    "#### С 7 по 9 км происходит падение средней цены, после которого каких либо резких скачков и роста уже не наблюдается. Возьмем за границу центра 8км."
   ]
  },
  {
   "cell_type": "code",
   "execution_count": 118,
   "metadata": {},
   "outputs": [],
   "source": [
    "city_center = data.query('spb_km <= 8')\n",
    "spb_data = data.query('locality_name == \"Санкт-Петербург\"')"
   ]
  },
  {
   "cell_type": "code",
   "execution_count": 119,
   "metadata": {},
   "outputs": [
    {
     "name": "stdout",
     "output_type": "stream",
     "text": [
      "count    4107.0\n",
      "mean       90.3\n",
      "std        58.9\n",
      "min        12.0\n",
      "25%        55.0\n",
      "50%        76.0\n",
      "75%       107.0\n",
      "max       900.0\n",
      "Name: total_area, dtype: float64\n",
      "count         4107.0\n",
      "mean      14181998.8\n",
      "std       23617642.8\n",
      "min        1600000.0\n",
      "25%        6450000.0\n",
      "50%        8950000.0\n",
      "75%       13900000.0\n",
      "max      763000000.0\n",
      "Name: last_price, dtype: float64\n",
      "count    4107.0\n",
      "mean        2.8\n",
      "std         1.4\n",
      "min         0.0\n",
      "25%         2.0\n",
      "50%         3.0\n",
      "75%         3.0\n",
      "max        19.0\n",
      "Name: rooms, dtype: float64\n",
      "count    4107.0\n",
      "mean        2.9\n",
      "std         0.4\n",
      "min         2.0\n",
      "25%         2.6\n",
      "50%         2.8\n",
      "75%         3.1\n",
      "max         6.0\n",
      "Name: ceiling_height, dtype: float64\n"
     ]
    }
   ],
   "source": [
    "for column in ['total_area', 'last_price', 'rooms','ceiling_height']:\n",
    "    print(round(city_center[column].describe(),1))"
   ]
  },
  {
   "cell_type": "markdown",
   "metadata": {},
   "source": [
    "#### Для центра Санкт-Петербурга средней крватирой можно считать ту, площадь которой составояет 76м.кв, цена составаляет 9млн. рублей, квартира является трехкомнатной со редней высотой потолков 2.8м."
   ]
  },
  {
   "cell_type": "code",
   "execution_count": 120,
   "metadata": {},
   "outputs": [
    {
     "name": "stdout",
     "output_type": "stream",
     "text": [
      "count    15631.000000\n",
      "mean         2.172798\n",
      "std          1.148820\n",
      "min          0.000000\n",
      "25%          1.000000\n",
      "50%          2.000000\n",
      "75%          3.000000\n",
      "max         19.000000\n",
      "Name: rooms, dtype: float64\n"
     ]
    },
    {
     "data": {
      "text/plain": [
       "count    4107.000000\n",
       "mean        2.758948\n",
       "std         1.426846\n",
       "min         0.000000\n",
       "25%         2.000000\n",
       "50%         3.000000\n",
       "75%         3.000000\n",
       "max        19.000000\n",
       "Name: rooms, dtype: float64"
      ]
     },
     "execution_count": 120,
     "metadata": {},
     "output_type": "execute_result"
    }
   ],
   "source": [
    "print(spb_data['rooms'].describe())\n",
    "city_center['rooms'].describe()"
   ]
  },
  {
   "cell_type": "code",
   "execution_count": 121,
   "metadata": {},
   "outputs": [
    {
     "name": "stdout",
     "output_type": "stream",
     "text": [
      "count    15631.000000\n",
      "mean         2.172798\n",
      "std          1.148820\n",
      "min          0.000000\n",
      "25%          1.000000\n",
      "50%          2.000000\n",
      "75%          3.000000\n",
      "max         19.000000\n",
      "Name: rooms, dtype: float64\n",
      "count    4107.000000\n",
      "mean        2.758948\n",
      "std         1.426846\n",
      "min         0.000000\n",
      "25%         2.000000\n",
      "50%         3.000000\n",
      "75%         3.000000\n",
      "max        19.000000\n",
      "Name: rooms, dtype: float64\n"
     ]
    },
    {
     "data": {
      "text/plain": [
       "(-50, 70000000)"
      ]
     },
     "execution_count": 121,
     "metadata": {},
     "output_type": "execute_result"
    },
    {
     "data": {
      "image/png": "[encoded data removed]",
      "text/plain": [
       "<Figure size 1080x432 with 1 Axes>"
      ]
     },
     "metadata": {
      "needs_background": "light"
     },
     "output_type": "display_data"
    },
    {
     "data": {
      "image/png": "[encoded data removed]",
      "text/plain": [
       "<Figure size 1080x432 with 1 Axes>"
      ]
     },
     "metadata": {
      "needs_background": "light"
     },
     "output_type": "display_data"
    }
   ],
   "source": [
    "print(spb_data['rooms'].describe())\n",
    "print(city_center['rooms'].describe())\n",
    "spb_data.boxplot(column ='last_price',by ='rooms', figsize = (15,6))\n",
    "plt.ylim(-50,70000000)\n",
    "city_center.boxplot(column ='last_price',by ='rooms',figsize = (15,6))\n",
    "plt.ylim(-50,70000000)"
   ]
  },
  {
   "cell_type": "code",
   "execution_count": 122,
   "metadata": {},
   "outputs": [
    {
     "data": {
      "text/plain": [
       "(-50, 20000000)"
      ]
     },
     "execution_count": 122,
     "metadata": {},
     "output_type": "execute_result"
    },
    {
     "data": {
      "image/png": "[encoded data removed]",
      "text/plain": [
       "<Figure size 720x432 with 1 Axes>"
      ]
     },
     "metadata": {
      "needs_background": "light"
     },
     "output_type": "display_data"
    },
    {
     "data": {
      "image/png": "[encoded data removed]",
      "text/plain": [
       "<Figure size 720x432 with 1 Axes>"
      ]
     },
     "metadata": {
      "needs_background": "light"
     },
     "output_type": "display_data"
    }
   ],
   "source": [
    "spb_data.boxplot(column ='last_price',by ='floor_group', figsize = (10,6))\n",
    "plt.ylim(-50,20000000)\n",
    "city_center.boxplot(column ='last_price',by ='floor_group',figsize = (10,6))\n",
    "plt.ylim(-50,20000000)"
   ]
  },
  {
   "cell_type": "code",
   "execution_count": 123,
   "metadata": {},
   "outputs": [
    {
     "data": {
      "text/plain": [
       "(-50, 40000000)"
      ]
     },
     "execution_count": 123,
     "metadata": {},
     "output_type": "execute_result"
    },
    {
     "data": {
      "image/png": "[encoded data removed]",
      "text/plain": [
       "<Figure size 1080x432 with 1 Axes>"
      ]
     },
     "metadata": {
      "needs_background": "light"
     },
     "output_type": "display_data"
    }
   ],
   "source": [
    "spb_data.boxplot(column ='last_price',by ='spb_km', figsize = (15,6))\n",
    "plt.ylim(-50,40000000)"
   ]
  },
  {
   "cell_type": "code",
   "execution_count": 124,
   "metadata": {},
   "outputs": [
    {
     "data": {
      "text/plain": [
       "(-50, 35000000)"
      ]
     },
     "execution_count": 124,
     "metadata": {},
     "output_type": "execute_result"
    },
    {
     "data": {
      "image/png": "[encoded data removed]",
      "text/plain": [
       "<Figure size 1080x432 with 1 Axes>"
      ]
     },
     "metadata": {
      "needs_background": "light"
     },
     "output_type": "display_data"
    },
    {
     "data": {
      "image/png": "[encoded data removed]",
      "text/plain": [
       "<Figure size 1080x432 with 1 Axes>"
      ]
     },
     "metadata": {
      "needs_background": "light"
     },
     "output_type": "display_data"
    }
   ],
   "source": [
    "spb_data.boxplot(column ='last_price',by ='year', figsize = (15,6))\n",
    "plt.ylim(-50,35000000)\n",
    "city_center.boxplot(column ='last_price',by ='year',figsize = (15,6))\n",
    "plt.ylim(-50,35000000)"
   ]
  },
  {
   "cell_type": "code",
   "execution_count": 125,
   "metadata": {},
   "outputs": [
    {
     "data": {
      "text/plain": [
       "(-50, 30000000)"
      ]
     },
     "execution_count": 125,
     "metadata": {},
     "output_type": "execute_result"
    },
    {
     "data": {
      "image/png": "[encoded data removed]",
      "text/plain": [
       "<Figure size 1080x432 with 1 Axes>"
      ]
     },
     "metadata": {
      "needs_background": "light"
     },
     "output_type": "display_data"
    },
    {
     "data": {
      "image/png": "[encoded data removed]",
      "text/plain": [
       "<Figure size 1080x432 with 1 Axes>"
      ]
     },
     "metadata": {
      "needs_background": "light"
     },
     "output_type": "display_data"
    }
   ],
   "source": [
    "spb_data.boxplot(column ='last_price',by ='month', figsize = (15,6))\n",
    "plt.ylim(-50,20000000)\n",
    "city_center.boxplot(column ='last_price',by ='month',figsize = (15,6))\n",
    "plt.ylim(-50,30000000)"
   ]
  },
  {
   "cell_type": "code",
   "execution_count": 126,
   "metadata": {},
   "outputs": [
    {
     "data": {
      "text/plain": [
       "(400000, 15000000)"
      ]
     },
     "execution_count": 126,
     "metadata": {},
     "output_type": "execute_result"
    },
    {
     "data": {
      "image/png": "[encoded data removed]",
      "text/plain": [
       "<Figure size 1080x432 with 1 Axes>"
      ]
     },
     "metadata": {
      "needs_background": "light"
     },
     "output_type": "display_data"
    },
    {
     "data": {
      "image/png": "[encoded data removed]",
      "text/plain": [
       "<Figure size 1080x432 with 1 Axes>"
      ]
     },
     "metadata": {
      "needs_background": "light"
     },
     "output_type": "display_data"
    }
   ],
   "source": [
    "spb_data.boxplot(column ='last_price',by ='weekday', figsize = (15,6))\n",
    "plt.ylim(400000,15000000)\n",
    "city_center.boxplot(column ='last_price',by ='weekday',figsize = (15,6))\n",
    "plt.ylim(400000,15000000)"
   ]
  },
  {
   "cell_type": "markdown",
   "metadata": {},
   "source": [
    "* Если рассматривать зависимость изменения цены о числа комнат, то в среднем в центре города она такая же, как и по горду в целом, из тренда выбиваются только 9-ти и 10-ти комнатные картиры в центре.\n",
    "* Зависимость изменения центы от этажа так же одинакова: что в центре, что по всему городу самая низкая стоимость у квартир на первом этаже, остальные квартиры (последний этаж или любой другой) продаются одинаково дороже.\n",
    "* С зависимостью средней цены от удаленности от центра города мы уже разобрались: чем ближе к центру тем дороже, только после 9 километра эта зависимость почти полностью сглаживается.\n",
    "* Если рассматривать зависимость от даты размещения, то как в общем выводе, так и в центре и по всему Санкт-Петербургу дороже всего продавались квартиры, объявления о продажи которых размещались в 2014 году. И вот зависимость от месяца публикации интересна тем, что квартиры выставленные в декабре продаются в центре города в среднем дешевле всего, а если смотреть по всему городу, не выделяя центр, то получается наоборот: выставленные в декабре квартиры продаются дороже. А вот особой разницы между днями недели не наблюдается. "
   ]
  },
  {
   "cell_type": "markdown",
   "metadata": {},
   "source": [
    "### Шаг 5. Общий вывод"
   ]
  },
  {
   "cell_type": "markdown",
   "metadata": {},
   "source": [
    "##### Нашей задачей было научиться определять рыночную стоимость объектов недвижимости, и можно выделить следующие моменты:\n",
    "1. Центром города можно счатать квартиры, расположенные в радиусе 8 киллометров, их средняя стоимость самая большая.\n",
    "2. Самый большой фактор влияющий на стоимость это площадь квартиры: чем больше площадь, тем, соответственно, дороже квартира.\n",
    "3. Следует обратить внимание на квартиры, срок продажи которых менее месяца, возможно имеет место мошенничество.\n",
    "4. Большое количество пропущенных значений с информации о расстоянии от центра города: эти данные получены автоматически, следует обратить на это внимание и отладить заполнение данных.\n",
    "5. Возможно следут ввести некторые ограничения для данных, заполняемых пользователем, что бы не выходило как с высотой полоков, где значения достигали 100м. Это позволит избежать аномалий.\n",
    "6. Следует разробраться с аномальными показателями, когда большинсво квартир продаются за 45 и 60 дней, если предположение об ограничениях неактивных заявлений верно, то все в порядке, иначе это тоже похоже на мошенничество."
   ]
  }
 ],
 "metadata": {
  "ExecuteTimeLog": [
   {
    "duration": 142,
    "start_time": "2021-06-21T20:30:36.212Z"
   },
   {
    "duration": 29,
    "start_time": "2021-06-21T20:30:36.356Z"
   },
   {
    "duration": 11,
    "start_time": "2021-06-21T20:30:36.388Z"
   },
   {
    "duration": 543,
    "start_time": "2021-06-21T20:30:36.401Z"
   },
   {
    "duration": 34,
    "start_time": "2021-06-21T20:30:36.954Z"
   },
   {
    "duration": 24,
    "start_time": "2021-06-21T20:30:36.992Z"
   },
   {
    "duration": 8,
    "start_time": "2021-06-21T20:30:37.019Z"
   },
   {
    "duration": 8,
    "start_time": "2021-06-21T20:30:37.029Z"
   },
   {
    "duration": 49,
    "start_time": "2021-06-21T20:30:37.040Z"
   },
   {
    "duration": 6,
    "start_time": "2021-06-21T20:30:37.092Z"
   },
   {
    "duration": 44,
    "start_time": "2021-06-21T20:30:37.101Z"
   },
   {
    "duration": 36,
    "start_time": "2021-06-21T20:30:37.148Z"
   },
   {
    "duration": 11,
    "start_time": "2021-06-21T20:30:37.187Z"
   },
   {
    "duration": 9,
    "start_time": "2021-06-21T20:30:37.201Z"
   },
   {
    "duration": 8,
    "start_time": "2021-06-21T20:30:37.212Z"
   },
   {
    "duration": 13,
    "start_time": "2021-06-21T20:30:37.222Z"
   },
   {
    "duration": 6,
    "start_time": "2021-06-21T20:30:37.238Z"
   },
   {
    "duration": 7,
    "start_time": "2021-06-21T20:30:37.286Z"
   },
   {
    "duration": 23,
    "start_time": "2021-06-21T20:30:37.295Z"
   },
   {
    "duration": 9,
    "start_time": "2021-06-21T20:30:37.320Z"
   },
   {
    "duration": 75,
    "start_time": "2021-06-21T20:30:37.331Z"
   },
   {
    "duration": 6,
    "start_time": "2021-06-21T20:30:37.409Z"
   },
   {
    "duration": 21,
    "start_time": "2021-06-21T20:30:37.417Z"
   },
   {
    "duration": 966,
    "start_time": "2021-06-21T20:30:37.440Z"
   },
   {
    "duration": 10,
    "start_time": "2021-06-21T20:30:38.408Z"
   },
   {
    "duration": 9,
    "start_time": "2021-06-21T20:30:38.420Z"
   },
   {
    "duration": 7,
    "start_time": "2021-06-21T20:30:38.432Z"
   },
   {
    "duration": 498,
    "start_time": "2021-06-21T20:30:38.442Z"
   },
   {
    "duration": 728,
    "start_time": "2021-06-21T20:30:38.943Z"
   },
   {
    "duration": 20,
    "start_time": "2021-06-21T20:30:39.674Z"
   },
   {
    "duration": 35,
    "start_time": "2021-06-21T20:30:39.697Z"
   },
   {
    "duration": 11,
    "start_time": "2021-06-21T20:30:39.734Z"
   },
   {
    "duration": 43,
    "start_time": "2021-06-21T20:30:39.747Z"
   },
   {
    "duration": 535,
    "start_time": "2021-06-21T20:30:39.793Z"
   },
   {
    "duration": 372,
    "start_time": "2021-06-21T20:30:40.330Z"
   },
   {
    "duration": 43,
    "start_time": "2021-06-21T20:30:40.705Z"
   },
   {
    "duration": 39,
    "start_time": "2021-06-21T20:30:40.751Z"
   },
   {
    "duration": 337,
    "start_time": "2021-06-21T20:30:40.793Z"
   },
   {
    "duration": 558,
    "start_time": "2021-06-21T20:30:41.133Z"
   },
   {
    "duration": 10,
    "start_time": "2021-06-21T20:30:41.694Z"
   },
   {
    "duration": 352,
    "start_time": "2021-06-21T20:30:41.707Z"
   },
   {
    "duration": 1077,
    "start_time": "2021-06-21T20:30:42.062Z"
   },
   {
    "duration": 754,
    "start_time": "2021-06-21T20:30:43.142Z"
   },
   {
    "duration": 25,
    "start_time": "2021-06-21T20:30:43.898Z"
   },
   {
    "duration": 805,
    "start_time": "2021-06-21T20:30:43.926Z"
   },
   {
    "duration": 12,
    "start_time": "2021-06-21T20:30:44.734Z"
   },
   {
    "duration": 5,
    "start_time": "2021-06-21T20:30:44.748Z"
   },
   {
    "duration": 333,
    "start_time": "2021-06-21T20:30:44.755Z"
   },
   {
    "duration": 319,
    "start_time": "2021-06-21T20:30:45.091Z"
   },
   {
    "duration": 1282,
    "start_time": "2021-06-21T20:30:45.412Z"
   },
   {
    "duration": 35,
    "start_time": "2021-06-21T20:30:46.697Z"
   },
   {
    "duration": 6,
    "start_time": "2021-06-21T20:30:46.734Z"
   },
   {
    "duration": 405,
    "start_time": "2021-06-21T20:30:46.742Z"
   },
   {
    "duration": 21,
    "start_time": "2021-06-21T20:30:47.150Z"
   },
   {
    "duration": 27,
    "start_time": "2021-06-21T20:30:47.173Z"
   },
   {
    "duration": 25,
    "start_time": "2021-06-21T20:30:47.202Z"
   },
   {
    "duration": 17,
    "start_time": "2021-06-21T20:30:47.230Z"
   },
   {
    "duration": 1823,
    "start_time": "2021-06-21T20:30:47.287Z"
   },
   {
    "duration": 765,
    "start_time": "2021-06-21T20:30:49.113Z"
   },
   {
    "duration": 1160,
    "start_time": "2021-06-21T20:30:49.880Z"
   },
   {
    "duration": 1046,
    "start_time": "2021-06-21T20:30:51.043Z"
   },
   {
    "duration": 1634,
    "start_time": "2021-06-21T20:30:52.091Z"
   },
   {
    "duration": 1241,
    "start_time": "2021-06-21T20:30:53.728Z"
   }
  ],
  "kernelspec": {
   "display_name": "Python 3",
   "language": "python",
   "name": "python3"
  },
  "language_info": {
   "codemirror_mode": {
    "name": "ipython",
    "version": 3
   },
   "file_extension": ".py",
   "mimetype": "text/x-python",
   "name": "python",
   "nbconvert_exporter": "python",
   "pygments_lexer": "ipython3",
   "version": "3.7.8"
  },
  "toc": {
   "base_numbering": 1,
   "nav_menu": {},
   "number_sections": false,
   "sideBar": true,
   "skip_h1_title": true,
   "title_cell": "Table of Contents",
   "title_sidebar": "Contents",
   "toc_cell": false,
   "toc_position": {},
   "toc_section_display": true,
   "toc_window_display": false
  }
 },
 "nbformat": 4,
 "nbformat_minor": 2
}
