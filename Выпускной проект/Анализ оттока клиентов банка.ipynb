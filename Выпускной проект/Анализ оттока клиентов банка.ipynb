{
 "cells": [
  {
   "cell_type": "markdown",
   "metadata": {},
   "source": [
    "# Анализ оттока клиентов банка \"Метанпром\""
   ]
  },
  {
   "cell_type": "markdown",
   "metadata": {},
   "source": [
    "# Содержание\n",
    "\n",
    "1. **[Шаг 1. Постановка цели исследования.](#step1_0)**\n",
    "\n",
    "\n",
    "2. **[Шаг 2. Загрузка данных и подготовка их к анализу.](#step2_0)**\n",
    "\n",
    "\n",
    "3. **[Шаг 3. Предобработка данных.](#step3_0)**\n",
    "\n",
    "    \n",
    "4. **[Шаг 4. Исследовательский анализ данных.](#step4_0)** \n",
    "\n",
    "    \n",
    "5. **[Шаг 5. Выделение портретов пользовтаелей склонных к уходу.](#step5_0)**\n",
    "\n",
    "\n",
    "6. **[Шаг 6. Формулирование и проверка статистических гипотез.](#step6_0)**\n",
    "\n",
    "\n",
    "7. **[Шаг 7. Итоговые выводы и рекомендации.](#step7_0)**\n",
    "\n",
    "\n",
    "8. **[Шаг 8. Презентация для заказчика.](#step8_0)**"
   ]
  },
  {
   "cell_type": "markdown",
   "metadata": {},
   "source": [
    "# Шаг 1. Постановка цели исследования. <a id=\"step1_0\"></a>\n",
    "\n",
    "**Наша задача проанализировать клиентов регионального банка \"Метанпром\", который располагается в Ярославле и областных городах: Ростов Великий и Рыбинск, и выделить портрет клиентов, которые склонный уходить из банка.**\n",
    "\n",
    "У нас имеется датасет, который содрежит данные о клиентах банка и имеет следующие колонки:\n",
    "\n",
    "- `userid` — идентификатор пользователя,\n",
    "- `score` — баллы кредитного скоринга,\n",
    "- `City` — город,\n",
    "- `Gender` — пол,\n",
    "- `Age` — возраст,\n",
    "- `Objects` — количество объектов в собственности,\n",
    "- `Balance` — баланс на счёте,\n",
    "- `Products` — количество продуктов, которыми пользуется клиент,\n",
    "- `CreditCard` — есть ли кредитная карта,\n",
    "- `Loyalty` — активный клиент,\n",
    "- `estimated_salary` — заработная плата клиента,\n",
    "- `Churn` — ушёл или нет."
   ]
  },
  {
   "cell_type": "markdown",
   "metadata": {},
   "source": [
    "# Шаг 2. Загрузка данных и подготовка их к анализу. <a id=\"step2_0\"></a>"
   ]
  },
  {
   "cell_type": "code",
   "execution_count": 7,
   "metadata": {},
   "outputs": [],
   "source": [
    "# Импортируем необходимые библиотеки\n",
    "import pandas as pd\n",
    "import numpy as np\n",
    "import seaborn as sns\n",
    "import matplotlib.pyplot as plt\n",
    "\n",
    "from scipy import stats as st\n",
    "\n",
    "from sklearn.model_selection import train_test_split\n",
    "from sklearn.linear_model import LinearRegression\n",
    "from sklearn.linear_model import LogisticRegression\n",
    "from sklearn.ensemble import RandomForestClassifier, RandomForestRegressor\n",
    "from sklearn.preprocessing import StandardScaler\n",
    "from sklearn.metrics import accuracy_score, precision_score, recall_score, f1_score, roc_auc_score, mean_squared_error\n",
    "from scipy.cluster.hierarchy import dendrogram, linkage\n",
    "from sklearn.cluster import KMeans\n",
    "from sklearn.model_selection import GridSearchCV\n",
    "\n",
    "import warnings\n",
    "warnings.filterwarnings(\"ignore\")"
   ]
  },
  {
   "cell_type": "code",
   "execution_count": 8,
   "metadata": {},
   "outputs": [],
   "source": [
    "df = pd.read_csv('/datasets/bank_dataset.csv')"
   ]
  },
  {
   "cell_type": "code",
   "execution_count": 9,
   "metadata": {},
   "outputs": [
    {
     "data": {
      "text/html": [
       "<div>\n",
       "<style scoped>\n",
       "    .dataframe tbody tr th:only-of-type {\n",
       "        vertical-align: middle;\n",
       "    }\n",
       "\n",
       "    .dataframe tbody tr th {\n",
       "        vertical-align: top;\n",
       "    }\n",
       "\n",
       "    .dataframe thead th {\n",
       "        text-align: right;\n",
       "    }\n",
       "</style>\n",
       "<table border=\"1\" class=\"dataframe\">\n",
       "  <thead>\n",
       "    <tr style=\"text-align: right;\">\n",
       "      <th></th>\n",
       "      <th>userid</th>\n",
       "      <th>score</th>\n",
       "      <th>City</th>\n",
       "      <th>Gender</th>\n",
       "      <th>Age</th>\n",
       "      <th>Objects</th>\n",
       "      <th>Balance</th>\n",
       "      <th>Products</th>\n",
       "      <th>CreditCard</th>\n",
       "      <th>Loyalty</th>\n",
       "      <th>estimated_salary</th>\n",
       "      <th>Churn</th>\n",
       "    </tr>\n",
       "  </thead>\n",
       "  <tbody>\n",
       "    <tr>\n",
       "      <th>0</th>\n",
       "      <td>15677338</td>\n",
       "      <td>619</td>\n",
       "      <td>Ярославль</td>\n",
       "      <td>Ж</td>\n",
       "      <td>42</td>\n",
       "      <td>2</td>\n",
       "      <td>NaN</td>\n",
       "      <td>1</td>\n",
       "      <td>1</td>\n",
       "      <td>1</td>\n",
       "      <td>101348.88</td>\n",
       "      <td>1</td>\n",
       "    </tr>\n",
       "    <tr>\n",
       "      <th>1</th>\n",
       "      <td>15690047</td>\n",
       "      <td>608</td>\n",
       "      <td>Рыбинск</td>\n",
       "      <td>Ж</td>\n",
       "      <td>41</td>\n",
       "      <td>1</td>\n",
       "      <td>83807.86</td>\n",
       "      <td>1</td>\n",
       "      <td>0</td>\n",
       "      <td>1</td>\n",
       "      <td>112542.58</td>\n",
       "      <td>0</td>\n",
       "    </tr>\n",
       "    <tr>\n",
       "      <th>2</th>\n",
       "      <td>15662040</td>\n",
       "      <td>502</td>\n",
       "      <td>Ярославль</td>\n",
       "      <td>Ж</td>\n",
       "      <td>42</td>\n",
       "      <td>8</td>\n",
       "      <td>159660.80</td>\n",
       "      <td>3</td>\n",
       "      <td>1</td>\n",
       "      <td>0</td>\n",
       "      <td>113931.57</td>\n",
       "      <td>1</td>\n",
       "    </tr>\n",
       "    <tr>\n",
       "      <th>3</th>\n",
       "      <td>15744090</td>\n",
       "      <td>699</td>\n",
       "      <td>Ярославль</td>\n",
       "      <td>Ж</td>\n",
       "      <td>39</td>\n",
       "      <td>1</td>\n",
       "      <td>NaN</td>\n",
       "      <td>2</td>\n",
       "      <td>0</td>\n",
       "      <td>0</td>\n",
       "      <td>93826.63</td>\n",
       "      <td>0</td>\n",
       "    </tr>\n",
       "    <tr>\n",
       "      <th>4</th>\n",
       "      <td>15780624</td>\n",
       "      <td>850</td>\n",
       "      <td>Рыбинск</td>\n",
       "      <td>Ж</td>\n",
       "      <td>43</td>\n",
       "      <td>2</td>\n",
       "      <td>125510.82</td>\n",
       "      <td>1</td>\n",
       "      <td>1</td>\n",
       "      <td>1</td>\n",
       "      <td>79084.10</td>\n",
       "      <td>0</td>\n",
       "    </tr>\n",
       "    <tr>\n",
       "      <th>5</th>\n",
       "      <td>15616748</td>\n",
       "      <td>645</td>\n",
       "      <td>Рыбинск</td>\n",
       "      <td>М</td>\n",
       "      <td>44</td>\n",
       "      <td>8</td>\n",
       "      <td>113755.78</td>\n",
       "      <td>2</td>\n",
       "      <td>1</td>\n",
       "      <td>0</td>\n",
       "      <td>149756.71</td>\n",
       "      <td>1</td>\n",
       "    </tr>\n",
       "    <tr>\n",
       "      <th>6</th>\n",
       "      <td>15635267</td>\n",
       "      <td>822</td>\n",
       "      <td>Ярославль</td>\n",
       "      <td>М</td>\n",
       "      <td>50</td>\n",
       "      <td>7</td>\n",
       "      <td>NaN</td>\n",
       "      <td>2</td>\n",
       "      <td>1</td>\n",
       "      <td>1</td>\n",
       "      <td>10062.80</td>\n",
       "      <td>0</td>\n",
       "    </tr>\n",
       "    <tr>\n",
       "      <th>7</th>\n",
       "      <td>15698884</td>\n",
       "      <td>376</td>\n",
       "      <td>Ростов Великий</td>\n",
       "      <td>Ж</td>\n",
       "      <td>29</td>\n",
       "      <td>4</td>\n",
       "      <td>115046.74</td>\n",
       "      <td>4</td>\n",
       "      <td>1</td>\n",
       "      <td>0</td>\n",
       "      <td>119346.88</td>\n",
       "      <td>1</td>\n",
       "    </tr>\n",
       "    <tr>\n",
       "      <th>8</th>\n",
       "      <td>15835101</td>\n",
       "      <td>501</td>\n",
       "      <td>Ярославль</td>\n",
       "      <td>М</td>\n",
       "      <td>44</td>\n",
       "      <td>4</td>\n",
       "      <td>142051.07</td>\n",
       "      <td>2</td>\n",
       "      <td>0</td>\n",
       "      <td>1</td>\n",
       "      <td>74940.50</td>\n",
       "      <td>0</td>\n",
       "    </tr>\n",
       "    <tr>\n",
       "      <th>9</th>\n",
       "      <td>15635125</td>\n",
       "      <td>684</td>\n",
       "      <td>Ярославль</td>\n",
       "      <td>М</td>\n",
       "      <td>27</td>\n",
       "      <td>2</td>\n",
       "      <td>134603.88</td>\n",
       "      <td>1</td>\n",
       "      <td>1</td>\n",
       "      <td>1</td>\n",
       "      <td>71725.73</td>\n",
       "      <td>0</td>\n",
       "    </tr>\n",
       "  </tbody>\n",
       "</table>\n",
       "</div>"
      ],
      "text/plain": [
       "     userid  score            City Gender  Age  Objects    Balance  Products  \\\n",
       "0  15677338    619       Ярославль      Ж   42        2        NaN         1   \n",
       "1  15690047    608         Рыбинск      Ж   41        1   83807.86         1   \n",
       "2  15662040    502       Ярославль      Ж   42        8  159660.80         3   \n",
       "3  15744090    699       Ярославль      Ж   39        1        NaN         2   \n",
       "4  15780624    850         Рыбинск      Ж   43        2  125510.82         1   \n",
       "5  15616748    645         Рыбинск      М   44        8  113755.78         2   \n",
       "6  15635267    822       Ярославль      М   50        7        NaN         2   \n",
       "7  15698884    376  Ростов Великий      Ж   29        4  115046.74         4   \n",
       "8  15835101    501       Ярославль      М   44        4  142051.07         2   \n",
       "9  15635125    684       Ярославль      М   27        2  134603.88         1   \n",
       "\n",
       "   CreditCard  Loyalty  estimated_salary  Churn  \n",
       "0           1        1         101348.88      1  \n",
       "1           0        1         112542.58      0  \n",
       "2           1        0         113931.57      1  \n",
       "3           0        0          93826.63      0  \n",
       "4           1        1          79084.10      0  \n",
       "5           1        0         149756.71      1  \n",
       "6           1        1          10062.80      0  \n",
       "7           1        0         119346.88      1  \n",
       "8           0        1          74940.50      0  \n",
       "9           1        1          71725.73      0  "
      ]
     },
     "execution_count": 9,
     "metadata": {},
     "output_type": "execute_result"
    }
   ],
   "source": [
    "df.head(10)"
   ]
  },
  {
   "cell_type": "markdown",
   "metadata": {},
   "source": [
    "Данный выглядят корректно, приступим к предобработке."
   ]
  },
  {
   "cell_type": "markdown",
   "metadata": {},
   "source": [
    "# Шаг 3. Предобработка данных. <a id=\"step3_0\"></a>"
   ]
  },
  {
   "cell_type": "code",
   "execution_count": 10,
   "metadata": {},
   "outputs": [
    {
     "name": "stdout",
     "output_type": "stream",
     "text": [
      "<class 'pandas.core.frame.DataFrame'>\n",
      "RangeIndex: 10000 entries, 0 to 9999\n",
      "Data columns (total 12 columns):\n",
      " #   Column            Non-Null Count  Dtype  \n",
      "---  ------            --------------  -----  \n",
      " 0   userid            10000 non-null  int64  \n",
      " 1   score             10000 non-null  int64  \n",
      " 2   City              10000 non-null  object \n",
      " 3   Gender            10000 non-null  object \n",
      " 4   Age               10000 non-null  int64  \n",
      " 5   Objects           10000 non-null  int64  \n",
      " 6   Balance           6383 non-null   float64\n",
      " 7   Products          10000 non-null  int64  \n",
      " 8   CreditCard        10000 non-null  int64  \n",
      " 9   Loyalty           10000 non-null  int64  \n",
      " 10  estimated_salary  10000 non-null  float64\n",
      " 11  Churn             10000 non-null  int64  \n",
      "dtypes: float64(2), int64(8), object(2)\n",
      "memory usage: 937.6+ KB\n"
     ]
    }
   ],
   "source": [
    "df.info()"
   ]
  },
  {
   "cell_type": "markdown",
   "metadata": {},
   "source": [
    "10000 строк, в одной колонке примерно треть пропусков, типы данных корректны."
   ]
  },
  {
   "cell_type": "code",
   "execution_count": 11,
   "metadata": {},
   "outputs": [],
   "source": [
    "# приведем названия столбцов к нижнему регистру\n",
    "df.columns = map(str.lower, df.columns)"
   ]
  },
  {
   "cell_type": "code",
   "execution_count": 12,
   "metadata": {},
   "outputs": [
    {
     "data": {
      "text/plain": [
       "0"
      ]
     },
     "execution_count": 12,
     "metadata": {},
     "output_type": "execute_result"
    }
   ],
   "source": [
    "# дубликаты отсутсвуют\n",
    "df.duplicated().sum()"
   ]
  },
  {
   "cell_type": "code",
   "execution_count": 14,
   "metadata": {},
   "outputs": [
    {
     "data": {
      "text/plain": [
       "0"
      ]
     },
     "execution_count": 14,
     "metadata": {},
     "output_type": "execute_result"
    }
   ],
   "source": [
    "#конкретно в колоне userid тоже все значения уникальны, и по сути ее можно удалить, т.к она не несет никакой полезной информации\n",
    "df.duplicated(['userid']).sum()"
   ]
  },
  {
   "cell_type": "code",
   "execution_count": 15,
   "metadata": {},
   "outputs": [],
   "source": [
    "df = df.drop('userid', axis = 1)"
   ]
  },
  {
   "cell_type": "code",
   "execution_count": 16,
   "metadata": {},
   "outputs": [
    {
     "data": {
      "text/html": [
       "<div>\n",
       "<style scoped>\n",
       "    .dataframe tbody tr th:only-of-type {\n",
       "        vertical-align: middle;\n",
       "    }\n",
       "\n",
       "    .dataframe tbody tr th {\n",
       "        vertical-align: top;\n",
       "    }\n",
       "\n",
       "    .dataframe thead th {\n",
       "        text-align: right;\n",
       "    }\n",
       "</style>\n",
       "<table border=\"1\" class=\"dataframe\">\n",
       "  <thead>\n",
       "    <tr style=\"text-align: right;\">\n",
       "      <th></th>\n",
       "      <th>score</th>\n",
       "      <th>age</th>\n",
       "      <th>objects</th>\n",
       "      <th>balance</th>\n",
       "      <th>products</th>\n",
       "      <th>creditcard</th>\n",
       "      <th>loyalty</th>\n",
       "      <th>estimated_salary</th>\n",
       "      <th>churn</th>\n",
       "    </tr>\n",
       "  </thead>\n",
       "  <tbody>\n",
       "    <tr>\n",
       "      <th>count</th>\n",
       "      <td>10000.000000</td>\n",
       "      <td>10000.000000</td>\n",
       "      <td>10000.000000</td>\n",
       "      <td>6383.000000</td>\n",
       "      <td>10000.000000</td>\n",
       "      <td>10000.00000</td>\n",
       "      <td>10000.000000</td>\n",
       "      <td>10000.000000</td>\n",
       "      <td>10000.000000</td>\n",
       "    </tr>\n",
       "    <tr>\n",
       "      <th>mean</th>\n",
       "      <td>650.528800</td>\n",
       "      <td>38.921800</td>\n",
       "      <td>5.012800</td>\n",
       "      <td>119827.493793</td>\n",
       "      <td>1.530200</td>\n",
       "      <td>0.70550</td>\n",
       "      <td>0.515100</td>\n",
       "      <td>100090.239881</td>\n",
       "      <td>0.203700</td>\n",
       "    </tr>\n",
       "    <tr>\n",
       "      <th>std</th>\n",
       "      <td>96.653299</td>\n",
       "      <td>10.487806</td>\n",
       "      <td>2.892174</td>\n",
       "      <td>30095.056462</td>\n",
       "      <td>0.581654</td>\n",
       "      <td>0.45584</td>\n",
       "      <td>0.499797</td>\n",
       "      <td>57510.492818</td>\n",
       "      <td>0.402769</td>\n",
       "    </tr>\n",
       "    <tr>\n",
       "      <th>min</th>\n",
       "      <td>350.000000</td>\n",
       "      <td>18.000000</td>\n",
       "      <td>0.000000</td>\n",
       "      <td>3768.690000</td>\n",
       "      <td>1.000000</td>\n",
       "      <td>0.00000</td>\n",
       "      <td>0.000000</td>\n",
       "      <td>11.580000</td>\n",
       "      <td>0.000000</td>\n",
       "    </tr>\n",
       "    <tr>\n",
       "      <th>25%</th>\n",
       "      <td>584.000000</td>\n",
       "      <td>32.000000</td>\n",
       "      <td>3.000000</td>\n",
       "      <td>100181.975000</td>\n",
       "      <td>1.000000</td>\n",
       "      <td>0.00000</td>\n",
       "      <td>0.000000</td>\n",
       "      <td>51002.110000</td>\n",
       "      <td>0.000000</td>\n",
       "    </tr>\n",
       "    <tr>\n",
       "      <th>50%</th>\n",
       "      <td>652.000000</td>\n",
       "      <td>37.000000</td>\n",
       "      <td>5.000000</td>\n",
       "      <td>119839.690000</td>\n",
       "      <td>1.000000</td>\n",
       "      <td>1.00000</td>\n",
       "      <td>1.000000</td>\n",
       "      <td>100193.915000</td>\n",
       "      <td>0.000000</td>\n",
       "    </tr>\n",
       "    <tr>\n",
       "      <th>75%</th>\n",
       "      <td>718.000000</td>\n",
       "      <td>44.000000</td>\n",
       "      <td>7.000000</td>\n",
       "      <td>139512.290000</td>\n",
       "      <td>2.000000</td>\n",
       "      <td>1.00000</td>\n",
       "      <td>1.000000</td>\n",
       "      <td>149388.247500</td>\n",
       "      <td>0.000000</td>\n",
       "    </tr>\n",
       "    <tr>\n",
       "      <th>max</th>\n",
       "      <td>850.000000</td>\n",
       "      <td>92.000000</td>\n",
       "      <td>10.000000</td>\n",
       "      <td>250898.090000</td>\n",
       "      <td>4.000000</td>\n",
       "      <td>1.00000</td>\n",
       "      <td>1.000000</td>\n",
       "      <td>199992.480000</td>\n",
       "      <td>1.000000</td>\n",
       "    </tr>\n",
       "  </tbody>\n",
       "</table>\n",
       "</div>"
      ],
      "text/plain": [
       "              score           age       objects        balance      products  \\\n",
       "count  10000.000000  10000.000000  10000.000000    6383.000000  10000.000000   \n",
       "mean     650.528800     38.921800      5.012800  119827.493793      1.530200   \n",
       "std       96.653299     10.487806      2.892174   30095.056462      0.581654   \n",
       "min      350.000000     18.000000      0.000000    3768.690000      1.000000   \n",
       "25%      584.000000     32.000000      3.000000  100181.975000      1.000000   \n",
       "50%      652.000000     37.000000      5.000000  119839.690000      1.000000   \n",
       "75%      718.000000     44.000000      7.000000  139512.290000      2.000000   \n",
       "max      850.000000     92.000000     10.000000  250898.090000      4.000000   \n",
       "\n",
       "        creditcard       loyalty  estimated_salary         churn  \n",
       "count  10000.00000  10000.000000      10000.000000  10000.000000  \n",
       "mean       0.70550      0.515100     100090.239881      0.203700  \n",
       "std        0.45584      0.499797      57510.492818      0.402769  \n",
       "min        0.00000      0.000000         11.580000      0.000000  \n",
       "25%        0.00000      0.000000      51002.110000      0.000000  \n",
       "50%        1.00000      1.000000     100193.915000      0.000000  \n",
       "75%        1.00000      1.000000     149388.247500      0.000000  \n",
       "max        1.00000      1.000000     199992.480000      1.000000  "
      ]
     },
     "execution_count": 16,
     "metadata": {},
     "output_type": "execute_result"
    }
   ],
   "source": [
    "df.describe()"
   ]
  },
  {
   "cell_type": "code",
   "execution_count": 17,
   "metadata": {},
   "outputs": [
    {
     "data": {
      "image/png": "[encoded data removed]",
      "text/plain": [
       "<Figure size 576x576 with 2 Axes>"
      ]
     },
     "metadata": {
      "needs_background": "light"
     },
     "output_type": "display_data"
    }
   ],
   "source": [
    "plt.figure(figsize=(8, 8))\n",
    "sns.heatmap(df.corr(),annot=True, square=True, fmt = '.2f', cmap='bwr');"
   ]
  },
  {
   "cell_type": "markdown",
   "metadata": {},
   "source": [
    "В таблице отсутвуют колонки, имеющие сильную линейную корреляцию, значит они нам все пригодятся.\n",
    "\n",
    "Что же на счет пропусков в колонке <code>balance</code>, то пока оставим как есть, так как удаление такого количества строк не целесообразно, это практически треть всего датасета, а заполнение средним или медианным значением сильно исказит этот столбец."
   ]
  },
  {
   "cell_type": "markdown",
   "metadata": {},
   "source": [
    "# Шаг 4. Исследовательский анализ данных.<a id=\"step4_0\"></a>\n",
    "\n",
    "Цель нашего исследования - составить портрет пользователей, которые склонны уходить из банка, т.е. нам необходимо найти явную (и неявную) разницу между ними, и теми кто остался. Эта информация имеется в столбце <code>churn</code>, по нему и будет смотреть.\n",
    "\n",
    "Для начала посмотрим, какой процент от всего датасета занимают ушедшие."
   ]
  },
  {
   "cell_type": "code",
   "execution_count": 18,
   "metadata": {},
   "outputs": [
    {
     "data": {
      "text/plain": [
       "0.2037"
      ]
     },
     "execution_count": 18,
     "metadata": {},
     "output_type": "execute_result"
    }
   ],
   "source": [
    "# 20% клиентов\n",
    "df['churn'].mean()"
   ]
  },
  {
   "cell_type": "markdown",
   "metadata": {},
   "source": [
    "Посмотрим на средние значения признаков в двух группах."
   ]
  },
  {
   "cell_type": "code",
   "execution_count": 19,
   "metadata": {},
   "outputs": [
    {
     "data": {
      "text/html": [
       "<div>\n",
       "<style scoped>\n",
       "    .dataframe tbody tr th:only-of-type {\n",
       "        vertical-align: middle;\n",
       "    }\n",
       "\n",
       "    .dataframe tbody tr th {\n",
       "        vertical-align: top;\n",
       "    }\n",
       "\n",
       "    .dataframe thead th {\n",
       "        text-align: right;\n",
       "    }\n",
       "</style>\n",
       "<table border=\"1\" class=\"dataframe\">\n",
       "  <thead>\n",
       "    <tr style=\"text-align: right;\">\n",
       "      <th></th>\n",
       "      <th>score</th>\n",
       "      <th>age</th>\n",
       "      <th>objects</th>\n",
       "      <th>balance</th>\n",
       "      <th>products</th>\n",
       "      <th>creditcard</th>\n",
       "      <th>loyalty</th>\n",
       "      <th>estimated_salary</th>\n",
       "    </tr>\n",
       "    <tr>\n",
       "      <th>churn</th>\n",
       "      <th></th>\n",
       "      <th></th>\n",
       "      <th></th>\n",
       "      <th></th>\n",
       "      <th></th>\n",
       "      <th></th>\n",
       "      <th></th>\n",
       "      <th></th>\n",
       "    </tr>\n",
       "  </thead>\n",
       "  <tbody>\n",
       "    <tr>\n",
       "      <th>0</th>\n",
       "      <td>651.853196</td>\n",
       "      <td>37.408389</td>\n",
       "      <td>5.033279</td>\n",
       "      <td>119535.864270</td>\n",
       "      <td>1.544267</td>\n",
       "      <td>0.707146</td>\n",
       "      <td>0.554565</td>\n",
       "      <td>99738.391772</td>\n",
       "    </tr>\n",
       "    <tr>\n",
       "      <th>1</th>\n",
       "      <td>645.351497</td>\n",
       "      <td>44.837997</td>\n",
       "      <td>4.932744</td>\n",
       "      <td>120746.971132</td>\n",
       "      <td>1.475209</td>\n",
       "      <td>0.699067</td>\n",
       "      <td>0.360825</td>\n",
       "      <td>101465.677531</td>\n",
       "    </tr>\n",
       "  </tbody>\n",
       "</table>\n",
       "</div>"
      ],
      "text/plain": [
       "            score        age   objects        balance  products  creditcard  \\\n",
       "churn                                                                         \n",
       "0      651.853196  37.408389  5.033279  119535.864270  1.544267    0.707146   \n",
       "1      645.351497  44.837997  4.932744  120746.971132  1.475209    0.699067   \n",
       "\n",
       "        loyalty  estimated_salary  \n",
       "churn                              \n",
       "0      0.554565      99738.391772  \n",
       "1      0.360825     101465.677531  "
      ]
     },
     "execution_count": 19,
     "metadata": {},
     "output_type": "execute_result"
    }
   ],
   "source": [
    "df.groupby('churn').mean()"
   ]
  },
  {
   "cell_type": "markdown",
   "metadata": {},
   "source": [
    "Тут можно выделить, что **средний возраст ушедших выше чем тех кто остался**, примерно на 7 с лишним лет. Также ушедшие клиенты **менее активны**."
   ]
  },
  {
   "cell_type": "markdown",
   "metadata": {},
   "source": [
    "Здесь я столкнулся с проблемой наличия пропусков при попытке построить графики распределения признаков, так как библиотека <code>seaborn</code> не может построить гистограмму по такому столбцу, в отличии от метода <code>hist()</code> в <code>pandas</code>. В целом это не проблема, но я решил избавиться от пропусков. Сначала я поробовал использовать методы машинного обучения, но линейная регрессия и случайный лес предсказали, что все значения находятся в диапазоне от 115000 до 125000, что неестественно, хотя имеет смысл для той же линейной регрессии, ведь матрица корреляций показывает что линейная зависимость между <code>balance</code> и остальными столбцами отсутвует. Самое логичное тут считать что пропуски это нулевой баланс, ведь такое действиетльно может быть, это нормально для счетов клиентов, однако такие значение отсутвуют в таблице изначально. Видимо пропуски и подразумевают под собой 0.\n",
    "\n",
    "Для начала посмотрим как выглядит признак до обработки."
   ]
  },
  {
   "cell_type": "code",
   "execution_count": 20,
   "metadata": {},
   "outputs": [],
   "source": [
    "df = df.fillna(0)"
   ]
  },
  {
   "cell_type": "markdown",
   "metadata": {},
   "source": [
    "Теперь построим столбчатые диаграммы и распределения признаков для тех кто ушел и тех кто остался."
   ]
  },
  {
   "cell_type": "code",
   "execution_count": 21,
   "metadata": {
    "scrolled": false
   },
   "outputs": [
    {
     "data": {
      "image/png": "[encoded data removed]",
      "text/plain": [
       "<Figure size 504x288 with 1 Axes>"
      ]
     },
     "metadata": {
      "needs_background": "light"
     },
     "output_type": "display_data"
    },
    {
     "data": {
      "image/png": "[encoded data removed]",
      "text/plain": [
       "<Figure size 504x288 with 1 Axes>"
      ]
     },
     "metadata": {
      "needs_background": "light"
     },
     "output_type": "display_data"
    },
    {
     "data": {
      "image/png": "[encoded data removed]",
      "text/plain": [
       "<Figure size 504x288 with 1 Axes>"
      ]
     },
     "metadata": {
      "needs_background": "light"
     },
     "output_type": "display_data"
    },
    {
     "data": {
      "image/png": "[encoded data removed]",
      "text/plain": [
       "<Figure size 504x288 with 1 Axes>"
      ]
     },
     "metadata": {
      "needs_background": "light"
     },
     "output_type": "display_data"
    },
    {
     "data": {
      "image/png": "[encoded data removed]",
      "text/plain": [
       "<Figure size 504x288 with 1 Axes>"
      ]
     },
     "metadata": {
      "needs_background": "light"
     },
     "output_type": "display_data"
    },
    {
     "data": {
      "image/png": "[encoded data removed]",
      "text/plain": [
       "<Figure size 504x288 with 1 Axes>"
      ]
     },
     "metadata": {
      "needs_background": "light"
     },
     "output_type": "display_data"
    },
    {
     "data": {
      "image/png": "[encoded data removed]",
      "text/plain": [
       "<Figure size 504x288 with 1 Axes>"
      ]
     },
     "metadata": {
      "needs_background": "light"
     },
     "output_type": "display_data"
    },
    {
     "data": {
      "image/png": "[encoded data removed]",
      "text/plain": [
       "<Figure size 504x288 with 1 Axes>"
      ]
     },
     "metadata": {
      "needs_background": "light"
     },
     "output_type": "display_data"
    },
    {
     "data": {
      "image/png": "[encoded data removed]",
      "text/plain": [
       "<Figure size 504x288 with 1 Axes>"
      ]
     },
     "metadata": {
      "needs_background": "light"
     },
     "output_type": "display_data"
    },
    {
     "data": {
      "image/png": "[encoded data removed]",
      "text/plain": [
       "<Figure size 504x288 with 1 Axes>"
      ]
     },
     "metadata": {
      "needs_background": "light"
     },
     "output_type": "display_data"
    },
    {
     "data": {
      "image/png": "[encoded data removed]",
      "text/plain": [
       "<Figure size 504x288 with 1 Axes>"
      ]
     },
     "metadata": {
      "needs_background": "light"
     },
     "output_type": "display_data"
    }
   ],
   "source": [
    "for col in df.columns:\n",
    "    if len(df[col].unique()) > 11:\n",
    "        plt.figure(figsize=(7, 4))\n",
    "        sns.distplot(df.query('churn == 0')[col],color='g')\n",
    "        sns.distplot(df.query('churn == 1')[col], color='r')\n",
    "        plt.legend(labels = ('Остались', 'Ушли'), loc='upper right')\n",
    "        plt.title('Распределение для признака ' + col)\n",
    "        plt.show()\n",
    "    else:\n",
    "        plt.figure(figsize=(7, 4))\n",
    "        sns.countplot(x=col, hue='churn', data=df, palette='Set2')\n",
    "        plt.legend(labels = ('Остались', 'Ушли'), loc='upper right')\n",
    "        plt.title('Распределение для признака ' + col)\n",
    "        plt.show()"
   ]
  },
  {
   "cell_type": "markdown",
   "metadata": {},
   "source": [
    "Помимо уже упомянутого возраста и активности клиента мы можем увидеть, что люди проживающие в городе **1**, он же закодированный **Ростов Великий**, более склонны к уходу. Также разница видна разбивке по полу, на это надо будет посмореть по лучше. Как и на наличе продуктов у клиента, явно видно что ниболее лояльными клиентами являются те, кто имеет всего 2 продукта.\n",
    "\n",
    "Построим сводные таблицы по заинтересовавшим нас признакам и посчитав среднее по оттоку."
   ]
  },
  {
   "cell_type": "code",
   "execution_count": 22,
   "metadata": {},
   "outputs": [
    {
     "data": {
      "text/html": [
       "<div>\n",
       "<style scoped>\n",
       "    .dataframe tbody tr th:only-of-type {\n",
       "        vertical-align: middle;\n",
       "    }\n",
       "\n",
       "    .dataframe tbody tr th {\n",
       "        vertical-align: top;\n",
       "    }\n",
       "\n",
       "    .dataframe thead th {\n",
       "        text-align: right;\n",
       "    }\n",
       "</style>\n",
       "<table border=\"1\" class=\"dataframe\">\n",
       "  <thead>\n",
       "    <tr style=\"text-align: right;\">\n",
       "      <th></th>\n",
       "      <th>count</th>\n",
       "      <th>mean</th>\n",
       "    </tr>\n",
       "    <tr>\n",
       "      <th>city</th>\n",
       "      <th></th>\n",
       "      <th></th>\n",
       "    </tr>\n",
       "  </thead>\n",
       "  <tbody>\n",
       "    <tr>\n",
       "      <th>Ростов Великий</th>\n",
       "      <td>2509</td>\n",
       "      <td>0.324432</td>\n",
       "    </tr>\n",
       "    <tr>\n",
       "      <th>Рыбинск</th>\n",
       "      <td>2477</td>\n",
       "      <td>0.166734</td>\n",
       "    </tr>\n",
       "    <tr>\n",
       "      <th>Ярославль</th>\n",
       "      <td>5014</td>\n",
       "      <td>0.161548</td>\n",
       "    </tr>\n",
       "  </tbody>\n",
       "</table>\n",
       "</div>"
      ],
      "text/plain": [
       "                count      mean\n",
       "city                           \n",
       "Ростов Великий   2509  0.324432\n",
       "Рыбинск          2477  0.166734\n",
       "Ярославль        5014  0.161548"
      ]
     },
     "execution_count": 22,
     "metadata": {},
     "output_type": "execute_result"
    }
   ],
   "source": [
    "df.groupby('city')['churn'].agg(['count','mean'])"
   ]
  },
  {
   "cell_type": "markdown",
   "metadata": {},
   "source": [
    "Тут четко видно, что клиенты из **Ростова Великого уходят в 2 раза чаще** от банка, чем в других городах."
   ]
  },
  {
   "cell_type": "code",
   "execution_count": 23,
   "metadata": {},
   "outputs": [
    {
     "data": {
      "text/html": [
       "<div>\n",
       "<style scoped>\n",
       "    .dataframe tbody tr th:only-of-type {\n",
       "        vertical-align: middle;\n",
       "    }\n",
       "\n",
       "    .dataframe tbody tr th {\n",
       "        vertical-align: top;\n",
       "    }\n",
       "\n",
       "    .dataframe thead th {\n",
       "        text-align: right;\n",
       "    }\n",
       "</style>\n",
       "<table border=\"1\" class=\"dataframe\">\n",
       "  <thead>\n",
       "    <tr style=\"text-align: right;\">\n",
       "      <th></th>\n",
       "      <th>count</th>\n",
       "      <th>mean</th>\n",
       "    </tr>\n",
       "    <tr>\n",
       "      <th>gender</th>\n",
       "      <th></th>\n",
       "      <th></th>\n",
       "    </tr>\n",
       "  </thead>\n",
       "  <tbody>\n",
       "    <tr>\n",
       "      <th>Ж</th>\n",
       "      <td>4543</td>\n",
       "      <td>0.250715</td>\n",
       "    </tr>\n",
       "    <tr>\n",
       "      <th>М</th>\n",
       "      <td>5457</td>\n",
       "      <td>0.164559</td>\n",
       "    </tr>\n",
       "  </tbody>\n",
       "</table>\n",
       "</div>"
      ],
      "text/plain": [
       "        count      mean\n",
       "gender                 \n",
       "Ж        4543  0.250715\n",
       "М        5457  0.164559"
      ]
     },
     "execution_count": 23,
     "metadata": {},
     "output_type": "execute_result"
    }
   ],
   "source": [
    "df.groupby('gender')['churn'].agg(['count','mean'])"
   ]
  },
  {
   "cell_type": "markdown",
   "metadata": {},
   "source": [
    "Более сколнны к уходу **женщины**."
   ]
  },
  {
   "cell_type": "code",
   "execution_count": 24,
   "metadata": {},
   "outputs": [
    {
     "data": {
      "text/html": [
       "<div>\n",
       "<style scoped>\n",
       "    .dataframe tbody tr th:only-of-type {\n",
       "        vertical-align: middle;\n",
       "    }\n",
       "\n",
       "    .dataframe tbody tr th {\n",
       "        vertical-align: top;\n",
       "    }\n",
       "\n",
       "    .dataframe thead th {\n",
       "        text-align: right;\n",
       "    }\n",
       "</style>\n",
       "<table border=\"1\" class=\"dataframe\">\n",
       "  <thead>\n",
       "    <tr style=\"text-align: right;\">\n",
       "      <th></th>\n",
       "      <th>count</th>\n",
       "      <th>mean</th>\n",
       "    </tr>\n",
       "    <tr>\n",
       "      <th>products</th>\n",
       "      <th></th>\n",
       "      <th></th>\n",
       "    </tr>\n",
       "  </thead>\n",
       "  <tbody>\n",
       "    <tr>\n",
       "      <th>1</th>\n",
       "      <td>5084</td>\n",
       "      <td>0.277144</td>\n",
       "    </tr>\n",
       "    <tr>\n",
       "      <th>2</th>\n",
       "      <td>4590</td>\n",
       "      <td>0.075817</td>\n",
       "    </tr>\n",
       "    <tr>\n",
       "      <th>3</th>\n",
       "      <td>266</td>\n",
       "      <td>0.827068</td>\n",
       "    </tr>\n",
       "    <tr>\n",
       "      <th>4</th>\n",
       "      <td>60</td>\n",
       "      <td>1.000000</td>\n",
       "    </tr>\n",
       "  </tbody>\n",
       "</table>\n",
       "</div>"
      ],
      "text/plain": [
       "          count      mean\n",
       "products                 \n",
       "1          5084  0.277144\n",
       "2          4590  0.075817\n",
       "3           266  0.827068\n",
       "4            60  1.000000"
      ]
     },
     "execution_count": 24,
     "metadata": {},
     "output_type": "execute_result"
    }
   ],
   "source": [
    "df.groupby('products')['churn'].agg(['count','mean'])"
   ]
  },
  {
   "cell_type": "markdown",
   "metadata": {},
   "source": [
    "Тут самое любопытное. **Наличие 2 продуктов**, которыми пользуется клиент, **значительно снижает вероятность его ухода**, в сравеннии с всего одим продуктом. Но при этом если продуктов больше чем два, то клиент практически наверняка уйдет.\n",
    "\n",
    "Инетресно посмотерть как на распределения признаков влияет принадлежность к каждому из городов. Построим точно такие-же графики, но в разбивке по городу."
   ]
  },
  {
   "cell_type": "code",
   "execution_count": 19,
   "metadata": {
    "scrolled": false
   },
   "outputs": [
    {
     "data": {
      "image/png": "[encoded data removed]",
      "text/plain": [
       "<Figure size 504x288 with 1 Axes>"
      ]
     },
     "metadata": {
      "needs_background": "light"
     },
     "output_type": "display_data"
    },
    {
     "data": {
      "image/png": "[encoded data removed]",
      "text/plain": [
       "<Figure size 504x288 with 1 Axes>"
      ]
     },
     "metadata": {
      "needs_background": "light"
     },
     "output_type": "display_data"
    },
    {
     "data": {
      "image/png": "[encoded data removed]",
      "text/plain": [
       "<Figure size 504x288 with 1 Axes>"
      ]
     },
     "metadata": {
      "needs_background": "light"
     },
     "output_type": "display_data"
    },
    {
     "data": {
      "image/png": "[encoded data removed]",
      "text/plain": [
       "<Figure size 504x288 with 1 Axes>"
      ]
     },
     "metadata": {
      "needs_background": "light"
     },
     "output_type": "display_data"
    },
    {
     "data": {
      "image/png": "[encoded data removed]",
      "text/plain": [
       "<Figure size 504x288 with 1 Axes>"
      ]
     },
     "metadata": {
      "needs_background": "light"
     },
     "output_type": "display_data"
    },
    {
     "data": {
      "image/png": "[encoded data removed]",
      "text/plain": [
       "<Figure size 504x288 with 1 Axes>"
      ]
     },
     "metadata": {
      "needs_background": "light"
     },
     "output_type": "display_data"
    },
    {
     "data": {
      "image/png": "[encoded data removed]",
      "text/plain": [
       "<Figure size 504x288 with 1 Axes>"
      ]
     },
     "metadata": {
      "needs_background": "light"
     },
     "output_type": "display_data"
    },
    {
     "data": {
      "image/png": "[encoded data removed]",
      "text/plain": [
       "<Figure size 504x288 with 1 Axes>"
      ]
     },
     "metadata": {
      "needs_background": "light"
     },
     "output_type": "display_data"
    },
    {
     "data": {
      "image/png": "[encoded data removed]",
      "text/plain": [
       "<Figure size 504x288 with 1 Axes>"
      ]
     },
     "metadata": {
      "needs_background": "light"
     },
     "output_type": "display_data"
    },
    {
     "data": {
      "image/png": "[encoded data removed]",
      "text/plain": [
       "<Figure size 504x288 with 1 Axes>"
      ]
     },
     "metadata": {
      "needs_background": "light"
     },
     "output_type": "display_data"
    },
    {
     "data": {
      "image/png": "[encoded data removed]",
      "text/plain": [
       "<Figure size 504x288 with 1 Axes>"
      ]
     },
     "metadata": {
      "needs_background": "light"
     },
     "output_type": "display_data"
    }
   ],
   "source": [
    "for col in df.columns:\n",
    "    if len(df[col].unique()) > 11:\n",
    "        plt.figure(figsize=(7, 4))\n",
    "        sns.distplot(df.query('city == \"Ярославль\"')[col],color='g')\n",
    "        sns.distplot(df.query('city == \"Ростов Великий\"')[col], color='r')\n",
    "        sns.distplot(df.query('city == \"Рыбинск\"')[col], color='b')\n",
    "        plt.legend(labels = ('Ярославль', 'Ростов Великий', 'Рыбинск'))\n",
    "        plt.title('Распределение для признака ' + col)\n",
    "        plt.show()\n",
    "    else:\n",
    "        plt.figure(figsize=(7, 4))\n",
    "        sns.countplot(x=col, hue='city', data=df, palette='Set2')\n",
    "        plt.legend(labels = ('Ярославль', 'Ростов Великий', 'Рыбинск'))\n",
    "        plt.title('Распределение для признака ' + col)\n",
    "        plt.show()"
   ]
  },
  {
   "cell_type": "markdown",
   "metadata": {},
   "source": [
    "Здесь весьма интересное наблюдение. Мы заполнили все пропуки нулями, и на гистограмме видно, что у клиентов из Ростова Великого небыло ни одного пропуска. Объяснений такой аномалии у меня нет."
   ]
  },
  {
   "cell_type": "markdown",
   "metadata": {},
   "source": [
    "# Шаг 5. Выделение портретов пользовтаелей склонных к уходу. <a id=\"step5_0\"></a>"
   ]
  },
  {
   "cell_type": "markdown",
   "metadata": {},
   "source": [
    "Мы уже имеем некоторое представление о пользователях, посмотрим, сможем ли мы найти какие-либо инсайты используя методы машинного обучения. Да и в целом, раз цель исследования это выделение портрета клиентов склонных к уходу, то было бы полезно иметь предективную модель и выявлять клиентов склонных к уходу до того, как эти самые клиенты безвозвратно покинут банк."
   ]
  },
  {
   "cell_type": "markdown",
   "metadata": {},
   "source": [
    "Использую метод OneHotEncoder для обработки признаков город и пол."
   ]
  },
  {
   "cell_type": "code",
   "execution_count": 25,
   "metadata": {},
   "outputs": [],
   "source": [
    "df = pd.get_dummies(df, columns = df.columns[1:3])"
   ]
  },
  {
   "cell_type": "code",
   "execution_count": 26,
   "metadata": {},
   "outputs": [
    {
     "data": {
      "text/html": [
       "<div>\n",
       "<style scoped>\n",
       "    .dataframe tbody tr th:only-of-type {\n",
       "        vertical-align: middle;\n",
       "    }\n",
       "\n",
       "    .dataframe tbody tr th {\n",
       "        vertical-align: top;\n",
       "    }\n",
       "\n",
       "    .dataframe thead th {\n",
       "        text-align: right;\n",
       "    }\n",
       "</style>\n",
       "<table border=\"1\" class=\"dataframe\">\n",
       "  <thead>\n",
       "    <tr style=\"text-align: right;\">\n",
       "      <th></th>\n",
       "      <th>score</th>\n",
       "      <th>age</th>\n",
       "      <th>objects</th>\n",
       "      <th>balance</th>\n",
       "      <th>products</th>\n",
       "      <th>creditcard</th>\n",
       "      <th>loyalty</th>\n",
       "      <th>estimated_salary</th>\n",
       "      <th>churn</th>\n",
       "      <th>city_Ростов Великий</th>\n",
       "      <th>city_Рыбинск</th>\n",
       "      <th>city_Ярославль</th>\n",
       "      <th>gender_Ж</th>\n",
       "      <th>gender_М</th>\n",
       "    </tr>\n",
       "  </thead>\n",
       "  <tbody>\n",
       "    <tr>\n",
       "      <th>0</th>\n",
       "      <td>619</td>\n",
       "      <td>42</td>\n",
       "      <td>2</td>\n",
       "      <td>0.00</td>\n",
       "      <td>1</td>\n",
       "      <td>1</td>\n",
       "      <td>1</td>\n",
       "      <td>101348.88</td>\n",
       "      <td>1</td>\n",
       "      <td>0</td>\n",
       "      <td>0</td>\n",
       "      <td>1</td>\n",
       "      <td>1</td>\n",
       "      <td>0</td>\n",
       "    </tr>\n",
       "    <tr>\n",
       "      <th>1</th>\n",
       "      <td>608</td>\n",
       "      <td>41</td>\n",
       "      <td>1</td>\n",
       "      <td>83807.86</td>\n",
       "      <td>1</td>\n",
       "      <td>0</td>\n",
       "      <td>1</td>\n",
       "      <td>112542.58</td>\n",
       "      <td>0</td>\n",
       "      <td>0</td>\n",
       "      <td>1</td>\n",
       "      <td>0</td>\n",
       "      <td>1</td>\n",
       "      <td>0</td>\n",
       "    </tr>\n",
       "    <tr>\n",
       "      <th>2</th>\n",
       "      <td>502</td>\n",
       "      <td>42</td>\n",
       "      <td>8</td>\n",
       "      <td>159660.80</td>\n",
       "      <td>3</td>\n",
       "      <td>1</td>\n",
       "      <td>0</td>\n",
       "      <td>113931.57</td>\n",
       "      <td>1</td>\n",
       "      <td>0</td>\n",
       "      <td>0</td>\n",
       "      <td>1</td>\n",
       "      <td>1</td>\n",
       "      <td>0</td>\n",
       "    </tr>\n",
       "    <tr>\n",
       "      <th>3</th>\n",
       "      <td>699</td>\n",
       "      <td>39</td>\n",
       "      <td>1</td>\n",
       "      <td>0.00</td>\n",
       "      <td>2</td>\n",
       "      <td>0</td>\n",
       "      <td>0</td>\n",
       "      <td>93826.63</td>\n",
       "      <td>0</td>\n",
       "      <td>0</td>\n",
       "      <td>0</td>\n",
       "      <td>1</td>\n",
       "      <td>1</td>\n",
       "      <td>0</td>\n",
       "    </tr>\n",
       "    <tr>\n",
       "      <th>4</th>\n",
       "      <td>850</td>\n",
       "      <td>43</td>\n",
       "      <td>2</td>\n",
       "      <td>125510.82</td>\n",
       "      <td>1</td>\n",
       "      <td>1</td>\n",
       "      <td>1</td>\n",
       "      <td>79084.10</td>\n",
       "      <td>0</td>\n",
       "      <td>0</td>\n",
       "      <td>1</td>\n",
       "      <td>0</td>\n",
       "      <td>1</td>\n",
       "      <td>0</td>\n",
       "    </tr>\n",
       "  </tbody>\n",
       "</table>\n",
       "</div>"
      ],
      "text/plain": [
       "   score  age  objects    balance  products  creditcard  loyalty  \\\n",
       "0    619   42        2       0.00         1           1        1   \n",
       "1    608   41        1   83807.86         1           0        1   \n",
       "2    502   42        8  159660.80         3           1        0   \n",
       "3    699   39        1       0.00         2           0        0   \n",
       "4    850   43        2  125510.82         1           1        1   \n",
       "\n",
       "   estimated_salary  churn  city_Ростов Великий  city_Рыбинск  city_Ярославль  \\\n",
       "0         101348.88      1                    0             0               1   \n",
       "1         112542.58      0                    0             1               0   \n",
       "2         113931.57      1                    0             0               1   \n",
       "3          93826.63      0                    0             0               1   \n",
       "4          79084.10      0                    0             1               0   \n",
       "\n",
       "   gender_Ж  gender_М  \n",
       "0         1         0  \n",
       "1         1         0  \n",
       "2         1         0  \n",
       "3         1         0  \n",
       "4         1         0  "
      ]
     },
     "execution_count": 26,
     "metadata": {},
     "output_type": "execute_result"
    }
   ],
   "source": [
    "df.head()"
   ]
  },
  {
   "cell_type": "markdown",
   "metadata": {},
   "source": [
    "Разделим данные на обучающую и тестовую выборки."
   ]
  },
  {
   "cell_type": "code",
   "execution_count": 27,
   "metadata": {},
   "outputs": [],
   "source": [
    "X_train, X_test, y_train, y_test = train_test_split(df.drop('churn', axis = 1), df['churn'],\n",
    "                                                    test_size=0.2, stratify=df['churn'], random_state=8)"
   ]
  },
  {
   "cell_type": "markdown",
   "metadata": {},
   "source": [
    "Протестируем логистическую регрессию."
   ]
  },
  {
   "cell_type": "code",
   "execution_count": 23,
   "metadata": {},
   "outputs": [],
   "source": [
    "lg = LogisticRegression(solver='liblinear', random_state = 8)\n",
    "lg.fit(X_train, y_train)\n",
    "lg_pred = lg.predict(X_test)\n",
    "lg_proba = lg.predict_proba(X_test)[:,1]"
   ]
  },
  {
   "cell_type": "code",
   "execution_count": 24,
   "metadata": {},
   "outputs": [],
   "source": [
    "def print_all_metrics(y_true, y_pred, y_proba):\n",
    "    print('\\tAccuracy: {:.2f}'.format(accuracy_score(y_true, y_pred)))\n",
    "    print('\\tPrecision: {:.2f}'.format(precision_score(y_true, y_pred)))\n",
    "    print('\\tRecall: {:.2f}'.format(recall_score(y_true, y_pred)))\n",
    "    print('\\tF1: {:.2f}'.format(f1_score(y_true, y_pred)))\n",
    "    print('\\tROC_AUC: {:.2f}'.format(roc_auc_score(y_true, y_proba)))"
   ]
  },
  {
   "cell_type": "code",
   "execution_count": 25,
   "metadata": {},
   "outputs": [
    {
     "name": "stdout",
     "output_type": "stream",
     "text": [
      "\tAccuracy: 0.79\n",
      "\tPrecision: 0.38\n",
      "\tRecall: 0.05\n",
      "\tF1: 0.09\n",
      "\tROC_AUC: 0.65\n"
     ]
    }
   ],
   "source": [
    "print_all_metrics(y_test, lg_pred, lg_proba)"
   ]
  },
  {
   "cell_type": "markdown",
   "metadata": {},
   "source": [
    "Все показатели оказались очень плохими."
   ]
  },
  {
   "cell_type": "markdown",
   "metadata": {},
   "source": [
    "Попробуем, что покажет случайны лес.\n",
    "\n",
    "Я закомментировал следующие 2 ячейки, что бы они не запускались каждый раз при запуске ноутбука."
   ]
  },
  {
   "cell_type": "code",
   "execution_count": 26,
   "metadata": {},
   "outputs": [
    {
     "data": {
      "text/plain": [
       "\"rfc = RandomForestClassifier(random_state = 0)\\nparams = {\\n    'n_estimators': np.arange(100,501,50),\\n    'max_depth': np.arange(5, 16)\\n}\\ngs = GridSearchCV(rfc, params, 'f1', cv=5)\\ngs.fit(X_train,y_train)\""
      ]
     },
     "execution_count": 26,
     "metadata": {},
     "output_type": "execute_result"
    }
   ],
   "source": [
    "\"\"\"rfc = RandomForestClassifier(random_state = 0)\n",
    "params = {\n",
    "    'n_estimators': np.arange(100,501,50),\n",
    "    'max_depth': np.arange(5, 16)\n",
    "}\n",
    "gs = GridSearchCV(rfc, params, 'f1', cv=5)\n",
    "gs.fit(X_train,y_train)\"\"\""
   ]
  },
  {
   "cell_type": "code",
   "execution_count": 27,
   "metadata": {},
   "outputs": [
    {
     "data": {
      "text/plain": [
       "'gs.best_score_, gs.best_params_'"
      ]
     },
     "execution_count": 27,
     "metadata": {},
     "output_type": "execute_result"
    }
   ],
   "source": [
    "\"\"\"gs.best_score_, gs.best_params_\"\"\""
   ]
  },
  {
   "cell_type": "code",
   "execution_count": 28,
   "metadata": {},
   "outputs": [
    {
     "name": "stdout",
     "output_type": "stream",
     "text": [
      "\tAccuracy: 0.86\n",
      "\tPrecision: 0.79\n",
      "\tRecall: 0.44\n",
      "\tF1: 0.57\n",
      "\tROC_AUC: 0.86\n"
     ]
    }
   ],
   "source": [
    "rfc = RandomForestClassifier(n_estimators = 250, max_depth = 15, random_state = 0)\n",
    "rfc.fit(X_train, y_train)\n",
    "rfc_pred = rfc.predict(X_test)\n",
    "rfc_proba = rfc.predict_proba(X_test)[:,1]\n",
    "print_all_metrics(y_test, rfc_pred, rfc_proba)"
   ]
  },
  {
   "cell_type": "code",
   "execution_count": 29,
   "metadata": {},
   "outputs": [
    {
     "name": "stdout",
     "output_type": "stream",
     "text": [
      "                     importance\n",
      "feature                        \n",
      "age                       0.252\n",
      "products                  0.142\n",
      "balance                   0.136\n",
      "score                     0.134\n",
      "estimated_salary          0.133\n",
      "objects                   0.078\n",
      "loyalty                   0.044\n",
      "city_Ростов Великий       0.022\n",
      "creditcard                0.018\n",
      "city_Рыбинск              0.010\n",
      "city_Ярославль            0.010\n",
      "gender_Ж                  0.010\n",
      "gender_М                  0.009\n"
     ]
    }
   ],
   "source": [
    "importances = pd.DataFrame({'feature':X_train.columns,'importance':np.round(rfc.feature_importances_,3)})\n",
    "importances = importances.sort_values('importance',ascending=False).set_index('feature')\n",
    "print(importances)"
   ]
  },
  {
   "cell_type": "markdown",
   "metadata": {},
   "source": [
    "Для леса самым важным признаком, влияющим на отток, оказался возраст клиентов, к сожалению это для нас не новость, мы это обнаружили на этапе исследовательского анализа."
   ]
  },
  {
   "cell_type": "markdown",
   "metadata": {},
   "source": [
    "# Шаг 6. Формулирование и проверка статистических гипотез. <a id=\"step6_0\"></a>\n",
    "\n",
    "Первая гипотеза, которую нам необходимо проверить, это различие в доходе между ушедшими клиентами, и теми, которые остались.\n",
    "\n",
    "Сформулируем саму гипотезу:\n",
    "\n",
    "Нулевая гипотеза **H0**: распределение дохода ушедших и распределении дохода оставшихся **одинаково**\n",
    "\n",
    "Альтернативня гипотеза **H1**:  распределение доход двух групп **неодинаково**\n",
    "\n",
    "Критическим уровнем статистической значимости для нашего теста будем считать = **0.05.**\n",
    "\n",
    "Для начала проверим распределения на нормальность, хотя по построенному графику вов ремя исследовательского анализа и так видно что оно не нормально. Удобнее всего построить график qq plot и посмотреть глазами."
   ]
  },
  {
   "cell_type": "code",
   "execution_count": 30,
   "metadata": {},
   "outputs": [],
   "source": [
    "churn_estimated_salary = df.query('churn == \"1\"')['estimated_salary']\n",
    "no_churn_estimated_salary = df.query('churn == \"0\"')['estimated_salary']"
   ]
  },
  {
   "cell_type": "code",
   "execution_count": 31,
   "metadata": {},
   "outputs": [
    {
     "data": {
      "image/png": "[encoded data removed]",
      "text/plain": [
       "<Figure size 432x288 with 1 Axes>"
      ]
     },
     "metadata": {
      "needs_background": "light"
     },
     "output_type": "display_data"
    }
   ],
   "source": [
    "from statsmodels.graphics.gofplots import qqplot\n",
    "qqplot(churn_estimated_salary, line='s')\n",
    "plt.show()"
   ]
  },
  {
   "cell_type": "code",
   "execution_count": 32,
   "metadata": {},
   "outputs": [
    {
     "data": {
      "image/png": "[encoded data removed]",
      "text/plain": [
       "<Figure size 432x288 with 1 Axes>"
      ]
     },
     "metadata": {
      "needs_background": "light"
     },
     "output_type": "display_data"
    }
   ],
   "source": [
    "qqplot(no_churn_estimated_salary, line='s')\n",
    "plt.show()"
   ]
  },
  {
   "cell_type": "markdown",
   "metadata": {},
   "source": [
    "Распределение не нормальное, будем использовать критерий Манна-Уитни для проверки гипотезы."
   ]
  },
  {
   "cell_type": "code",
   "execution_count": 33,
   "metadata": {},
   "outputs": [
    {
     "name": "stdout",
     "output_type": "stream",
     "text": [
      "p-значение:  0.11352575465076892\n",
      "Не получилось отвергнуть нулевую гипотезу. Распределение двух групп одинаково\n"
     ]
    }
   ],
   "source": [
    "alpha = .05 # уровень статистической значимости\n",
    "results = st.mannwhitneyu(churn_estimated_salary, no_churn_estimated_salary)\n",
    "\n",
    "print('p-значение: ', results.pvalue)\n",
    "if (results.pvalue < alpha):\n",
    "    print('Отвергаем нулевую гипотезу. Распределение двух групп неодинаково')\n",
    "else:\n",
    "    print('Не получилось отвергнуть нулевую гипотезу. Распределение двух групп одинаково')"
   ]
  },
  {
   "cell_type": "markdown",
   "metadata": {},
   "source": [
    "Следующий статистический тест, который я хотел бы проверить, касается распределения баллов кредитного скоринга, есть ли разница между ушедшими и теми, кто остался. Так по графику, построенному во время исследовательского анализа особой разница не видно.\n"
   ]
  },
  {
   "cell_type": "code",
   "execution_count": 34,
   "metadata": {},
   "outputs": [],
   "source": [
    "churn_score = df.query('churn == \"1\"')['score']\n",
    "no_churn_score = df.query('churn == \"0\"')['score']"
   ]
  },
  {
   "cell_type": "code",
   "execution_count": 35,
   "metadata": {},
   "outputs": [
    {
     "data": {
      "image/png": "[encoded data removed]",
      "text/plain": [
       "<Figure size 432x288 with 1 Axes>"
      ]
     },
     "metadata": {
      "needs_background": "light"
     },
     "output_type": "display_data"
    }
   ],
   "source": [
    "qqplot(churn_score, line='s')\n",
    "plt.show()"
   ]
  },
  {
   "cell_type": "code",
   "execution_count": 36,
   "metadata": {},
   "outputs": [
    {
     "data": {
      "image/png": "[encoded data removed]",
      "text/plain": [
       "<Figure size 432x288 with 1 Axes>"
      ]
     },
     "metadata": {
      "needs_background": "light"
     },
     "output_type": "display_data"
    }
   ],
   "source": [
    "qqplot(no_churn_score, line='s')\n",
    "plt.show()"
   ]
  },
  {
   "cell_type": "markdown",
   "metadata": {},
   "source": [
    "Так же будем использовать критерий Манна-Уитни для проверки гипотезы.\n",
    "\n",
    "Нулевая гипотеза **H0**: распределение баллов кредитного скоринга ушедших и распределение баллов кредитного скоринга оставшихся **одинаково**\n",
    "\n",
    "Альтернативня гипотеза **H1**:  распределение баллов кредитного скоринга двух групп **неодинаково**\n",
    "\n",
    "Критическим уровнем статистической значимости для нашего теста так же будем считать = **0.05.**"
   ]
  },
  {
   "cell_type": "code",
   "execution_count": 37,
   "metadata": {},
   "outputs": [
    {
     "name": "stdout",
     "output_type": "stream",
     "text": [
      "Средний балл кредитного скоринга ушедших = 645.3514972999509\n",
      "Средний балл кредитного скоринга оставшихся = 651.8531960316463\n",
      "p-значение:  0.00993433058636417\n",
      "Отвергаем нулевую гипотезу. Распределение двух групп неодинаково\n"
     ]
    }
   ],
   "source": [
    "alpha = .05 # уровень статистической значимости\n",
    "results = st.mannwhitneyu(churn_score, no_churn_score)\n",
    "\n",
    "print(f'Средний балл кредитного скоринга ушедших = {churn_score.mean()}')\n",
    "print(f'Средний балл кредитного скоринга оставшихся = {no_churn_score.mean()}')\n",
    "\n",
    "print('p-значение: ', results.pvalue)\n",
    "if (results.pvalue < alpha):\n",
    "    print('Отвергаем нулевую гипотезу. Распределение двух групп неодинаково')\n",
    "else:\n",
    "    print('Не получилось отвергнуть нулевую гипотезу. Распределение двух групп одинаково')"
   ]
  },
  {
   "cell_type": "markdown",
   "metadata": {},
   "source": [
    "Распределение баллов кредитного скоринга в двух группах **имеет статистически значимые различия**."
   ]
  },
  {
   "cell_type": "markdown",
   "metadata": {},
   "source": [
    "# Шаг 7. Итоговые выводы и рекомендации. <a id=\"step7_0\"></a>"
   ]
  },
  {
   "cell_type": "markdown",
   "metadata": {},
   "source": [
    "**Мы проанализировали клиентов регионального банка, и в целом можно сделать следующие выводы о портрете клиентов склонных уходить из банка:**\n",
    "\n",
    "- Средний возраст клиентов, склонных к уходу, выше среднего возраста оставшихся. В целом это логично, старшее поколение обычно более консервативно, чем молодое, и реже склонно к изменениям. Возможно стоит проанализировать продукты и услуги банков-конкуретнов, посомтреть в чем отличия, и что у них может привлекать более молодых клиентов и перенять некоторыхе продукты/услуги.\n",
    "\n",
    "\n",
    "- Ушедшие клиенты оказывались менее активными, что тоже инутитивно очевидно. Стоит перодически напоминать клиентам о своем существовании, например делать клиентам смс-расслыки или push-уведомления в онлайн-банке при появлении каких-либо новых услуг или изменении текущих условий на более выгодные, таких как повышение процентных ставок по вкладу, или понижении ставки по кредиту.\n",
    "\n",
    "\n",
    "- Следует обратить внимание, что клиенты из Ростова Великого в два раза чаще покидают банк, чем клиенты из оставшихся городов. Как это может быть связано с тем, что у этих клентов изначально отсутсвуют пропущенные значения в столбце \"баланс по счету\" сказать сложно. Возможно тут стоит разузнать у тех, кто данные для нас собрал и предоставил. Но связь тут определенно есть.\n",
    "\n",
    "\n",
    "- Если клиентов поделить по половому признаку, то женщины более склонны покидать банк. Тут сложно дать какие-либо рекомендации, возможно для них название банка звучит слишком брутально?:)\n",
    "\n",
    "\n",
    "- Еще одним важным признаком, влияющим на отток клиентов, является количество продуктов, которыми они пользуются. Если у клента больее двух продуков, то он практически наверняка покинет банк. Самым лучшим вариантов является наличие 2 продуктов, тогда процент ухода составляет всего 8%, тогда как при наличии всего 1 продукта этот процент возрастает до 28%, разница весьма большая. Тут тоже можно рекомендовать делать рассылку клиентам всего с одним продуктом,  какие-либо индивидуальные условия на новые продукты для уже действующих клиентов банка. Но ни в коем случае не далать такие предложения клиентам с 2 и более продуктами, т.к. имея всего 3 продукта 83% клиентов покидают банк, а при наличии 4-х 100% уйдет."
   ]
  },
  {
   "cell_type": "markdown",
   "metadata": {},
   "source": [
    "# Шаг 8. Презентация для заказчика. <a id=\"step8_0\"></a>\n",
    "[Презентация](https://docs.google.com/presentation/d/1tA73v21xkMXQuyFqLLaP__fXBv8erDewXs_4gj-n3Zw/edit?usp=sharing) "
   ]
  }
 ],
 "metadata": {
  "ExecuteTimeLog": [
   {
    "duration": 1554,
    "start_time": "2021-09-07T15:52:58.082Z"
   },
   {
    "duration": 496,
    "start_time": "2021-09-07T15:53:47.266Z"
   },
   {
    "duration": 2736,
    "start_time": "2021-09-07T15:53:57.348Z"
   },
   {
    "duration": 67,
    "start_time": "2021-09-07T15:54:44.762Z"
   },
   {
    "duration": 30,
    "start_time": "2021-09-07T15:54:50.698Z"
   },
   {
    "duration": 15,
    "start_time": "2021-09-07T15:57:40.066Z"
   },
   {
    "duration": 15,
    "start_time": "2021-09-07T16:16:58.037Z"
   },
   {
    "duration": 16,
    "start_time": "2021-09-07T16:17:00.857Z"
   },
   {
    "duration": 13,
    "start_time": "2021-09-07T16:17:56.570Z"
   },
   {
    "duration": 3,
    "start_time": "2021-09-07T16:20:08.573Z"
   },
   {
    "duration": 17,
    "start_time": "2021-09-07T16:22:18.762Z"
   },
   {
    "duration": 16,
    "start_time": "2021-09-07T16:22:24.299Z"
   },
   {
    "duration": 22,
    "start_time": "2021-09-07T16:24:51.319Z"
   },
   {
    "duration": 460,
    "start_time": "2021-09-07T16:25:19.340Z"
   },
   {
    "duration": 524,
    "start_time": "2021-09-07T16:25:26.424Z"
   },
   {
    "duration": 55829,
    "start_time": "2021-09-07T16:33:08.640Z"
   },
   {
    "duration": 144,
    "start_time": "2021-09-07T16:38:19.929Z"
   },
   {
    "duration": 354,
    "start_time": "2021-09-07T16:38:33.221Z"
   },
   {
    "duration": 10472,
    "start_time": "2021-09-07T16:38:38.985Z"
   },
   {
    "duration": 18,
    "start_time": "2021-09-07T16:39:04.816Z"
   },
   {
    "duration": 757,
    "start_time": "2021-09-07T16:39:34.211Z"
   },
   {
    "duration": 1280,
    "start_time": "2021-09-07T16:39:49.990Z"
   },
   {
    "duration": 790,
    "start_time": "2021-09-07T16:40:11.218Z"
   },
   {
    "duration": 1134,
    "start_time": "2021-09-07T16:58:46.359Z"
   },
   {
    "duration": 2671,
    "start_time": "2021-09-07T16:59:40.353Z"
   },
   {
    "duration": 2444,
    "start_time": "2021-09-07T17:00:36.881Z"
   },
   {
    "duration": 103,
    "start_time": "2021-09-07T17:01:07.398Z"
   },
   {
    "duration": 1391,
    "start_time": "2021-09-07T17:01:14.263Z"
   },
   {
    "duration": 2393,
    "start_time": "2021-09-07T17:01:40.585Z"
   },
   {
    "duration": 2449,
    "start_time": "2021-09-07T17:02:13.097Z"
   },
   {
    "duration": 494,
    "start_time": "2021-09-07T17:03:11.263Z"
   },
   {
    "duration": 16,
    "start_time": "2021-09-07T17:25:31.390Z"
   },
   {
    "duration": 24,
    "start_time": "2021-09-07T17:25:37.685Z"
   },
   {
    "duration": 746,
    "start_time": "2021-09-07T17:25:46.845Z"
   },
   {
    "duration": 1102,
    "start_time": "2021-09-07T17:38:21.455Z"
   },
   {
    "duration": 88,
    "start_time": "2021-09-07T17:39:30.467Z"
   },
   {
    "duration": 389,
    "start_time": "2021-09-07T17:40:34.232Z"
   },
   {
    "duration": 9,
    "start_time": "2021-09-07T17:40:39.009Z"
   },
   {
    "duration": 8,
    "start_time": "2021-09-07T17:40:43.405Z"
   },
   {
    "duration": 8,
    "start_time": "2021-09-07T17:51:36.680Z"
   },
   {
    "duration": 8,
    "start_time": "2021-09-07T17:51:52.841Z"
   },
   {
    "duration": 363,
    "start_time": "2021-09-07T17:52:23.705Z"
   },
   {
    "duration": 8,
    "start_time": "2021-09-07T17:53:25.692Z"
   },
   {
    "duration": 1016,
    "start_time": "2021-09-07T17:53:30.516Z"
   },
   {
    "duration": 1140,
    "start_time": "2021-09-07T17:53:41.784Z"
   },
   {
    "duration": 851,
    "start_time": "2021-09-07T17:53:48.502Z"
   },
   {
    "duration": 11,
    "start_time": "2021-09-07T18:00:19.746Z"
   },
   {
    "duration": 338,
    "start_time": "2021-09-07T18:04:51.438Z"
   },
   {
    "duration": 9,
    "start_time": "2021-09-07T18:10:43.007Z"
   },
   {
    "duration": 863,
    "start_time": "2021-09-07T18:10:44.689Z"
   },
   {
    "duration": 26,
    "start_time": "2021-09-07T18:11:11.687Z"
   },
   {
    "duration": 29,
    "start_time": "2021-09-07T18:11:37.043Z"
   },
   {
    "duration": 18,
    "start_time": "2021-09-07T18:11:37.569Z"
   },
   {
    "duration": 11,
    "start_time": "2021-09-07T18:11:38.670Z"
   },
   {
    "duration": 4,
    "start_time": "2021-09-07T18:11:39.508Z"
   },
   {
    "duration": 15,
    "start_time": "2021-09-07T18:11:39.812Z"
   },
   {
    "duration": 8,
    "start_time": "2021-09-07T18:11:40.234Z"
   },
   {
    "duration": 6,
    "start_time": "2021-09-07T18:11:40.683Z"
   },
   {
    "duration": 9,
    "start_time": "2021-09-07T18:11:41.564Z"
   },
   {
    "duration": 24,
    "start_time": "2021-09-07T18:11:42.532Z"
   },
   {
    "duration": 1104,
    "start_time": "2021-09-07T18:11:50.155Z"
   },
   {
    "duration": 19,
    "start_time": "2021-09-07T18:18:55.735Z"
   },
   {
    "duration": 60,
    "start_time": "2021-09-07T18:42:13.022Z"
   },
   {
    "duration": 19,
    "start_time": "2021-09-07T18:44:22.469Z"
   },
   {
    "duration": 5,
    "start_time": "2021-09-07T18:45:36.639Z"
   },
   {
    "duration": 6,
    "start_time": "2021-09-07T18:46:10.659Z"
   },
   {
    "duration": 88,
    "start_time": "2021-09-07T18:46:46.145Z"
   },
   {
    "duration": 108,
    "start_time": "2021-09-07T18:46:51.040Z"
   },
   {
    "duration": 96,
    "start_time": "2021-09-07T18:47:00.565Z"
   },
   {
    "duration": 89,
    "start_time": "2021-09-07T18:47:19.349Z"
   },
   {
    "duration": 84,
    "start_time": "2021-09-07T18:47:22.969Z"
   },
   {
    "duration": 21,
    "start_time": "2021-09-07T18:54:36.904Z"
   },
   {
    "duration": 5,
    "start_time": "2021-09-07T18:56:59.052Z"
   },
   {
    "duration": 2480,
    "start_time": "2021-09-07T19:02:26.505Z"
   },
   {
    "duration": 5542,
    "start_time": "2021-09-07T19:03:41.719Z"
   },
   {
    "duration": 5175,
    "start_time": "2021-09-07T19:03:59.154Z"
   },
   {
    "duration": 10,
    "start_time": "2021-09-07T19:25:07.156Z"
   },
   {
    "duration": 5,
    "start_time": "2021-09-07T19:34:46.407Z"
   },
   {
    "duration": 5,
    "start_time": "2021-09-07T19:36:53.175Z"
   },
   {
    "duration": 617,
    "start_time": "2021-09-07T19:37:42.948Z"
   },
   {
    "duration": 6,
    "start_time": "2021-09-07T19:39:47.519Z"
   },
   {
    "duration": 12,
    "start_time": "2021-09-07T19:40:01.435Z"
   },
   {
    "duration": 33,
    "start_time": "2021-09-07T19:40:08.675Z"
   },
   {
    "duration": 24,
    "start_time": "2021-09-07T19:40:58.349Z"
   },
   {
    "duration": 7866,
    "start_time": "2021-09-07T19:43:41.479Z"
   },
   {
    "duration": 329,
    "start_time": "2021-09-07T20:05:13.693Z"
   },
   {
    "duration": 427,
    "start_time": "2021-09-07T20:06:24.775Z"
   },
   {
    "duration": 404,
    "start_time": "2021-09-07T20:08:01.889Z"
   },
   {
    "duration": 40,
    "start_time": "2021-09-07T20:08:11.346Z"
   },
   {
    "duration": 24,
    "start_time": "2021-09-07T20:08:29.539Z"
   },
   {
    "duration": 29,
    "start_time": "2021-09-07T20:08:47.703Z"
   },
   {
    "duration": 17,
    "start_time": "2021-09-07T20:08:48.158Z"
   },
   {
    "duration": 11,
    "start_time": "2021-09-07T20:08:48.997Z"
   },
   {
    "duration": 4,
    "start_time": "2021-09-07T20:08:49.620Z"
   },
   {
    "duration": 15,
    "start_time": "2021-09-07T20:08:49.962Z"
   },
   {
    "duration": 7,
    "start_time": "2021-09-07T20:08:50.120Z"
   },
   {
    "duration": 5,
    "start_time": "2021-09-07T20:08:50.377Z"
   },
   {
    "duration": 21,
    "start_time": "2021-09-07T20:08:51.015Z"
   },
   {
    "duration": 59,
    "start_time": "2021-09-07T20:08:51.598Z"
   },
   {
    "duration": 1160,
    "start_time": "2021-09-07T20:08:52.144Z"
   },
   {
    "duration": 6,
    "start_time": "2021-09-07T20:08:55.970Z"
   },
   {
    "duration": 20,
    "start_time": "2021-09-07T20:08:56.739Z"
   },
   {
    "duration": 548,
    "start_time": "2021-09-07T20:09:33.756Z"
   },
   {
    "duration": 504,
    "start_time": "2021-09-07T20:09:40.512Z"
   },
   {
    "duration": 99,
    "start_time": "2021-09-07T20:12:01.609Z"
   },
   {
    "duration": 170,
    "start_time": "2021-09-07T20:12:14.022Z"
   },
   {
    "duration": 545,
    "start_time": "2021-09-07T20:12:26.925Z"
   },
   {
    "duration": 64,
    "start_time": "2021-09-07T20:12:53.557Z"
   },
   {
    "duration": 448,
    "start_time": "2021-09-07T20:13:44.149Z"
   },
   {
    "duration": 29,
    "start_time": "2021-09-07T20:14:03.873Z"
   },
   {
    "duration": 16,
    "start_time": "2021-09-07T20:14:04.305Z"
   },
   {
    "duration": 11,
    "start_time": "2021-09-07T20:14:05.010Z"
   },
   {
    "duration": 4,
    "start_time": "2021-09-07T20:14:05.346Z"
   },
   {
    "duration": 16,
    "start_time": "2021-09-07T20:14:05.535Z"
   },
   {
    "duration": 8,
    "start_time": "2021-09-07T20:14:05.814Z"
   },
   {
    "duration": 6,
    "start_time": "2021-09-07T20:14:07.520Z"
   },
   {
    "duration": 10,
    "start_time": "2021-09-07T20:14:07.529Z"
   },
   {
    "duration": 56,
    "start_time": "2021-09-07T20:14:07.542Z"
   },
   {
    "duration": 1014,
    "start_time": "2021-09-07T20:14:07.601Z"
   },
   {
    "duration": 6,
    "start_time": "2021-09-07T20:14:09.956Z"
   },
   {
    "duration": 21,
    "start_time": "2021-09-07T20:14:10.650Z"
   },
   {
    "duration": 27,
    "start_time": "2021-09-07T20:14:12.040Z"
   },
   {
    "duration": 64,
    "start_time": "2021-09-07T20:14:12.826Z"
   },
   {
    "duration": 60,
    "start_time": "2021-09-07T20:14:25.391Z"
   },
   {
    "duration": 565,
    "start_time": "2021-09-07T20:14:41.606Z"
   },
   {
    "duration": 31,
    "start_time": "2021-09-07T20:16:51.580Z"
   },
   {
    "duration": 17,
    "start_time": "2021-09-07T20:16:51.902Z"
   },
   {
    "duration": 22,
    "start_time": "2021-09-07T20:16:52.411Z"
   },
   {
    "duration": 9,
    "start_time": "2021-09-07T20:16:52.789Z"
   },
   {
    "duration": 16,
    "start_time": "2021-09-07T20:16:53.107Z"
   },
   {
    "duration": 8,
    "start_time": "2021-09-07T20:16:53.300Z"
   },
   {
    "duration": 6,
    "start_time": "2021-09-07T20:16:53.562Z"
   },
   {
    "duration": 10,
    "start_time": "2021-09-07T20:16:53.731Z"
   },
   {
    "duration": 62,
    "start_time": "2021-09-07T20:16:54.202Z"
   },
   {
    "duration": 1100,
    "start_time": "2021-09-07T20:16:54.496Z"
   },
   {
    "duration": 6,
    "start_time": "2021-09-07T20:16:56.638Z"
   },
   {
    "duration": 21,
    "start_time": "2021-09-07T20:16:57.453Z"
   },
   {
    "duration": 25,
    "start_time": "2021-09-07T20:17:03.794Z"
   },
   {
    "duration": 160,
    "start_time": "2021-09-07T20:17:05.241Z"
   },
   {
    "duration": 62,
    "start_time": "2021-09-07T20:17:19.555Z"
   },
   {
    "duration": 654,
    "start_time": "2021-09-07T20:17:23.303Z"
   },
   {
    "duration": 6,
    "start_time": "2021-09-07T20:19:22.669Z"
   },
   {
    "duration": 5,
    "start_time": "2021-09-07T20:20:23.111Z"
   },
   {
    "duration": 6,
    "start_time": "2021-09-07T20:20:27.864Z"
   },
   {
    "duration": 6,
    "start_time": "2021-09-07T20:20:33.662Z"
   },
   {
    "duration": 4382,
    "start_time": "2021-09-07T20:24:42.589Z"
   },
   {
    "duration": 7,
    "start_time": "2021-09-07T20:31:03.207Z"
   },
   {
    "duration": 12,
    "start_time": "2021-09-07T20:32:56.610Z"
   },
   {
    "duration": 16,
    "start_time": "2021-09-07T20:33:03.120Z"
   },
   {
    "duration": 1113,
    "start_time": "2021-09-07T20:35:08.623Z"
   },
   {
    "duration": 29,
    "start_time": "2021-09-07T20:54:52.147Z"
   },
   {
    "duration": 30,
    "start_time": "2021-09-07T20:54:54.089Z"
   },
   {
    "duration": 17,
    "start_time": "2021-09-07T20:54:54.416Z"
   },
   {
    "duration": 11,
    "start_time": "2021-09-07T20:54:55.190Z"
   },
   {
    "duration": 3,
    "start_time": "2021-09-07T20:54:55.835Z"
   },
   {
    "duration": 15,
    "start_time": "2021-09-07T20:54:56.098Z"
   },
   {
    "duration": 8,
    "start_time": "2021-09-07T20:54:56.240Z"
   },
   {
    "duration": 5,
    "start_time": "2021-09-07T20:54:56.358Z"
   },
   {
    "duration": 10,
    "start_time": "2021-09-07T20:54:56.472Z"
   },
   {
    "duration": 55,
    "start_time": "2021-09-07T20:54:56.613Z"
   },
   {
    "duration": 1115,
    "start_time": "2021-09-07T20:54:57.173Z"
   },
   {
    "duration": 5,
    "start_time": "2021-09-07T20:54:58.291Z"
   },
   {
    "duration": 20,
    "start_time": "2021-09-07T20:54:58.721Z"
   },
   {
    "duration": 24,
    "start_time": "2021-09-07T20:55:00.315Z"
   },
   {
    "duration": 113,
    "start_time": "2021-09-07T20:55:01.377Z"
   },
   {
    "duration": 17,
    "start_time": "2021-09-07T20:55:04.135Z"
   },
   {
    "duration": 1125,
    "start_time": "2021-09-07T20:55:12.031Z"
   },
   {
    "duration": 875,
    "start_time": "2021-09-07T20:55:19.018Z"
   },
   {
    "duration": 56,
    "start_time": "2021-09-07T20:55:20.642Z"
   },
   {
    "duration": 5,
    "start_time": "2021-09-07T20:56:20.177Z"
   },
   {
    "duration": 6,
    "start_time": "2021-09-07T21:05:21.391Z"
   },
   {
    "duration": 4,
    "start_time": "2021-09-07T21:06:13.941Z"
   },
   {
    "duration": 28,
    "start_time": "2021-09-07T21:07:25.090Z"
   },
   {
    "duration": 18,
    "start_time": "2021-09-07T21:07:25.480Z"
   },
   {
    "duration": 12,
    "start_time": "2021-09-07T21:07:26.208Z"
   },
   {
    "duration": 4,
    "start_time": "2021-09-07T21:07:26.728Z"
   },
   {
    "duration": 16,
    "start_time": "2021-09-07T21:07:27.065Z"
   },
   {
    "duration": 8,
    "start_time": "2021-09-07T21:07:27.215Z"
   },
   {
    "duration": 6,
    "start_time": "2021-09-07T21:07:27.362Z"
   },
   {
    "duration": 9,
    "start_time": "2021-09-07T21:07:27.568Z"
   },
   {
    "duration": 57,
    "start_time": "2021-09-07T21:07:27.751Z"
   },
   {
    "duration": 1047,
    "start_time": "2021-09-07T21:07:28.315Z"
   },
   {
    "duration": 6,
    "start_time": "2021-09-07T21:07:30.205Z"
   },
   {
    "duration": 21,
    "start_time": "2021-09-07T21:07:31.232Z"
   },
   {
    "duration": 25,
    "start_time": "2021-09-07T21:07:33.578Z"
   },
   {
    "duration": 314,
    "start_time": "2021-09-07T21:08:03.713Z"
   },
   {
    "duration": 56,
    "start_time": "2021-09-07T21:08:22.248Z"
   },
   {
    "duration": 484,
    "start_time": "2021-09-07T21:08:25.747Z"
   },
   {
    "duration": 369,
    "start_time": "2021-09-07T21:14:08.339Z"
   },
   {
    "duration": 5,
    "start_time": "2021-09-07T21:14:14.683Z"
   },
   {
    "duration": 362,
    "start_time": "2021-09-07T21:14:20.940Z"
   },
   {
    "duration": 5,
    "start_time": "2021-09-07T21:17:51.525Z"
   },
   {
    "duration": 374,
    "start_time": "2021-09-07T21:17:58.965Z"
   },
   {
    "duration": 309,
    "start_time": "2021-09-07T21:18:07.289Z"
   },
   {
    "duration": 2204132,
    "start_time": "2021-09-07T21:20:54.920Z"
   },
   {
    "duration": 6,
    "start_time": "2021-09-07T21:57:39.054Z"
   },
   {
    "duration": 11017,
    "start_time": "2021-09-07T22:03:34.690Z"
   },
   {
    "duration": 6,
    "start_time": "2021-09-07T22:10:14.331Z"
   },
   {
    "duration": 29,
    "start_time": "2021-09-07T22:10:15.543Z"
   },
   {
    "duration": 17,
    "start_time": "2021-09-07T22:10:16.010Z"
   },
   {
    "duration": 11,
    "start_time": "2021-09-07T22:10:17.101Z"
   },
   {
    "duration": 4,
    "start_time": "2021-09-07T22:10:17.535Z"
   },
   {
    "duration": 16,
    "start_time": "2021-09-07T22:10:17.695Z"
   },
   {
    "duration": 8,
    "start_time": "2021-09-07T22:10:17.871Z"
   },
   {
    "duration": 6,
    "start_time": "2021-09-07T22:10:18.062Z"
   },
   {
    "duration": 10,
    "start_time": "2021-09-07T22:10:18.257Z"
   },
   {
    "duration": 57,
    "start_time": "2021-09-07T22:10:18.610Z"
   },
   {
    "duration": 1056,
    "start_time": "2021-09-07T22:10:19.038Z"
   },
   {
    "duration": 5,
    "start_time": "2021-09-07T22:10:21.220Z"
   },
   {
    "duration": 21,
    "start_time": "2021-09-07T22:10:22.053Z"
   },
   {
    "duration": 485,
    "start_time": "2021-09-07T22:10:25.817Z"
   },
   {
    "duration": 142802,
    "start_time": "2021-09-07T22:11:26.442Z"
   },
   {
    "duration": 533,
    "start_time": "2021-09-07T22:14:54.029Z"
   },
   {
    "duration": 523,
    "start_time": "2021-09-07T22:15:59.116Z"
   },
   {
    "duration": 26,
    "start_time": "2021-09-07T22:29:48.405Z"
   },
   {
    "duration": 309,
    "start_time": "2021-09-07T22:30:26.474Z"
   },
   {
    "duration": 372,
    "start_time": "2021-09-07T22:31:02.497Z"
   },
   {
    "duration": 138,
    "start_time": "2021-09-07T22:31:15.234Z"
   },
   {
    "duration": 23,
    "start_time": "2021-09-07T22:31:39.755Z"
   },
   {
    "duration": 7,
    "start_time": "2021-09-07T22:33:01.117Z"
   },
   {
    "duration": 14,
    "start_time": "2021-09-07T22:33:28.696Z"
   },
   {
    "duration": 6,
    "start_time": "2021-09-07T22:34:02.150Z"
   },
   {
    "duration": 7,
    "start_time": "2021-09-07T22:34:07.530Z"
   },
   {
    "duration": 4120,
    "start_time": "2021-09-07T22:37:54.354Z"
   },
   {
    "duration": 125,
    "start_time": "2021-09-07T22:39:12.378Z"
   },
   {
    "duration": 521,
    "start_time": "2021-09-07T22:39:39.739Z"
   },
   {
    "duration": 31,
    "start_time": "2021-09-07T22:40:11.658Z"
   },
   {
    "duration": 16,
    "start_time": "2021-09-07T22:40:11.937Z"
   },
   {
    "duration": 11,
    "start_time": "2021-09-07T22:40:12.575Z"
   },
   {
    "duration": 3,
    "start_time": "2021-09-07T22:40:12.971Z"
   },
   {
    "duration": 15,
    "start_time": "2021-09-07T22:40:13.149Z"
   },
   {
    "duration": 9,
    "start_time": "2021-09-07T22:40:13.339Z"
   },
   {
    "duration": 6,
    "start_time": "2021-09-07T22:40:13.525Z"
   },
   {
    "duration": 9,
    "start_time": "2021-09-07T22:40:13.737Z"
   },
   {
    "duration": 55,
    "start_time": "2021-09-07T22:40:13.934Z"
   },
   {
    "duration": 1064,
    "start_time": "2021-09-07T22:40:14.365Z"
   },
   {
    "duration": 5,
    "start_time": "2021-09-07T22:40:15.432Z"
   },
   {
    "duration": 21,
    "start_time": "2021-09-07T22:40:16.531Z"
   },
   {
    "duration": 496,
    "start_time": "2021-09-07T22:40:18.568Z"
   },
   {
    "duration": 7,
    "start_time": "2021-09-07T22:40:22.371Z"
   },
   {
    "duration": 6952,
    "start_time": "2021-09-07T22:40:26.392Z"
   },
   {
    "duration": 190,
    "start_time": "2021-09-07T22:40:36.130Z"
   },
   {
    "duration": 524,
    "start_time": "2021-09-07T22:40:36.562Z"
   },
   {
    "duration": 59,
    "start_time": "2021-09-07T22:41:34.383Z"
   },
   {
    "duration": 5735,
    "start_time": "2021-09-07T22:41:51.857Z"
   },
   {
    "duration": 31,
    "start_time": "2021-09-07T22:42:08.133Z"
   },
   {
    "duration": 16,
    "start_time": "2021-09-07T22:42:08.475Z"
   },
   {
    "duration": 11,
    "start_time": "2021-09-07T22:42:08.948Z"
   },
   {
    "duration": 4,
    "start_time": "2021-09-07T22:42:09.983Z"
   },
   {
    "duration": 15,
    "start_time": "2021-09-07T22:42:10.152Z"
   },
   {
    "duration": 8,
    "start_time": "2021-09-07T22:42:10.324Z"
   },
   {
    "duration": 6,
    "start_time": "2021-09-07T22:42:10.488Z"
   },
   {
    "duration": 10,
    "start_time": "2021-09-07T22:42:11.261Z"
   },
   {
    "duration": 497,
    "start_time": "2021-09-07T22:42:22.837Z"
   },
   {
    "duration": 3815,
    "start_time": "2021-09-07T22:42:26.846Z"
   },
   {
    "duration": 145,
    "start_time": "2021-09-07T22:42:31.618Z"
   },
   {
    "duration": 513,
    "start_time": "2021-09-07T22:42:32.285Z"
   },
   {
    "duration": 924,
    "start_time": "2021-09-07T22:43:01.319Z"
   },
   {
    "duration": 988,
    "start_time": "2021-09-07T22:43:33.176Z"
   },
   {
    "duration": 395,
    "start_time": "2021-09-07T22:43:52.279Z"
   },
   {
    "duration": 391,
    "start_time": "2021-09-07T22:44:12.200Z"
   },
   {
    "duration": 376,
    "start_time": "2021-09-07T22:45:54.418Z"
   },
   {
    "duration": 386,
    "start_time": "2021-09-07T22:46:51.474Z"
   },
   {
    "duration": 5,
    "start_time": "2021-09-07T22:48:19.889Z"
   },
   {
    "duration": 365,
    "start_time": "2021-09-07T22:48:37.574Z"
   },
   {
    "duration": 371,
    "start_time": "2021-09-07T22:50:43.904Z"
   },
   {
    "duration": 21311,
    "start_time": "2021-09-07T22:51:28.657Z"
   },
   {
    "duration": 6,
    "start_time": "2021-09-07T22:51:56.590Z"
   },
   {
    "duration": 29,
    "start_time": "2021-09-07T22:51:57.074Z"
   },
   {
    "duration": 16,
    "start_time": "2021-09-07T22:51:57.374Z"
   },
   {
    "duration": 13,
    "start_time": "2021-09-07T22:51:57.818Z"
   },
   {
    "duration": 4,
    "start_time": "2021-09-07T22:51:58.055Z"
   },
   {
    "duration": 14,
    "start_time": "2021-09-07T22:51:58.157Z"
   },
   {
    "duration": 8,
    "start_time": "2021-09-07T22:51:58.280Z"
   },
   {
    "duration": 5,
    "start_time": "2021-09-07T22:51:58.407Z"
   },
   {
    "duration": 9,
    "start_time": "2021-09-07T22:51:58.531Z"
   },
   {
    "duration": 54,
    "start_time": "2021-09-07T22:51:58.647Z"
   },
   {
    "duration": 1033,
    "start_time": "2021-09-07T22:51:58.787Z"
   },
   {
    "duration": 6,
    "start_time": "2021-09-07T22:51:59.924Z"
   },
   {
    "duration": 21,
    "start_time": "2021-09-07T22:52:00.617Z"
   },
   {
    "duration": 493,
    "start_time": "2021-09-07T22:52:02.382Z"
   },
   {
    "duration": 6,
    "start_time": "2021-09-07T22:52:04.943Z"
   },
   {
    "duration": 13876,
    "start_time": "2021-09-07T22:52:07.569Z"
   },
   {
    "duration": 364,
    "start_time": "2021-09-07T22:52:29.690Z"
   },
   {
    "duration": 505,
    "start_time": "2021-09-07T22:52:30.659Z"
   },
   {
    "duration": 3889,
    "start_time": "2021-09-07T22:52:38.447Z"
   },
   {
    "duration": 1532,
    "start_time": "2021-09-07T22:54:12.004Z"
   },
   {
    "duration": 4958,
    "start_time": "2021-09-07T22:54:18.162Z"
   },
   {
    "duration": 6,
    "start_time": "2021-09-07T23:02:20.797Z"
   },
   {
    "duration": 26,
    "start_time": "2021-09-07T23:02:21.546Z"
   },
   {
    "duration": 17,
    "start_time": "2021-09-07T23:02:21.688Z"
   },
   {
    "duration": 11,
    "start_time": "2021-09-07T23:02:22.094Z"
   },
   {
    "duration": 4,
    "start_time": "2021-09-07T23:02:22.388Z"
   },
   {
    "duration": 15,
    "start_time": "2021-09-07T23:02:22.560Z"
   },
   {
    "duration": 9,
    "start_time": "2021-09-07T23:02:22.732Z"
   },
   {
    "duration": 6,
    "start_time": "2021-09-07T23:02:22.909Z"
   },
   {
    "duration": 9,
    "start_time": "2021-09-07T23:02:23.116Z"
   },
   {
    "duration": 59,
    "start_time": "2021-09-07T23:02:23.267Z"
   },
   {
    "duration": 1042,
    "start_time": "2021-09-07T23:02:24.362Z"
   },
   {
    "duration": 5,
    "start_time": "2021-09-07T23:02:25.520Z"
   },
   {
    "duration": 20,
    "start_time": "2021-09-07T23:02:28.522Z"
   },
   {
    "duration": 510,
    "start_time": "2021-09-07T23:02:36.800Z"
   },
   {
    "duration": 8,
    "start_time": "2021-09-07T23:02:38.426Z"
   },
   {
    "duration": 2823,
    "start_time": "2021-09-07T23:02:44.773Z"
   },
   {
    "duration": 835,
    "start_time": "2021-09-07T23:02:49.329Z"
   },
   {
    "duration": 619,
    "start_time": "2021-09-07T23:03:08.708Z"
   },
   {
    "duration": 57,
    "start_time": "2021-09-07T23:03:13.986Z"
   },
   {
    "duration": 527,
    "start_time": "2021-09-07T23:06:23.938Z"
   },
   {
    "duration": 6,
    "start_time": "2021-09-07T23:06:24.468Z"
   },
   {
    "duration": 500,
    "start_time": "2021-09-07T23:06:26.297Z"
   },
   {
    "duration": 2635,
    "start_time": "2021-09-07T23:06:40.410Z"
   },
   {
    "duration": 9,
    "start_time": "2021-09-07T23:07:00.678Z"
   },
   {
    "duration": 22,
    "start_time": "2021-09-07T23:07:22.616Z"
   },
   {
    "duration": 6,
    "start_time": "2021-09-07T23:07:54.435Z"
   },
   {
    "duration": 511,
    "start_time": "2021-09-07T23:07:55.788Z"
   },
   {
    "duration": 2608,
    "start_time": "2021-09-07T23:07:57.253Z"
   },
   {
    "duration": 9,
    "start_time": "2021-09-07T23:08:03.068Z"
   },
   {
    "duration": 16,
    "start_time": "2021-09-07T23:19:15.471Z"
   },
   {
    "duration": 16,
    "start_time": "2021-09-07T23:23:27.884Z"
   },
   {
    "duration": 511,
    "start_time": "2021-09-07T23:23:28.915Z"
   },
   {
    "duration": 4415,
    "start_time": "2021-09-07T23:24:00.743Z"
   },
   {
    "duration": 9,
    "start_time": "2021-09-07T23:24:10.386Z"
   },
   {
    "duration": 3732,
    "start_time": "2021-09-07T23:25:20.454Z"
   },
   {
    "duration": 518,
    "start_time": "2021-09-07T23:36:17.946Z"
   },
   {
    "duration": 5,
    "start_time": "2021-09-07T23:36:35.276Z"
   },
   {
    "duration": 27,
    "start_time": "2021-09-07T23:36:35.501Z"
   },
   {
    "duration": 17,
    "start_time": "2021-09-07T23:36:35.699Z"
   },
   {
    "duration": 11,
    "start_time": "2021-09-07T23:36:36.209Z"
   },
   {
    "duration": 4,
    "start_time": "2021-09-07T23:36:36.540Z"
   },
   {
    "duration": 15,
    "start_time": "2021-09-07T23:36:36.727Z"
   },
   {
    "duration": 8,
    "start_time": "2021-09-07T23:36:36.901Z"
   },
   {
    "duration": 6,
    "start_time": "2021-09-07T23:36:37.093Z"
   },
   {
    "duration": 10,
    "start_time": "2021-09-07T23:36:37.283Z"
   },
   {
    "duration": 59,
    "start_time": "2021-09-07T23:36:37.486Z"
   },
   {
    "duration": 1077,
    "start_time": "2021-09-07T23:36:37.693Z"
   },
   {
    "duration": 10,
    "start_time": "2021-09-07T23:36:38.772Z"
   },
   {
    "duration": 19,
    "start_time": "2021-09-07T23:36:39.383Z"
   },
   {
    "duration": 493,
    "start_time": "2021-09-07T23:36:40.660Z"
   },
   {
    "duration": 29,
    "start_time": "2021-09-07T23:36:41.157Z"
   },
   {
    "duration": 522,
    "start_time": "2021-09-07T23:36:41.483Z"
   },
   {
    "duration": 3774,
    "start_time": "2021-09-07T23:36:43.119Z"
   },
   {
    "duration": 338,
    "start_time": "2021-09-07T23:39:29.058Z"
   },
   {
    "duration": 374,
    "start_time": "2021-09-07T23:39:32.441Z"
   },
   {
    "duration": 14,
    "start_time": "2021-09-07T23:39:34.914Z"
   },
   {
    "duration": 5,
    "start_time": "2021-09-07T23:43:13.507Z"
   },
   {
    "duration": 5,
    "start_time": "2021-09-07T23:43:29.428Z"
   },
   {
    "duration": 5,
    "start_time": "2021-09-07T23:43:49.482Z"
   },
   {
    "duration": 12,
    "start_time": "2021-09-07T23:44:03.963Z"
   },
   {
    "duration": 12,
    "start_time": "2021-09-07T23:44:08.689Z"
   },
   {
    "duration": 13,
    "start_time": "2021-09-07T23:44:27.036Z"
   },
   {
    "duration": 13,
    "start_time": "2021-09-07T23:46:16.419Z"
   },
   {
    "duration": 384,
    "start_time": "2021-09-07T23:47:48.172Z"
   },
   {
    "duration": 14,
    "start_time": "2021-09-07T23:47:57.227Z"
   },
   {
    "duration": 22,
    "start_time": "2021-09-07T23:50:26.075Z"
   },
   {
    "duration": 270,
    "start_time": "2021-09-07T23:50:34.025Z"
   },
   {
    "duration": 994,
    "start_time": "2021-09-07T23:50:40.993Z"
   },
   {
    "duration": 11,
    "start_time": "2021-09-07T23:53:03.553Z"
   },
   {
    "duration": 32,
    "start_time": "2021-09-07T23:53:04.857Z"
   },
   {
    "duration": 17,
    "start_time": "2021-09-07T23:53:33.972Z"
   },
   {
    "duration": 10,
    "start_time": "2021-09-07T23:54:11.026Z"
   },
   {
    "duration": 17,
    "start_time": "2021-09-07T23:54:12.148Z"
   },
   {
    "duration": 12,
    "start_time": "2021-09-07T23:57:41.230Z"
   },
   {
    "duration": 416,
    "start_time": "2021-09-08T00:03:11.634Z"
   },
   {
    "duration": 15,
    "start_time": "2021-09-08T00:03:21.411Z"
   },
   {
    "duration": 14,
    "start_time": "2021-09-08T00:12:55.747Z"
   },
   {
    "duration": 15,
    "start_time": "2021-09-08T00:13:44.013Z"
   },
   {
    "duration": 14,
    "start_time": "2021-09-08T00:14:01.866Z"
   },
   {
    "duration": 5,
    "start_time": "2021-09-08T01:17:59.345Z"
   },
   {
    "duration": 6,
    "start_time": "2021-09-08T02:07:56.549Z"
   },
   {
    "duration": 6,
    "start_time": "2021-09-08T02:08:08.957Z"
   },
   {
    "duration": 6,
    "start_time": "2021-09-08T02:08:16.829Z"
   },
   {
    "duration": 6,
    "start_time": "2021-09-08T02:08:21.672Z"
   },
   {
    "duration": 300,
    "start_time": "2021-09-08T02:08:34.670Z"
   },
   {
    "duration": 7,
    "start_time": "2021-09-08T02:08:41.326Z"
   },
   {
    "duration": 1557,
    "start_time": "2021-09-09T18:18:34.644Z"
   },
   {
    "duration": 31,
    "start_time": "2021-09-09T18:18:36.204Z"
   },
   {
    "duration": 25,
    "start_time": "2021-09-09T18:18:36.238Z"
   },
   {
    "duration": 15,
    "start_time": "2021-09-09T18:18:36.266Z"
   },
   {
    "duration": 13,
    "start_time": "2021-09-09T18:18:36.284Z"
   },
   {
    "duration": 26,
    "start_time": "2021-09-09T18:18:36.299Z"
   },
   {
    "duration": 10,
    "start_time": "2021-09-09T18:18:36.327Z"
   },
   {
    "duration": 18,
    "start_time": "2021-09-09T18:18:36.341Z"
   },
   {
    "duration": 25,
    "start_time": "2021-09-09T18:18:36.362Z"
   },
   {
    "duration": 71,
    "start_time": "2021-09-09T18:18:36.389Z"
   },
   {
    "duration": 1081,
    "start_time": "2021-09-09T18:18:36.463Z"
   },
   {
    "duration": 10,
    "start_time": "2021-09-09T18:18:37.547Z"
   },
   {
    "duration": 27,
    "start_time": "2021-09-09T18:18:37.560Z"
   },
   {
    "duration": 644,
    "start_time": "2021-09-09T18:18:37.590Z"
   },
   {
    "duration": 32,
    "start_time": "2021-09-09T18:18:38.237Z"
   },
   {
    "duration": 609,
    "start_time": "2021-09-09T18:18:38.271Z"
   },
   {
    "duration": 4238,
    "start_time": "2021-09-09T18:18:38.883Z"
   },
   {
    "duration": 31,
    "start_time": "2021-09-09T18:18:43.124Z"
   },
   {
    "duration": 14,
    "start_time": "2021-09-09T18:18:43.158Z"
   },
   {
    "duration": 14,
    "start_time": "2021-09-09T18:18:43.174Z"
   },
   {
    "duration": 9,
    "start_time": "2021-09-09T18:18:43.190Z"
   },
   {
    "duration": 59,
    "start_time": "2021-09-09T18:18:43.202Z"
   },
   {
    "duration": 13806,
    "start_time": "2021-09-09T18:18:43.265Z"
   },
   {
    "duration": 16,
    "start_time": "2021-09-09T18:32:07.043Z"
   },
   {
    "duration": 4,
    "start_time": "2021-09-09T18:32:30.548Z"
   },
   {
    "duration": 10075,
    "start_time": "2021-09-09T18:33:05.324Z"
   },
   {
    "duration": 450,
    "start_time": "2021-09-09T18:33:30.202Z"
   },
   {
    "duration": 10062,
    "start_time": "2021-09-09T18:33:49.549Z"
   },
   {
    "duration": 6,
    "start_time": "2021-09-09T18:33:59.615Z"
   },
   {
    "duration": 264,
    "start_time": "2021-09-09T18:36:45.311Z"
   },
   {
    "duration": 292,
    "start_time": "2021-09-09T18:37:21.242Z"
   },
   {
    "duration": 382,
    "start_time": "2021-09-09T18:38:03.376Z"
   },
   {
    "duration": 320,
    "start_time": "2021-09-09T18:38:43.564Z"
   },
   {
    "duration": 356,
    "start_time": "2021-09-09T18:39:05.791Z"
   },
   {
    "duration": 29,
    "start_time": "2021-09-09T18:39:43.937Z"
   },
   {
    "duration": 14,
    "start_time": "2021-09-09T18:41:14.108Z"
   },
   {
    "duration": 16,
    "start_time": "2021-09-09T18:41:56.918Z"
   },
   {
    "duration": 10076,
    "start_time": "2021-09-09T18:41:57.621Z"
   },
   {
    "duration": 5,
    "start_time": "2021-09-09T18:42:07.700Z"
   },
   {
    "duration": 277,
    "start_time": "2021-09-09T18:42:12.961Z"
   },
   {
    "duration": 114,
    "start_time": "2021-09-09T18:42:18.141Z"
   },
   {
    "duration": 15,
    "start_time": "2021-09-09T18:42:20.362Z"
   },
   {
    "duration": 54,
    "start_time": "2021-09-09T18:43:03.108Z"
   },
   {
    "duration": 6,
    "start_time": "2021-09-09T18:43:03.864Z"
   },
   {
    "duration": 16,
    "start_time": "2021-09-09T18:43:05.419Z"
   },
   {
    "duration": 560733,
    "start_time": "2021-09-09T18:44:32.350Z"
   },
   {
    "duration": 5,
    "start_time": "2021-09-09T18:53:53.086Z"
   },
   {
    "duration": 1074,
    "start_time": "2021-09-09T19:00:30.896Z"
   },
   {
    "duration": 1307,
    "start_time": "2021-09-09T19:00:45.858Z"
   },
   {
    "duration": 1286,
    "start_time": "2021-09-09T19:00:56.281Z"
   },
   {
    "duration": 1223,
    "start_time": "2021-09-09T19:01:02.421Z"
   },
   {
    "duration": 702,
    "start_time": "2021-09-09T19:01:07.550Z"
   },
   {
    "duration": 6921,
    "start_time": "2021-09-09T19:01:15.365Z"
   },
   {
    "duration": 12041,
    "start_time": "2021-09-09T19:01:40.809Z"
   },
   {
    "duration": 54848,
    "start_time": "2021-09-09T19:02:16.487Z"
   },
   {
    "duration": 16,
    "start_time": "2021-09-09T19:04:56.925Z"
   },
   {
    "duration": 57822,
    "start_time": "2021-09-09T19:05:04.394Z"
   },
   {
    "duration": 143,
    "start_time": "2021-09-09T19:15:31.215Z"
   },
   {
    "duration": 5,
    "start_time": "2021-09-09T19:15:32.415Z"
   },
   {
    "duration": 17,
    "start_time": "2021-09-09T19:15:33.212Z"
   },
   {
    "duration": 1352805,
    "start_time": "2021-09-09T19:16:35.888Z"
   },
   {
    "duration": 5,
    "start_time": "2021-09-09T19:39:08.696Z"
   },
   {
    "duration": 3545,
    "start_time": "2021-09-09T19:39:26.702Z"
   },
   {
    "duration": 3979,
    "start_time": "2021-09-09T19:40:38.252Z"
   },
   {
    "duration": 3658,
    "start_time": "2021-09-09T19:40:52.472Z"
   },
   {
    "duration": 2146,
    "start_time": "2021-09-09T19:41:03.990Z"
   },
   {
    "duration": 1615,
    "start_time": "2021-09-09T19:41:18.924Z"
   },
   {
    "duration": 2116,
    "start_time": "2021-09-09T19:41:23.766Z"
   },
   {
    "duration": 2096,
    "start_time": "2021-09-09T19:41:30.048Z"
   },
   {
    "duration": 1148,
    "start_time": "2021-09-09T19:41:37.121Z"
   },
   {
    "duration": 913,
    "start_time": "2021-09-09T19:41:47.202Z"
   },
   {
    "duration": 1478,
    "start_time": "2021-09-09T19:41:54.220Z"
   },
   {
    "duration": 1570,
    "start_time": "2021-09-11T20:19:00.142Z"
   },
   {
    "duration": 33,
    "start_time": "2021-09-11T20:19:01.715Z"
   },
   {
    "duration": 31,
    "start_time": "2021-09-11T20:19:01.751Z"
   },
   {
    "duration": 24,
    "start_time": "2021-09-11T20:19:01.785Z"
   },
   {
    "duration": 10,
    "start_time": "2021-09-11T20:19:01.811Z"
   },
   {
    "duration": 54,
    "start_time": "2021-09-11T20:19:01.823Z"
   },
   {
    "duration": 26,
    "start_time": "2021-09-11T20:19:01.879Z"
   },
   {
    "duration": 19,
    "start_time": "2021-09-11T20:19:01.908Z"
   },
   {
    "duration": 30,
    "start_time": "2021-09-11T20:19:01.931Z"
   },
   {
    "duration": 87,
    "start_time": "2021-09-11T20:19:01.964Z"
   },
   {
    "duration": 1067,
    "start_time": "2021-09-11T20:19:02.053Z"
   },
   {
    "duration": 6,
    "start_time": "2021-09-11T20:19:03.122Z"
   },
   {
    "duration": 41,
    "start_time": "2021-09-11T20:19:03.130Z"
   },
   {
    "duration": 507,
    "start_time": "2021-09-11T20:19:03.173Z"
   },
   {
    "duration": 17,
    "start_time": "2021-09-11T20:19:03.683Z"
   },
   {
    "duration": 589,
    "start_time": "2021-09-11T20:19:03.702Z"
   },
   {
    "duration": 4063,
    "start_time": "2021-09-11T20:19:04.294Z"
   },
   {
    "duration": 15,
    "start_time": "2021-09-11T20:19:08.359Z"
   },
   {
    "duration": 14,
    "start_time": "2021-09-11T20:19:08.377Z"
   },
   {
    "duration": 14,
    "start_time": "2021-09-11T20:19:08.394Z"
   },
   {
    "duration": 61,
    "start_time": "2021-09-11T20:19:08.411Z"
   },
   {
    "duration": 94,
    "start_time": "2021-09-11T20:19:08.475Z"
   },
   {
    "duration": 97,
    "start_time": "2021-09-11T20:19:08.657Z"
   },
   {
    "duration": 25,
    "start_time": "2021-09-11T20:19:08.757Z"
   },
   {
    "duration": 414,
    "start_time": "2021-09-11T20:19:08.785Z"
   },
   {
    "duration": -851,
    "start_time": "2021-09-11T20:19:10.053Z"
   },
   {
    "duration": -854,
    "start_time": "2021-09-11T20:19:10.057Z"
   },
   {
    "duration": -854,
    "start_time": "2021-09-11T20:19:10.059Z"
   },
   {
    "duration": -854,
    "start_time": "2021-09-11T20:19:10.061Z"
   },
   {
    "duration": 3610,
    "start_time": "2021-09-11T20:22:35.531Z"
   },
   {
    "duration": 1383,
    "start_time": "2021-09-11T20:23:08.631Z"
   },
   {
    "duration": 3788,
    "start_time": "2021-09-11T20:26:57.552Z"
   },
   {
    "duration": 3686,
    "start_time": "2021-09-11T20:27:18.333Z"
   },
   {
    "duration": 3977,
    "start_time": "2021-09-11T20:27:28.740Z"
   },
   {
    "duration": 14519,
    "start_time": "2021-09-11T20:27:38.888Z"
   },
   {
    "duration": 8296,
    "start_time": "2021-09-11T20:28:48.384Z"
   },
   {
    "duration": 6,
    "start_time": "2021-09-11T20:29:01.196Z"
   },
   {
    "duration": 325,
    "start_time": "2021-09-11T20:29:26.060Z"
   },
   {
    "duration": 244798,
    "start_time": "2021-09-11T20:30:18.846Z"
   },
   {
    "duration": 9,
    "start_time": "2021-09-11T20:34:23.647Z"
   },
   {
    "duration": 9734,
    "start_time": "2021-09-11T20:35:29.732Z"
   },
   {
    "duration": 5154,
    "start_time": "2021-09-11T20:36:08.510Z"
   },
   {
    "duration": 26,
    "start_time": "2021-09-11T20:37:28.929Z"
   },
   {
    "duration": 5737,
    "start_time": "2021-09-11T20:44:11.497Z"
   },
   {
    "duration": 146,
    "start_time": "2021-09-11T21:11:57.544Z"
   },
   {
    "duration": 1533,
    "start_time": "2021-09-11T21:17:31.777Z"
   },
   {
    "duration": 299,
    "start_time": "2021-09-11T21:17:59.728Z"
   },
   {
    "duration": 291,
    "start_time": "2021-09-11T21:18:55.719Z"
   },
   {
    "duration": 526,
    "start_time": "2021-09-11T21:20:20.700Z"
   },
   {
    "duration": 1559,
    "start_time": "2021-09-11T21:22:08.242Z"
   },
   {
    "duration": 35,
    "start_time": "2021-09-11T21:22:09.804Z"
   },
   {
    "duration": 24,
    "start_time": "2021-09-11T21:22:09.842Z"
   },
   {
    "duration": 10,
    "start_time": "2021-09-11T21:22:09.869Z"
   },
   {
    "duration": 4,
    "start_time": "2021-09-11T21:22:09.882Z"
   },
   {
    "duration": 23,
    "start_time": "2021-09-11T21:22:09.888Z"
   },
   {
    "duration": 45,
    "start_time": "2021-09-11T21:22:09.914Z"
   },
   {
    "duration": 6,
    "start_time": "2021-09-11T21:22:09.962Z"
   },
   {
    "duration": 16,
    "start_time": "2021-09-11T21:22:09.971Z"
   },
   {
    "duration": 82,
    "start_time": "2021-09-11T21:22:09.989Z"
   },
   {
    "duration": 1090,
    "start_time": "2021-09-11T21:22:10.073Z"
   },
   {
    "duration": 5,
    "start_time": "2021-09-11T21:22:11.165Z"
   },
   {
    "duration": 24,
    "start_time": "2021-09-11T21:22:11.172Z"
   },
   {
    "duration": 523,
    "start_time": "2021-09-11T21:22:11.199Z"
   },
   {
    "duration": 4,
    "start_time": "2021-09-11T21:22:11.725Z"
   },
   {
    "duration": 623,
    "start_time": "2021-09-11T21:22:11.731Z"
   },
   {
    "duration": 4127,
    "start_time": "2021-09-11T21:22:12.357Z"
   },
   {
    "duration": 14,
    "start_time": "2021-09-11T21:22:16.487Z"
   },
   {
    "duration": 14,
    "start_time": "2021-09-11T21:22:16.503Z"
   },
   {
    "duration": 42,
    "start_time": "2021-09-11T21:22:16.519Z"
   },
   {
    "duration": 14,
    "start_time": "2021-09-11T21:22:16.563Z"
   },
   {
    "duration": 94,
    "start_time": "2021-09-11T21:22:16.580Z"
   },
   {
    "duration": 94,
    "start_time": "2021-09-11T21:22:16.760Z"
   },
   {
    "duration": 19,
    "start_time": "2021-09-11T21:22:16.858Z"
   },
   {
    "duration": 5,
    "start_time": "2021-09-11T21:22:16.880Z"
   },
   {
    "duration": 12,
    "start_time": "2021-09-11T21:22:16.888Z"
   },
   {
    "duration": 3407,
    "start_time": "2021-09-11T21:22:16.902Z"
   },
   {
    "duration": 54,
    "start_time": "2021-09-11T21:22:20.312Z"
   },
   {
    "duration": 459,
    "start_time": "2021-09-11T21:22:20.368Z"
   },
   {
    "duration": 459,
    "start_time": "2021-09-11T21:22:20.829Z"
   },
   {
    "duration": -830,
    "start_time": "2021-09-11T21:22:22.121Z"
   },
   {
    "duration": -837,
    "start_time": "2021-09-11T21:22:22.130Z"
   },
   {
    "duration": -840,
    "start_time": "2021-09-11T21:22:22.134Z"
   },
   {
    "duration": -849,
    "start_time": "2021-09-11T21:22:22.145Z"
   },
   {
    "duration": -851,
    "start_time": "2021-09-11T21:22:22.148Z"
   },
   {
    "duration": -854,
    "start_time": "2021-09-11T21:22:22.152Z"
   },
   {
    "duration": -854,
    "start_time": "2021-09-11T21:22:22.153Z"
   },
   {
    "duration": -855,
    "start_time": "2021-09-11T21:22:22.156Z"
   },
   {
    "duration": 320,
    "start_time": "2021-09-11T21:23:16.980Z"
   },
   {
    "duration": 305,
    "start_time": "2021-09-11T21:23:36.912Z"
   },
   {
    "duration": 4695,
    "start_time": "2021-09-11T21:23:46.609Z"
   },
   {
    "duration": 25,
    "start_time": "2021-09-11T21:23:53.857Z"
   },
   {
    "duration": 321,
    "start_time": "2021-09-11T21:24:37.092Z"
   },
   {
    "duration": 44,
    "start_time": "2021-09-11T21:25:15.656Z"
   },
   {
    "duration": 13390,
    "start_time": "2021-09-11T21:27:49.333Z"
   },
   {
    "duration": 5,
    "start_time": "2021-09-11T21:35:51.802Z"
   },
   {
    "duration": 612,
    "start_time": "2021-09-11T21:35:57.900Z"
   },
   {
    "duration": 11,
    "start_time": "2021-09-11T21:42:16.460Z"
   },
   {
    "duration": 341913,
    "start_time": "2021-09-11T21:42:17.251Z"
   },
   {
    "duration": 1775,
    "start_time": "2021-09-11T21:49:59.591Z"
   },
   {
    "duration": 23,
    "start_time": "2021-09-11T21:50:09.717Z"
   },
   {
    "duration": 1619,
    "start_time": "2021-09-11T21:50:41.836Z"
   },
   {
    "duration": 15,
    "start_time": "2021-09-11T21:50:43.458Z"
   },
   {
    "duration": 2013,
    "start_time": "2021-09-11T21:50:56.359Z"
   },
   {
    "duration": 19,
    "start_time": "2021-09-11T21:50:58.375Z"
   },
   {
    "duration": 2217,
    "start_time": "2021-09-11T21:51:04.885Z"
   },
   {
    "duration": 19,
    "start_time": "2021-09-11T21:51:07.104Z"
   },
   {
    "duration": 1894,
    "start_time": "2021-09-11T21:51:48.697Z"
   },
   {
    "duration": 19,
    "start_time": "2021-09-11T21:51:55.701Z"
   },
   {
    "duration": 3034,
    "start_time": "2021-09-11T21:53:18.651Z"
   },
   {
    "duration": 23,
    "start_time": "2021-09-11T21:53:21.687Z"
   },
   {
    "duration": 1178,
    "start_time": "2021-09-12T12:08:32.079Z"
   },
   {
    "duration": 26,
    "start_time": "2021-09-12T12:08:33.259Z"
   },
   {
    "duration": 21,
    "start_time": "2021-09-12T12:08:33.287Z"
   },
   {
    "duration": 10,
    "start_time": "2021-09-12T12:08:33.311Z"
   },
   {
    "duration": 9,
    "start_time": "2021-09-12T12:08:33.323Z"
   },
   {
    "duration": 31,
    "start_time": "2021-09-12T12:08:33.334Z"
   },
   {
    "duration": 23,
    "start_time": "2021-09-12T12:08:33.366Z"
   },
   {
    "duration": 25,
    "start_time": "2021-09-12T12:08:33.391Z"
   },
   {
    "duration": 23,
    "start_time": "2021-09-12T12:08:33.419Z"
   },
   {
    "duration": 53,
    "start_time": "2021-09-12T12:08:33.444Z"
   },
   {
    "duration": 772,
    "start_time": "2021-09-12T12:08:33.499Z"
   },
   {
    "duration": 11,
    "start_time": "2021-09-12T12:08:34.273Z"
   },
   {
    "duration": 14,
    "start_time": "2021-09-12T12:08:34.286Z"
   },
   {
    "duration": 344,
    "start_time": "2021-09-12T12:08:34.302Z"
   },
   {
    "duration": 4,
    "start_time": "2021-09-12T12:08:34.647Z"
   },
   {
    "duration": 403,
    "start_time": "2021-09-12T12:08:34.653Z"
   },
   {
    "duration": 2748,
    "start_time": "2021-09-12T12:08:35.057Z"
   },
   {
    "duration": 11,
    "start_time": "2021-09-12T12:08:37.806Z"
   },
   {
    "duration": 10,
    "start_time": "2021-09-12T12:08:37.819Z"
   },
   {
    "duration": 8,
    "start_time": "2021-09-12T12:08:37.831Z"
   },
   {
    "duration": 46,
    "start_time": "2021-09-12T12:08:37.841Z"
   },
   {
    "duration": 101,
    "start_time": "2021-09-12T12:08:37.889Z"
   },
   {
    "duration": 99,
    "start_time": "2021-09-12T12:08:37.992Z"
   },
   {
    "duration": 105,
    "start_time": "2021-09-12T12:08:38.094Z"
   },
   {
    "duration": 6,
    "start_time": "2021-09-12T12:08:38.201Z"
   },
   {
    "duration": 8,
    "start_time": "2021-09-12T12:08:38.209Z"
   },
   {
    "duration": 2316,
    "start_time": "2021-09-12T12:08:38.220Z"
   },
   {
    "duration": 28,
    "start_time": "2021-09-12T12:08:40.538Z"
   },
   {
    "duration": 30,
    "start_time": "2021-09-12T12:08:40.568Z"
   },
   {
    "duration": 9079,
    "start_time": "2021-09-12T12:08:40.600Z"
   },
   {
    "duration": 23,
    "start_time": "2021-09-12T13:26:29.503Z"
   },
   {
    "duration": 9,
    "start_time": "2021-09-12T13:27:25.355Z"
   },
   {
    "duration": 8,
    "start_time": "2021-09-12T13:27:31.500Z"
   },
   {
    "duration": 4,
    "start_time": "2021-09-12T13:28:53.079Z"
   },
   {
    "duration": 272,
    "start_time": "2021-09-12T13:32:08.149Z"
   },
   {
    "duration": 6,
    "start_time": "2021-09-12T13:32:20.121Z"
   },
   {
    "duration": 6,
    "start_time": "2021-09-12T13:32:32.843Z"
   },
   {
    "duration": 205,
    "start_time": "2021-09-12T13:46:10.065Z"
   },
   {
    "duration": 194,
    "start_time": "2021-09-12T14:07:18.807Z"
   },
   {
    "duration": 264,
    "start_time": "2021-09-12T14:13:46.552Z"
   },
   {
    "duration": 6,
    "start_time": "2021-09-12T14:14:44.663Z"
   },
   {
    "duration": 7,
    "start_time": "2021-09-12T14:14:53.381Z"
   },
   {
    "duration": 177,
    "start_time": "2021-09-12T14:15:22.684Z"
   },
   {
    "duration": 7,
    "start_time": "2021-09-12T14:15:39.768Z"
   },
   {
    "duration": 4,
    "start_time": "2021-09-12T14:15:49.765Z"
   },
   {
    "duration": 6,
    "start_time": "2021-09-12T14:17:42.094Z"
   },
   {
    "duration": 10,
    "start_time": "2021-09-12T14:22:51.778Z"
   },
   {
    "duration": 8,
    "start_time": "2021-09-12T14:23:06.821Z"
   },
   {
    "duration": 245,
    "start_time": "2021-09-12T14:23:07.276Z"
   },
   {
    "duration": 17,
    "start_time": "2021-09-12T17:42:26.982Z"
   },
   {
    "duration": 4,
    "start_time": "2021-09-12T17:44:13.913Z"
   },
   {
    "duration": 204,
    "start_time": "2021-09-12T18:01:33.893Z"
   },
   {
    "duration": 6,
    "start_time": "2021-09-12T18:04:53.977Z"
   },
   {
    "duration": 7,
    "start_time": "2021-09-12T18:05:51.448Z"
   },
   {
    "duration": 8,
    "start_time": "2021-09-12T18:07:27.254Z"
   },
   {
    "duration": 7,
    "start_time": "2021-09-12T18:08:36.876Z"
   },
   {
    "duration": 4,
    "start_time": "2021-09-12T18:27:37.022Z"
   },
   {
    "duration": 15,
    "start_time": "2021-09-12T18:39:00.532Z"
   },
   {
    "duration": 2885,
    "start_time": "2021-09-12T18:39:24.234Z"
   },
   {
    "duration": 2823,
    "start_time": "2021-09-12T18:40:18.964Z"
   },
   {
    "duration": 2853,
    "start_time": "2021-09-12T18:40:29.452Z"
   },
   {
    "duration": 628,
    "start_time": "2021-09-12T18:44:14.982Z"
   },
   {
    "duration": 60,
    "start_time": "2021-09-12T18:44:20.130Z"
   },
   {
    "duration": 59,
    "start_time": "2021-09-12T18:44:39.671Z"
   },
   {
    "duration": 2538,
    "start_time": "2021-09-12T18:45:09.081Z"
   },
   {
    "duration": 60,
    "start_time": "2021-09-12T18:47:03.887Z"
   },
   {
    "duration": 2777,
    "start_time": "2021-09-12T18:47:56.533Z"
   },
   {
    "duration": 316,
    "start_time": "2021-09-12T21:54:35.201Z"
   },
   {
    "duration": 257,
    "start_time": "2021-09-12T21:54:39.031Z"
   },
   {
    "duration": 1223,
    "start_time": "2021-09-12T21:54:46.844Z"
   },
   {
    "duration": 30,
    "start_time": "2021-09-12T21:54:48.069Z"
   },
   {
    "duration": 15,
    "start_time": "2021-09-12T21:54:48.101Z"
   },
   {
    "duration": 22,
    "start_time": "2021-09-12T21:54:48.119Z"
   },
   {
    "duration": 3,
    "start_time": "2021-09-12T21:54:48.143Z"
   },
   {
    "duration": 14,
    "start_time": "2021-09-12T21:54:48.148Z"
   },
   {
    "duration": 5,
    "start_time": "2021-09-12T21:54:48.163Z"
   },
   {
    "duration": 4,
    "start_time": "2021-09-12T21:54:48.171Z"
   },
   {
    "duration": 12,
    "start_time": "2021-09-12T21:54:48.177Z"
   },
   {
    "duration": 73,
    "start_time": "2021-09-12T21:54:48.191Z"
   },
   {
    "duration": 777,
    "start_time": "2021-09-12T21:54:48.266Z"
   },
   {
    "duration": 4,
    "start_time": "2021-09-12T21:54:49.045Z"
   },
   {
    "duration": 18,
    "start_time": "2021-09-12T21:54:49.051Z"
   },
   {
    "duration": 346,
    "start_time": "2021-09-12T21:54:49.071Z"
   },
   {
    "duration": 3,
    "start_time": "2021-09-12T21:54:49.420Z"
   },
   {
    "duration": 413,
    "start_time": "2021-09-12T21:54:49.425Z"
   },
   {
    "duration": 2740,
    "start_time": "2021-09-12T21:54:49.841Z"
   },
   {
    "duration": 10,
    "start_time": "2021-09-12T21:54:52.583Z"
   },
   {
    "duration": 13,
    "start_time": "2021-09-12T21:54:52.594Z"
   },
   {
    "duration": 35,
    "start_time": "2021-09-12T21:54:52.609Z"
   },
   {
    "duration": 3120,
    "start_time": "2021-09-12T21:54:52.645Z"
   },
   {
    "duration": 12,
    "start_time": "2021-09-12T21:54:55.766Z"
   },
   {
    "duration": 67,
    "start_time": "2021-09-12T21:54:55.781Z"
   },
   {
    "duration": 93,
    "start_time": "2021-09-12T21:54:55.851Z"
   },
   {
    "duration": 103,
    "start_time": "2021-09-12T21:54:55.947Z"
   },
   {
    "duration": 4,
    "start_time": "2021-09-12T21:54:56.052Z"
   },
   {
    "duration": 10,
    "start_time": "2021-09-12T21:54:56.057Z"
   },
   {
    "duration": 2452,
    "start_time": "2021-09-12T21:54:56.069Z"
   },
   {
    "duration": 41,
    "start_time": "2021-09-12T21:54:58.523Z"
   },
   {
    "duration": 7,
    "start_time": "2021-09-12T21:54:58.566Z"
   },
   {
    "duration": 235,
    "start_time": "2021-09-12T21:54:58.575Z"
   },
   {
    "duration": 204,
    "start_time": "2021-09-12T21:54:58.812Z"
   },
   {
    "duration": 7,
    "start_time": "2021-09-12T21:54:59.017Z"
   },
   {
    "duration": 21,
    "start_time": "2021-09-12T21:54:59.026Z"
   },
   {
    "duration": 191,
    "start_time": "2021-09-12T21:54:59.049Z"
   },
   {
    "duration": 286,
    "start_time": "2021-09-12T21:54:59.242Z"
   },
   {
    "duration": 13,
    "start_time": "2021-09-12T21:54:59.530Z"
   },
   {
    "duration": 2710,
    "start_time": "2021-09-12T21:54:59.544Z"
   },
   {
    "duration": 16,
    "start_time": "2021-09-12T21:55:02.256Z"
   },
   {
    "duration": 6,
    "start_time": "2021-09-12T21:55:02.274Z"
   },
   {
    "duration": 6,
    "start_time": "2021-09-12T21:55:02.282Z"
   },
   {
    "duration": 2761,
    "start_time": "2021-09-12T21:56:28.576Z"
   },
   {
    "duration": 2660,
    "start_time": "2021-09-12T22:16:34.952Z"
   },
   {
    "duration": 2506,
    "start_time": "2021-09-12T22:17:06.889Z"
   },
   {
    "duration": 1271,
    "start_time": "2021-09-12T22:39:51.600Z"
   },
   {
    "duration": 28,
    "start_time": "2021-09-12T22:39:52.873Z"
   },
   {
    "duration": 15,
    "start_time": "2021-09-12T22:39:52.906Z"
   },
   {
    "duration": 8,
    "start_time": "2021-09-12T22:39:52.923Z"
   },
   {
    "duration": 6,
    "start_time": "2021-09-12T22:39:52.932Z"
   },
   {
    "duration": 19,
    "start_time": "2021-09-12T22:39:52.940Z"
   },
   {
    "duration": 5,
    "start_time": "2021-09-12T22:39:52.962Z"
   },
   {
    "duration": 6,
    "start_time": "2021-09-12T22:39:52.970Z"
   },
   {
    "duration": 40,
    "start_time": "2021-09-12T22:39:52.978Z"
   },
   {
    "duration": 777,
    "start_time": "2021-09-12T22:39:53.020Z"
   },
   {
    "duration": 4,
    "start_time": "2021-09-12T22:39:53.799Z"
   },
   {
    "duration": 20,
    "start_time": "2021-09-12T22:39:53.805Z"
   },
   {
    "duration": 342,
    "start_time": "2021-09-12T22:39:53.827Z"
   },
   {
    "duration": 6,
    "start_time": "2021-09-12T22:39:54.170Z"
   },
   {
    "duration": 398,
    "start_time": "2021-09-12T22:39:54.178Z"
   },
   {
    "duration": 2493,
    "start_time": "2021-09-12T22:39:54.578Z"
   },
   {
    "duration": 11,
    "start_time": "2021-09-12T22:39:57.073Z"
   },
   {
    "duration": 21,
    "start_time": "2021-09-12T22:39:57.086Z"
   },
   {
    "duration": 17,
    "start_time": "2021-09-12T22:39:57.109Z"
   },
   {
    "duration": 2202,
    "start_time": "2021-09-12T22:39:57.128Z"
   },
   {
    "duration": 12,
    "start_time": "2021-09-12T22:39:59.332Z"
   },
   {
    "duration": 38,
    "start_time": "2021-09-12T22:39:59.348Z"
   },
   {
    "duration": 53,
    "start_time": "2021-09-12T22:39:59.389Z"
   },
   {
    "duration": 5,
    "start_time": "2021-09-12T22:39:59.444Z"
   },
   {
    "duration": 109,
    "start_time": "2021-09-12T22:39:59.542Z"
   },
   {
    "duration": 22,
    "start_time": "2021-09-12T22:39:59.653Z"
   },
   {
    "duration": 28,
    "start_time": "2021-09-12T22:39:59.677Z"
   },
   {
    "duration": 2471,
    "start_time": "2021-09-12T22:39:59.708Z"
   },
   {
    "duration": 29,
    "start_time": "2021-09-12T22:40:02.181Z"
   },
   {
    "duration": 30,
    "start_time": "2021-09-12T22:40:02.213Z"
   },
   {
    "duration": 216,
    "start_time": "2021-09-12T22:40:02.245Z"
   },
   {
    "duration": 202,
    "start_time": "2021-09-12T22:40:02.463Z"
   },
   {
    "duration": 8,
    "start_time": "2021-09-12T22:40:02.668Z"
   },
   {
    "duration": 10,
    "start_time": "2021-09-12T22:40:02.679Z"
   },
   {
    "duration": 283,
    "start_time": "2021-09-12T22:40:02.691Z"
   },
   {
    "duration": 211,
    "start_time": "2021-09-12T22:40:02.977Z"
   },
   {
    "duration": 7,
    "start_time": "2021-09-12T22:40:03.190Z"
   },
   {
    "duration": 17,
    "start_time": "2021-09-12T22:40:03.199Z"
   },
   {
    "duration": 25,
    "start_time": "2021-09-12T22:40:03.217Z"
   },
   {
    "duration": 12,
    "start_time": "2021-09-12T22:40:03.244Z"
   },
   {
    "duration": 383,
    "start_time": "2021-09-12T23:18:41.202Z"
   },
   {
    "duration": 11,
    "start_time": "2021-09-12T23:18:47.996Z"
   },
   {
    "duration": 8,
    "start_time": "2021-09-12T23:20:04.520Z"
   },
   {
    "duration": 1045,
    "start_time": "2021-09-12T23:23:35.878Z"
   },
   {
    "duration": 11,
    "start_time": "2021-09-12T23:23:56.839Z"
   },
   {
    "duration": 1238,
    "start_time": "2021-09-12T23:34:29.625Z"
   },
   {
    "duration": 30,
    "start_time": "2021-09-12T23:34:30.865Z"
   },
   {
    "duration": 16,
    "start_time": "2021-09-12T23:34:30.897Z"
   },
   {
    "duration": 9,
    "start_time": "2021-09-12T23:34:30.915Z"
   },
   {
    "duration": 18,
    "start_time": "2021-09-12T23:34:30.926Z"
   },
   {
    "duration": 27,
    "start_time": "2021-09-12T23:34:30.945Z"
   },
   {
    "duration": 15,
    "start_time": "2021-09-12T23:34:30.974Z"
   },
   {
    "duration": 17,
    "start_time": "2021-09-12T23:34:30.991Z"
   },
   {
    "duration": 38,
    "start_time": "2021-09-12T23:34:31.011Z"
   },
   {
    "duration": 56,
    "start_time": "2021-09-12T23:34:31.052Z"
   },
   {
    "duration": 790,
    "start_time": "2021-09-12T23:34:31.110Z"
   },
   {
    "duration": 5,
    "start_time": "2021-09-12T23:34:31.903Z"
   },
   {
    "duration": 32,
    "start_time": "2021-09-12T23:34:31.910Z"
   },
   {
    "duration": 340,
    "start_time": "2021-09-12T23:34:31.944Z"
   },
   {
    "duration": 4,
    "start_time": "2021-09-12T23:34:32.287Z"
   },
   {
    "duration": 421,
    "start_time": "2021-09-12T23:34:32.293Z"
   },
   {
    "duration": 2476,
    "start_time": "2021-09-12T23:34:32.716Z"
   },
   {
    "duration": 12,
    "start_time": "2021-09-12T23:34:35.194Z"
   },
   {
    "duration": 12,
    "start_time": "2021-09-12T23:34:35.208Z"
   },
   {
    "duration": 11,
    "start_time": "2021-09-12T23:34:35.242Z"
   },
   {
    "duration": 2931,
    "start_time": "2021-09-12T23:34:35.255Z"
   },
   {
    "duration": 10,
    "start_time": "2021-09-12T23:34:38.188Z"
   },
   {
    "duration": 56,
    "start_time": "2021-09-12T23:34:38.200Z"
   },
   {
    "duration": 90,
    "start_time": "2021-09-12T23:34:38.258Z"
   },
   {
    "duration": 106,
    "start_time": "2021-09-12T23:34:38.351Z"
   },
   {
    "duration": 15,
    "start_time": "2021-09-12T23:34:38.458Z"
   },
   {
    "duration": 7,
    "start_time": "2021-09-12T23:34:38.477Z"
   },
   {
    "duration": 2413,
    "start_time": "2021-09-12T23:34:38.486Z"
   },
   {
    "duration": 27,
    "start_time": "2021-09-12T23:34:40.900Z"
   },
   {
    "duration": 9,
    "start_time": "2021-09-12T23:34:40.941Z"
   },
   {
    "duration": 217,
    "start_time": "2021-09-12T23:34:40.952Z"
   },
   {
    "duration": 193,
    "start_time": "2021-09-12T23:34:41.171Z"
   },
   {
    "duration": 7,
    "start_time": "2021-09-12T23:34:41.365Z"
   },
   {
    "duration": 9,
    "start_time": "2021-09-12T23:34:41.373Z"
   },
   {
    "duration": 189,
    "start_time": "2021-09-12T23:34:41.383Z"
   },
   {
    "duration": 281,
    "start_time": "2021-09-12T23:34:41.574Z"
   },
   {
    "duration": 7,
    "start_time": "2021-09-12T23:34:41.857Z"
   },
   {
    "duration": 118,
    "start_time": "2021-09-13T09:57:02.222Z"
   },
   {
    "duration": 1714,
    "start_time": "2021-09-13T09:59:15.692Z"
   },
   {
    "duration": 30,
    "start_time": "2021-09-13T09:59:17.409Z"
   },
   {
    "duration": 31,
    "start_time": "2021-09-13T09:59:17.441Z"
   },
   {
    "duration": 12,
    "start_time": "2021-09-13T09:59:20.513Z"
   },
   {
    "duration": 4,
    "start_time": "2021-09-13T09:59:22.252Z"
   },
   {
    "duration": 26,
    "start_time": "2021-09-13T09:59:37.657Z"
   },
   {
    "duration": 6,
    "start_time": "2021-09-13T10:00:08.878Z"
   },
   {
    "duration": 7,
    "start_time": "2021-09-13T10:00:30.069Z"
   },
   {
    "duration": 130,
    "start_time": "2021-09-13T10:00:30.080Z"
   },
   {
    "duration": 116,
    "start_time": "2021-09-13T10:12:20.736Z"
   },
   {
    "duration": 125,
    "start_time": "2021-09-13T10:14:07.873Z"
   },
   {
    "duration": 109,
    "start_time": "2021-09-13T10:47:31.426Z"
   },
   {
    "duration": 122,
    "start_time": "2021-09-13T10:55:26.457Z"
   },
   {
    "duration": 122,
    "start_time": "2021-09-13T11:17:41.360Z"
   },
   {
    "duration": 110,
    "start_time": "2021-09-13T11:21:43.904Z"
   },
   {
    "duration": 103,
    "start_time": "2021-09-13T11:28:19.947Z"
   },
   {
    "duration": 359,
    "start_time": "2021-09-13T18:39:47.753Z"
   },
   {
    "duration": 1666,
    "start_time": "2021-09-13T18:39:56.229Z"
   },
   {
    "duration": 35,
    "start_time": "2021-09-13T18:39:57.898Z"
   },
   {
    "duration": 26,
    "start_time": "2021-09-13T18:39:57.936Z"
   },
   {
    "duration": 12,
    "start_time": "2021-09-13T18:39:58.398Z"
   },
   {
    "duration": 4,
    "start_time": "2021-09-13T18:39:58.941Z"
   },
   {
    "duration": 16,
    "start_time": "2021-09-13T18:39:59.280Z"
   },
   {
    "duration": 6,
    "start_time": "2021-09-13T18:39:59.437Z"
   },
   {
    "duration": 9,
    "start_time": "2021-09-13T18:39:59.918Z"
   },
   {
    "duration": 6,
    "start_time": "2021-09-13T18:40:00.155Z"
   },
   {
    "duration": 54,
    "start_time": "2021-09-13T18:40:00.374Z"
   },
   {
    "duration": 996,
    "start_time": "2021-09-13T18:40:00.585Z"
   },
   {
    "duration": 5,
    "start_time": "2021-09-13T18:40:01.584Z"
   },
   {
    "duration": 21,
    "start_time": "2021-09-13T18:40:02.558Z"
   },
   {
    "duration": 8,
    "start_time": "2021-09-13T18:40:03.336Z"
   },
   {
    "duration": 4117,
    "start_time": "2021-09-13T18:40:04.172Z"
   },
   {
    "duration": 17,
    "start_time": "2021-09-13T18:40:13.409Z"
   },
   {
    "duration": 16,
    "start_time": "2021-09-13T18:40:14.173Z"
   },
   {
    "duration": 16,
    "start_time": "2021-09-13T18:40:15.749Z"
   },
   {
    "duration": 3457,
    "start_time": "2021-09-13T18:40:18.782Z"
   },
   {
    "duration": 4847,
    "start_time": "2021-09-13T18:41:28.681Z"
   },
   {
    "duration": 28,
    "start_time": "2021-09-13T18:41:45.215Z"
   },
   {
    "duration": 6,
    "start_time": "2021-09-13T18:41:59.517Z"
   },
   {
    "duration": 14,
    "start_time": "2021-09-13T18:42:47.067Z"
   },
   {
    "duration": 31,
    "start_time": "2021-09-13T18:42:51.696Z"
   },
   {
    "duration": 15,
    "start_time": "2021-09-13T18:43:16.401Z"
   },
   {
    "duration": 42,
    "start_time": "2021-09-13T18:43:17.374Z"
   },
   {
    "duration": 6,
    "start_time": "2021-09-13T18:43:40.143Z"
   },
   {
    "duration": 32,
    "start_time": "2021-09-13T18:43:40.334Z"
   },
   {
    "duration": 28,
    "start_time": "2021-09-13T18:43:40.505Z"
   },
   {
    "duration": 11,
    "start_time": "2021-09-13T18:43:41.155Z"
   },
   {
    "duration": 4,
    "start_time": "2021-09-13T18:43:41.433Z"
   },
   {
    "duration": 16,
    "start_time": "2021-09-13T18:43:41.669Z"
   },
   {
    "duration": 5,
    "start_time": "2021-09-13T18:43:41.804Z"
   },
   {
    "duration": 14,
    "start_time": "2021-09-13T18:43:42.061Z"
   },
   {
    "duration": 6,
    "start_time": "2021-09-13T18:43:42.182Z"
   },
   {
    "duration": 61,
    "start_time": "2021-09-13T18:43:42.303Z"
   },
   {
    "duration": 963,
    "start_time": "2021-09-13T18:43:42.436Z"
   },
   {
    "duration": 16,
    "start_time": "2021-09-13T18:43:43.403Z"
   },
   {
    "duration": 21,
    "start_time": "2021-09-13T18:43:43.427Z"
   },
   {
    "duration": 8,
    "start_time": "2021-09-13T18:43:44.304Z"
   },
   {
    "duration": 4124,
    "start_time": "2021-09-13T18:43:44.950Z"
   },
   {
    "duration": 14,
    "start_time": "2021-09-13T18:43:49.076Z"
   },
   {
    "duration": 34,
    "start_time": "2021-09-13T18:43:49.093Z"
   },
   {
    "duration": 14,
    "start_time": "2021-09-13T18:43:50.931Z"
   },
   {
    "duration": 4988,
    "start_time": "2021-09-13T18:43:52.081Z"
   },
   {
    "duration": 18,
    "start_time": "2021-09-13T18:43:59.697Z"
   },
   {
    "duration": 28,
    "start_time": "2021-09-13T18:44:00.442Z"
   },
   {
    "duration": 7,
    "start_time": "2021-09-13T18:45:50.690Z"
   },
   {
    "duration": 40,
    "start_time": "2021-09-13T18:45:50.720Z"
   },
   {
    "duration": 18,
    "start_time": "2021-09-13T18:45:50.763Z"
   },
   {
    "duration": 11,
    "start_time": "2021-09-13T18:45:50.874Z"
   },
   {
    "duration": 5,
    "start_time": "2021-09-13T18:45:50.928Z"
   },
   {
    "duration": 17,
    "start_time": "2021-09-13T18:45:50.986Z"
   },
   {
    "duration": 113,
    "start_time": "2021-09-13T18:45:51.017Z"
   },
   {
    "duration": 32,
    "start_time": "2021-09-13T18:45:51.133Z"
   },
   {
    "duration": 15,
    "start_time": "2021-09-13T18:45:51.168Z"
   },
   {
    "duration": 60,
    "start_time": "2021-09-13T18:45:51.186Z"
   },
   {
    "duration": 1086,
    "start_time": "2021-09-13T18:45:51.248Z"
   },
   {
    "duration": 6,
    "start_time": "2021-09-13T18:45:52.337Z"
   },
   {
    "duration": 59,
    "start_time": "2021-09-13T18:45:52.345Z"
   },
   {
    "duration": 8,
    "start_time": "2021-09-13T18:45:52.407Z"
   },
   {
    "duration": 3866,
    "start_time": "2021-09-13T18:45:53.382Z"
   },
   {
    "duration": 15,
    "start_time": "2021-09-13T18:45:57.251Z"
   },
   {
    "duration": 15,
    "start_time": "2021-09-13T18:45:57.269Z"
   },
   {
    "duration": 17,
    "start_time": "2021-09-13T18:45:57.316Z"
   },
   {
    "duration": 5372,
    "start_time": "2021-09-13T18:45:58.031Z"
   },
   {
    "duration": 13,
    "start_time": "2021-09-13T18:46:05.568Z"
   },
   {
    "duration": 29,
    "start_time": "2021-09-13T18:46:06.525Z"
   },
   {
    "duration": 17,
    "start_time": "2021-09-13T18:51:57.046Z"
   },
   {
    "duration": 16,
    "start_time": "2021-09-13T18:52:34.187Z"
   },
   {
    "duration": 87,
    "start_time": "2021-09-13T18:52:38.031Z"
   },
   {
    "duration": 5,
    "start_time": "2021-09-13T18:52:38.401Z"
   },
   {
    "duration": 15,
    "start_time": "2021-09-13T18:52:52.193Z"
   },
   {
    "duration": 3091,
    "start_time": "2021-09-13T18:53:20.906Z"
   },
   {
    "duration": 45,
    "start_time": "2021-09-13T18:53:45.272Z"
   },
   {
    "duration": 8,
    "start_time": "2021-09-13T18:54:27.293Z"
   },
   {
    "duration": 398,
    "start_time": "2021-09-13T19:00:59.444Z"
   },
   {
    "duration": 1646,
    "start_time": "2021-09-13T19:01:32.259Z"
   },
   {
    "duration": 36,
    "start_time": "2021-09-13T19:01:33.907Z"
   },
   {
    "duration": 24,
    "start_time": "2021-09-13T19:01:33.947Z"
   },
   {
    "duration": 15,
    "start_time": "2021-09-13T19:01:33.974Z"
   },
   {
    "duration": 24,
    "start_time": "2021-09-13T19:01:33.992Z"
   },
   {
    "duration": 22,
    "start_time": "2021-09-13T19:01:34.020Z"
   },
   {
    "duration": 4,
    "start_time": "2021-09-13T19:01:34.045Z"
   },
   {
    "duration": 12,
    "start_time": "2021-09-13T19:01:34.053Z"
   },
   {
    "duration": 6,
    "start_time": "2021-09-13T19:01:34.068Z"
   },
   {
    "duration": 55,
    "start_time": "2021-09-13T19:01:34.117Z"
   },
   {
    "duration": 1318,
    "start_time": "2021-09-13T19:01:34.174Z"
   },
   {
    "duration": 6,
    "start_time": "2021-09-13T19:01:35.495Z"
   },
   {
    "duration": 32,
    "start_time": "2021-09-13T19:01:35.517Z"
   },
   {
    "duration": 9,
    "start_time": "2021-09-13T19:01:35.552Z"
   },
   {
    "duration": 4205,
    "start_time": "2021-09-13T19:01:35.565Z"
   },
   {
    "duration": 17,
    "start_time": "2021-09-13T19:01:39.773Z"
   },
   {
    "duration": 36,
    "start_time": "2021-09-13T19:01:39.793Z"
   },
   {
    "duration": 14,
    "start_time": "2021-09-13T19:01:39.832Z"
   },
   {
    "duration": 5929,
    "start_time": "2021-09-13T19:01:39.849Z"
   },
   {
    "duration": 33,
    "start_time": "2021-09-13T19:01:45.783Z"
   },
   {
    "duration": 18,
    "start_time": "2021-09-13T19:01:45.819Z"
   },
   {
    "duration": 33,
    "start_time": "2021-09-13T19:01:45.840Z"
   },
   {
    "duration": 142,
    "start_time": "2021-09-13T19:01:45.878Z"
   },
   {
    "duration": 93,
    "start_time": "2021-09-13T19:01:46.024Z"
   },
   {
    "duration": 102,
    "start_time": "2021-09-13T19:01:46.120Z"
   },
   {
    "duration": 4,
    "start_time": "2021-09-13T19:01:46.225Z"
   },
   {
    "duration": 20,
    "start_time": "2021-09-13T19:01:46.232Z"
   },
   {
    "duration": 3087,
    "start_time": "2021-09-13T19:01:46.255Z"
   },
   {
    "duration": 46,
    "start_time": "2021-09-13T19:01:49.344Z"
   },
   {
    "duration": 32,
    "start_time": "2021-09-13T19:01:49.393Z"
   },
   {
    "duration": 352,
    "start_time": "2021-09-13T19:01:49.428Z"
   },
   {
    "duration": 437,
    "start_time": "2021-09-13T19:01:49.783Z"
   },
   {
    "duration": 9,
    "start_time": "2021-09-13T19:01:50.222Z"
   },
   {
    "duration": 17,
    "start_time": "2021-09-13T19:01:50.234Z"
   },
   {
    "duration": 353,
    "start_time": "2021-09-13T19:01:50.254Z"
   },
   {
    "duration": 383,
    "start_time": "2021-09-13T19:01:50.617Z"
   },
   {
    "duration": 21,
    "start_time": "2021-09-13T19:01:51.003Z"
   },
   {
    "duration": 1629,
    "start_time": "2021-09-13T20:01:47.068Z"
   },
   {
    "duration": 34,
    "start_time": "2021-09-13T20:01:48.700Z"
   },
   {
    "duration": 23,
    "start_time": "2021-09-13T20:01:48.738Z"
   },
   {
    "duration": 21,
    "start_time": "2021-09-13T20:01:48.764Z"
   },
   {
    "duration": 12,
    "start_time": "2021-09-13T20:01:48.788Z"
   },
   {
    "duration": 30,
    "start_time": "2021-09-13T20:01:48.803Z"
   },
   {
    "duration": 5,
    "start_time": "2021-09-13T20:01:48.836Z"
   },
   {
    "duration": 29,
    "start_time": "2021-09-13T20:01:48.844Z"
   },
   {
    "duration": 14,
    "start_time": "2021-09-13T20:01:48.877Z"
   },
   {
    "duration": 68,
    "start_time": "2021-09-13T20:01:48.894Z"
   },
   {
    "duration": 961,
    "start_time": "2021-09-13T20:01:48.965Z"
   },
   {
    "duration": 6,
    "start_time": "2021-09-13T20:01:49.929Z"
   },
   {
    "duration": 28,
    "start_time": "2021-09-13T20:01:49.937Z"
   },
   {
    "duration": 8,
    "start_time": "2021-09-13T20:01:49.968Z"
   },
   {
    "duration": 3928,
    "start_time": "2021-09-13T20:01:49.978Z"
   },
   {
    "duration": 14,
    "start_time": "2021-09-13T20:01:53.916Z"
   },
   {
    "duration": 16,
    "start_time": "2021-09-13T20:01:53.933Z"
   },
   {
    "duration": 14,
    "start_time": "2021-09-13T20:01:53.951Z"
   },
   {
    "duration": 5028,
    "start_time": "2021-09-13T20:01:53.968Z"
   },
   {
    "duration": 21,
    "start_time": "2021-09-13T20:01:58.999Z"
   },
   {
    "duration": 18,
    "start_time": "2021-09-13T20:01:59.022Z"
   },
   {
    "duration": 16,
    "start_time": "2021-09-13T20:01:59.042Z"
   },
   {
    "duration": 92,
    "start_time": "2021-09-13T20:01:59.061Z"
   },
   {
    "duration": 160,
    "start_time": "2021-09-13T20:01:59.157Z"
   },
   {
    "duration": 29,
    "start_time": "2021-09-13T20:01:59.319Z"
   },
   {
    "duration": 6,
    "start_time": "2021-09-13T20:01:59.351Z"
   },
   {
    "duration": 22,
    "start_time": "2021-09-13T20:01:59.362Z"
   },
   {
    "duration": 3143,
    "start_time": "2021-09-13T20:01:59.387Z"
   },
   {
    "duration": 44,
    "start_time": "2021-09-13T20:02:02.533Z"
   },
   {
    "duration": 12,
    "start_time": "2021-09-13T20:02:02.580Z"
   },
   {
    "duration": 335,
    "start_time": "2021-09-13T20:02:02.617Z"
   },
   {
    "duration": 335,
    "start_time": "2021-09-13T20:02:02.955Z"
   },
   {
    "duration": 24,
    "start_time": "2021-09-13T20:02:03.293Z"
   },
   {
    "duration": 13,
    "start_time": "2021-09-13T20:02:03.320Z"
   },
   {
    "duration": 312,
    "start_time": "2021-09-13T20:02:03.336Z"
   },
   {
    "duration": 321,
    "start_time": "2021-09-13T20:02:03.651Z"
   },
   {
    "duration": 11,
    "start_time": "2021-09-13T20:02:03.976Z"
   },
   {
    "duration": 1738,
    "start_time": "2021-09-14T08:03:19.554Z"
   },
   {
    "duration": 34,
    "start_time": "2021-09-14T08:03:21.295Z"
   },
   {
    "duration": 32,
    "start_time": "2021-09-14T08:03:21.332Z"
   },
   {
    "duration": 11,
    "start_time": "2021-09-14T08:04:33.383Z"
   },
   {
    "duration": 117,
    "start_time": "2021-09-14T08:07:31.704Z"
   },
   {
    "duration": 98,
    "start_time": "2021-09-14T08:39:43.488Z"
   },
   {
    "duration": 1989,
    "start_time": "2022-03-30T09:25:31.824Z"
   },
   {
    "duration": 152,
    "start_time": "2022-03-30T09:25:35.575Z"
   },
   {
    "duration": 17,
    "start_time": "2022-03-30T09:25:36.619Z"
   },
   {
    "duration": 28,
    "start_time": "2022-03-30T09:26:26.181Z"
   },
   {
    "duration": 129,
    "start_time": "2022-03-30T09:26:44.328Z"
   },
   {
    "duration": 12,
    "start_time": "2022-03-30T09:27:11.982Z"
   },
   {
    "duration": 7,
    "start_time": "2022-03-30T09:27:22.582Z"
   },
   {
    "duration": 46,
    "start_time": "2022-03-30T09:27:22.931Z"
   },
   {
    "duration": 12,
    "start_time": "2022-03-30T09:27:23.353Z"
   },
   {
    "duration": 12,
    "start_time": "2022-03-30T09:27:24.287Z"
   },
   {
    "duration": 3,
    "start_time": "2022-03-30T09:27:24.856Z"
   },
   {
    "duration": 11,
    "start_time": "2022-03-30T09:27:39.803Z"
   },
   {
    "duration": 3,
    "start_time": "2022-03-30T09:27:40.854Z"
   },
   {
    "duration": 6,
    "start_time": "2022-03-30T09:27:42.303Z"
   },
   {
    "duration": 5,
    "start_time": "2022-03-30T09:27:42.660Z"
   },
   {
    "duration": 42,
    "start_time": "2022-03-30T09:27:43.027Z"
   },
   {
    "duration": 977,
    "start_time": "2022-03-30T09:27:43.627Z"
   },
   {
    "duration": 4,
    "start_time": "2022-03-30T09:27:45.638Z"
   },
   {
    "duration": 15,
    "start_time": "2022-03-30T09:27:46.110Z"
   },
   {
    "duration": 5,
    "start_time": "2022-03-30T09:27:46.623Z"
   },
   {
    "duration": 2813,
    "start_time": "2022-03-30T09:27:47.503Z"
   },
   {
    "duration": 12,
    "start_time": "2022-03-30T09:27:50.318Z"
   },
   {
    "duration": 12,
    "start_time": "2022-03-30T09:27:50.775Z"
   },
   {
    "duration": 11,
    "start_time": "2022-03-30T09:27:52.821Z"
   },
   {
    "duration": 12,
    "start_time": "2022-03-30T09:28:00.578Z"
   },
   {
    "duration": 12,
    "start_time": "2022-03-30T09:28:00.943Z"
   },
   {
    "duration": 10,
    "start_time": "2022-03-30T09:28:04.973Z"
   },
   {
    "duration": 3387,
    "start_time": "2022-03-30T09:28:10.802Z"
   },
   {
    "duration": 4734,
    "start_time": "2022-03-30T09:28:30.391Z"
   },
   {
    "duration": 137,
    "start_time": "2022-03-30T09:29:31.775Z"
   },
   {
    "duration": 11325,
    "start_time": "2022-03-30T09:30:01.195Z"
   },
   {
    "duration": 208,
    "start_time": "2022-03-30T09:30:16.750Z"
   },
   {
    "duration": 35143,
    "start_time": "2022-03-30T09:30:34.146Z"
   },
   {
    "duration": 134,
    "start_time": "2022-03-30T09:31:20.188Z"
   },
   {
    "duration": 42,
    "start_time": "2022-03-30T09:33:12.861Z"
   },
   {
    "duration": 7,
    "start_time": "2022-03-30T09:33:36.561Z"
   },
   {
    "duration": 7668,
    "start_time": "2022-03-30T09:34:29.522Z"
   },
   {
    "duration": 211,
    "start_time": "2022-03-30T09:34:40.810Z"
   },
   {
    "duration": 10,
    "start_time": "2022-03-30T09:34:44.260Z"
   },
   {
    "duration": 7,
    "start_time": "2022-03-30T09:34:44.837Z"
   },
   {
    "duration": 3064,
    "start_time": "2022-03-30T09:34:55.417Z"
   },
   {
    "duration": 203,
    "start_time": "2022-03-30T09:35:00.108Z"
   },
   {
    "duration": 5,
    "start_time": "2022-03-30T09:35:03.134Z"
   },
   {
    "duration": 7,
    "start_time": "2022-03-30T09:35:04.136Z"
   },
   {
    "duration": 7885,
    "start_time": "2022-03-30T09:35:09.943Z"
   },
   {
    "duration": 137,
    "start_time": "2022-03-30T09:35:18.465Z"
   },
   {
    "duration": 5,
    "start_time": "2022-03-30T09:35:21.745Z"
   },
   {
    "duration": 7,
    "start_time": "2022-03-30T09:35:22.821Z"
   },
   {
    "duration": 36393,
    "start_time": "2022-03-30T09:35:34.540Z"
   }
  ],
  "kernelspec": {
   "display_name": "Python 3 (ipykernel)",
   "language": "python",
   "name": "python3"
  },
  "language_info": {
   "codemirror_mode": {
    "name": "ipython",
    "version": 3
   },
   "file_extension": ".py",
   "mimetype": "text/x-python",
   "name": "python",
   "nbconvert_exporter": "python",
   "pygments_lexer": "ipython3",
   "version": "3.9.7"
  },
  "toc": {
   "base_numbering": 1,
   "nav_menu": {},
   "number_sections": true,
   "sideBar": true,
   "skip_h1_title": true,
   "title_cell": "Table of Contents",
   "title_sidebar": "Contents",
   "toc_cell": false,
   "toc_position": {},
   "toc_section_display": true,
   "toc_window_display": false
  }
 },
 "nbformat": 4,
 "nbformat_minor": 2
}
